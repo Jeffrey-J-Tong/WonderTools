{
 "cells": [
  {
   "cell_type": "code",
   "execution_count": null,
   "metadata": {},
   "outputs": [
    {
     "name": "stdout",
     "output_type": "stream",
     "text": [
      "SpikeInterface version: 0.102.0\n"
     ]
    }
   ],
   "source": [
    "import spikeinterface.full as si\n",
    "import matplotlib.pyplot as plt\n",
    "import numpy as np\n",
    "from pathlib import Path\n",
    "import os\n",
    "import warnings\n",
    "from pprint import pprint\n",
    "print(f\"SpikeInterface version: {si.__version__}\")\n",
    "warnings.simplefilter(\"ignore\")\n",
    "%matplotlib inline"
   ]
  },
  {
   "cell_type": "code",
   "execution_count": 2,
   "metadata": {},
   "outputs": [
    {
     "name": "stdout",
     "output_type": "stream",
     "text": [
      "\u001b[1;31mInit signature:\u001b[0m\n",
      "\u001b[0msi\u001b[0m\u001b[1;33m.\u001b[0m\u001b[0mread_binary\u001b[0m\u001b[1;33m(\u001b[0m\u001b[1;33m\n",
      "\u001b[0m    \u001b[0mfile_paths\u001b[0m\u001b[1;33m,\u001b[0m\u001b[1;33m\n",
      "\u001b[0m    \u001b[0msampling_frequency\u001b[0m\u001b[1;33m,\u001b[0m\u001b[1;33m\n",
      "\u001b[0m    \u001b[0mdtype\u001b[0m\u001b[1;33m,\u001b[0m\u001b[1;33m\n",
      "\u001b[0m    \u001b[0mnum_channels\u001b[0m\u001b[1;33m=\u001b[0m\u001b[1;32mNone\u001b[0m\u001b[1;33m,\u001b[0m\u001b[1;33m\n",
      "\u001b[0m    \u001b[0mt_starts\u001b[0m\u001b[1;33m=\u001b[0m\u001b[1;32mNone\u001b[0m\u001b[1;33m,\u001b[0m\u001b[1;33m\n",
      "\u001b[0m    \u001b[0mchannel_ids\u001b[0m\u001b[1;33m=\u001b[0m\u001b[1;32mNone\u001b[0m\u001b[1;33m,\u001b[0m\u001b[1;33m\n",
      "\u001b[0m    \u001b[0mtime_axis\u001b[0m\u001b[1;33m=\u001b[0m\u001b[1;36m0\u001b[0m\u001b[1;33m,\u001b[0m\u001b[1;33m\n",
      "\u001b[0m    \u001b[0mfile_offset\u001b[0m\u001b[1;33m=\u001b[0m\u001b[1;36m0\u001b[0m\u001b[1;33m,\u001b[0m\u001b[1;33m\n",
      "\u001b[0m    \u001b[0mgain_to_uV\u001b[0m\u001b[1;33m=\u001b[0m\u001b[1;32mNone\u001b[0m\u001b[1;33m,\u001b[0m\u001b[1;33m\n",
      "\u001b[0m    \u001b[0moffset_to_uV\u001b[0m\u001b[1;33m=\u001b[0m\u001b[1;32mNone\u001b[0m\u001b[1;33m,\u001b[0m\u001b[1;33m\n",
      "\u001b[0m    \u001b[0mis_filtered\u001b[0m\u001b[1;33m=\u001b[0m\u001b[1;32mNone\u001b[0m\u001b[1;33m,\u001b[0m\u001b[1;33m\n",
      "\u001b[0m    \u001b[0mnum_chan\u001b[0m\u001b[1;33m=\u001b[0m\u001b[1;32mNone\u001b[0m\u001b[1;33m,\u001b[0m\u001b[1;33m\n",
      "\u001b[0m\u001b[1;33m)\u001b[0m\u001b[1;33m\u001b[0m\u001b[1;33m\u001b[0m\u001b[0m\n",
      "\u001b[1;31mDocstring:\u001b[0m     \n",
      "RecordingExtractor for a binary format\n",
      "\n",
      "Parameters\n",
      "----------\n",
      "file_paths : str or Path or list\n",
      "    Path to the binary file\n",
      "sampling_frequency : float\n",
      "    The sampling frequency\n",
      "num_channels : int\n",
      "    Number of channels\n",
      "num_chan : int [deprecated, use num_channels instead, will be removed as early as v0.100.0]\n",
      "    Number of channels\n",
      "dtype : str or dtype\n",
      "    The dtype of the binary file\n",
      "time_axis : int, default: 0\n",
      "    The axis of the time dimension\n",
      "t_starts : None or list of float, default: None\n",
      "    Times in seconds of the first sample for each segment\n",
      "channel_ids : list, default: None\n",
      "    A list of channel ids\n",
      "file_offset : int, default: 0\n",
      "    Number of bytes in the file to offset by during memmap instantiation.\n",
      "gain_to_uV : float or array-like, default: None\n",
      "    The gain to apply to the traces\n",
      "offset_to_uV : float or array-like, default: None\n",
      "    The offset to apply to the traces\n",
      "is_filtered : bool or None, default: None\n",
      "    If True, the recording is assumed to be filtered. If None, is_filtered is not set.\n",
      "\n",
      "Notes\n",
      "-----\n",
      "When both num_channels and num_chan are provided, `num_channels` is used and `num_chan` is ignored.\n",
      "\n",
      "Returns\n",
      "-------\n",
      "recording : BinaryRecordingExtractor\n",
      "    The recording Extractor\n",
      "\u001b[1;31mFile:\u001b[0m           c:\\users\\jeff\\anaconda3\\envs\\si\\lib\\site-packages\\spikeinterface\\core\\binaryrecordingextractor.py\n",
      "\u001b[1;31mType:\u001b[0m           type\n",
      "\u001b[1;31mSubclasses:\u001b[0m     BinaryFolderRecording, SHYBRIDRecordingExtractor"
     ]
    }
   ],
   "source": [
    "si.read_binary?"
   ]
  },
  {
   "cell_type": "code",
   "execution_count": 2,
   "metadata": {},
   "outputs": [
    {
     "name": "stdout",
     "output_type": "stream",
     "text": [
      "{'dtype': 'int16',\n",
      " 'gain_to_uV': 0.195,\n",
      " 'num_channels': 64,\n",
      " 'sampling_frequency': 20000}\n"
     ]
    },
    {
     "data": {
      "text/html": [
       "<div style='border:1px solid #ddd; padding:10px;'><strong>BinaryRecordingExtractor: 64 channels - 20.0kHz - 1 segments - 9,608,400 samples - 480.42s (8.01 minutes) - int16 dtype - 1.15 GiB</strong></div><details style='margin-left: 10px;'>  <summary><strong>Channel IDs</strong></summary><ul>[ 0  1  2  3  4  5  6  7  8  9 10 11 12 13 14 15 16 17 18 19 20 21 22 23\n",
       " 24 25 26 27 28 29 30 31 32 33 34 35 36 37 38 39 40 41 42 43 44 45 46 47\n",
       " 48 49 50 51 52 53 54 55 56 57 58 59 60 61 62 63] </details><details style='margin-left: 10px;'>  <summary><strong>Annotations</strong></summary><ul><li> <strong> is_filtered </strong>: False</li></ul> </details><details style='margin-left: 10px;'><summary><strong>Channel Properties</strong></summary><ul><details><summary> <strong> gain_to_uV </strong> </summary>[0.195 0.195 0.195 0.195 0.195 0.195 0.195 0.195 0.195 0.195 0.195 0.195\n",
       " 0.195 0.195 0.195 0.195 0.195 0.195 0.195 0.195 0.195 0.195 0.195 0.195\n",
       " 0.195 0.195 0.195 0.195 0.195 0.195 0.195 0.195 0.195 0.195 0.195 0.195\n",
       " 0.195 0.195 0.195 0.195 0.195 0.195 0.195 0.195 0.195 0.195 0.195 0.195\n",
       " 0.195 0.195 0.195 0.195 0.195 0.195 0.195 0.195 0.195 0.195 0.195 0.195\n",
       " 0.195 0.195 0.195 0.195]</details></ul></details>"
      ],
      "text/plain": [
       "BinaryRecordingExtractor: 64 channels - 20.0kHz - 1 segments - 9,608,400 samples \n",
       "                          480.42s (8.01 minutes) - int16 dtype - 1.15 GiB\n",
       "  file_paths: ['D:\\\\si_test\\\\LE24_240604_150112\\\\amplifier.dat']"
      ]
     },
     "execution_count": 2,
     "metadata": {},
     "output_type": "execute_result"
    }
   ],
   "source": [
    "# read recording\n",
    "base_folder = Path(\"D:\\si_test\\LE24_240604_150112\")\n",
    "data_path = base_folder / \"amplifier.dat\"\n",
    "record_params = dict(\n",
    "    sampling_frequency=20000, dtype='int16', num_channels=64,\n",
    "    gain_to_uV=0.195\n",
    ")\n",
    "pprint(record_params)\n",
    "raw_data = si.read_binary(data_path, **record_params)\n",
    "raw_data"
   ]
  },
  {
   "cell_type": "code",
   "execution_count": 3,
   "metadata": {},
   "outputs": [
    {
     "data": {
      "image/png": "[encoded data removed]",
      "text/plain": [
       "<Figure size 640x480 with 1 Axes>"
      ]
     },
     "metadata": {},
     "output_type": "display_data"
    }
   ],
   "source": [
    "# visualize raw data\n",
    "w_ts = si.plot_traces(raw_data, time_range=(0, 5), channel_ids=tuple(range(0, 32)))\n",
    "# visualize spike data\n",
    "# w_rs = sw.plot_rasters(sorting_true, time_range=(0, 5))"
   ]
  },
  {
   "cell_type": "code",
   "execution_count": 4,
   "metadata": {},
   "outputs": [
    {
     "data": {
      "application/vnd.microsoft.datawrangler.viewer.v0+json": {
       "columns": [
        {
         "name": "index",
         "rawType": "int64",
         "type": "integer"
        },
        {
         "name": "probe_index",
         "rawType": "int64",
         "type": "integer"
        },
        {
         "name": "x",
         "rawType": "float64",
         "type": "float"
        },
        {
         "name": "y",
         "rawType": "float64",
         "type": "float"
        },
        {
         "name": "contact_shapes",
         "rawType": "object",
         "type": "string"
        },
        {
         "name": "radius",
         "rawType": "float64",
         "type": "float"
        },
        {
         "name": "shank_ids",
         "rawType": "object",
         "type": "string"
        },
        {
         "name": "contact_ids",
         "rawType": "object",
         "type": "string"
        }
       ],
       "conversionMethod": "pd.DataFrame",
       "ref": "ab1506f9-428e-4ec3-a409-3af21f5db393",
       "rows": [
        [
         "0",
         "0",
         "10.0",
         "0.0",
         "circle",
         "6.0",
         "",
         ""
        ],
        [
         "1",
         "0",
         "6.123233995736766e-16",
         "10.0",
         "circle",
         "6.0",
         "",
         ""
        ],
        [
         "2",
         "0",
         "-10.0",
         "1.2246467991473533e-15",
         "circle",
         "6.0",
         "",
         ""
        ],
        [
         "3",
         "0",
         "-1.8369701987210296e-15",
         "-10.0",
         "circle",
         "6.0",
         "",
         ""
        ],
        [
         "4",
         "1",
         "60.0",
         "0.0",
         "circle",
         "6.0",
         "",
         ""
        ],
        [
         "5",
         "1",
         "50.0",
         "10.0",
         "circle",
         "6.0",
         "",
         ""
        ],
        [
         "6",
         "1",
         "40.0",
         "1.2246467991473533e-15",
         "circle",
         "6.0",
         "",
         ""
        ],
        [
         "7",
         "1",
         "50.0",
         "-10.0",
         "circle",
         "6.0",
         "",
         ""
        ],
        [
         "8",
         "2",
         "110.0",
         "0.0",
         "circle",
         "6.0",
         "",
         ""
        ],
        [
         "9",
         "2",
         "100.0",
         "10.0",
         "circle",
         "6.0",
         "",
         ""
        ],
        [
         "10",
         "2",
         "90.0",
         "1.2246467991473533e-15",
         "circle",
         "6.0",
         "",
         ""
        ],
        [
         "11",
         "2",
         "100.0",
         "-10.0",
         "circle",
         "6.0",
         "",
         ""
        ],
        [
         "12",
         "3",
         "160.0",
         "0.0",
         "circle",
         "6.0",
         "",
         ""
        ],
        [
         "13",
         "3",
         "150.0",
         "10.0",
         "circle",
         "6.0",
         "",
         ""
        ],
        [
         "14",
         "3",
         "140.0",
         "1.2246467991473533e-15",
         "circle",
         "6.0",
         "",
         ""
        ],
        [
         "15",
         "3",
         "150.0",
         "-10.0",
         "circle",
         "6.0",
         "",
         ""
        ],
        [
         "16",
         "4",
         "210.0",
         "0.0",
         "circle",
         "6.0",
         "",
         ""
        ],
        [
         "17",
         "4",
         "200.0",
         "10.0",
         "circle",
         "6.0",
         "",
         ""
        ],
        [
         "18",
         "4",
         "190.0",
         "1.2246467991473533e-15",
         "circle",
         "6.0",
         "",
         ""
        ],
        [
         "19",
         "4",
         "200.0",
         "-10.0",
         "circle",
         "6.0",
         "",
         ""
        ],
        [
         "20",
         "5",
         "260.0",
         "0.0",
         "circle",
         "6.0",
         "",
         ""
        ],
        [
         "21",
         "5",
         "250.0",
         "10.0",
         "circle",
         "6.0",
         "",
         ""
        ],
        [
         "22",
         "5",
         "240.0",
         "1.2246467991473533e-15",
         "circle",
         "6.0",
         "",
         ""
        ],
        [
         "23",
         "5",
         "250.0",
         "-10.0",
         "circle",
         "6.0",
         "",
         ""
        ],
        [
         "24",
         "6",
         "310.0",
         "0.0",
         "circle",
         "6.0",
         "",
         ""
        ],
        [
         "25",
         "6",
         "300.0",
         "10.0",
         "circle",
         "6.0",
         "",
         ""
        ],
        [
         "26",
         "6",
         "290.0",
         "1.2246467991473533e-15",
         "circle",
         "6.0",
         "",
         ""
        ],
        [
         "27",
         "6",
         "300.0",
         "-10.0",
         "circle",
         "6.0",
         "",
         ""
        ],
        [
         "28",
         "7",
         "360.0",
         "0.0",
         "circle",
         "6.0",
         "",
         ""
        ],
        [
         "29",
         "7",
         "350.0",
         "10.0",
         "circle",
         "6.0",
         "",
         ""
        ],
        [
         "30",
         "7",
         "340.0",
         "1.2246467991473533e-15",
         "circle",
         "6.0",
         "",
         ""
        ],
        [
         "31",
         "7",
         "350.0",
         "-10.0",
         "circle",
         "6.0",
         "",
         ""
        ],
        [
         "32",
         "8",
         "410.0",
         "0.0",
         "circle",
         "6.0",
         "",
         ""
        ],
        [
         "33",
         "8",
         "400.0",
         "10.0",
         "circle",
         "6.0",
         "",
         ""
        ],
        [
         "34",
         "8",
         "390.0",
         "1.2246467991473533e-15",
         "circle",
         "6.0",
         "",
         ""
        ],
        [
         "35",
         "8",
         "400.0",
         "-10.0",
         "circle",
         "6.0",
         "",
         ""
        ],
        [
         "36",
         "9",
         "460.0",
         "0.0",
         "circle",
         "6.0",
         "",
         ""
        ],
        [
         "37",
         "9",
         "450.0",
         "10.0",
         "circle",
         "6.0",
         "",
         ""
        ],
        [
         "38",
         "9",
         "440.0",
         "1.2246467991473533e-15",
         "circle",
         "6.0",
         "",
         ""
        ],
        [
         "39",
         "9",
         "450.0",
         "-10.0",
         "circle",
         "6.0",
         "",
         ""
        ],
        [
         "40",
         "10",
         "510.0",
         "0.0",
         "circle",
         "6.0",
         "",
         ""
        ],
        [
         "41",
         "10",
         "500.0",
         "10.0",
         "circle",
         "6.0",
         "",
         ""
        ],
        [
         "42",
         "10",
         "490.0",
         "1.2246467991473533e-15",
         "circle",
         "6.0",
         "",
         ""
        ],
        [
         "43",
         "10",
         "500.0",
         "-10.0",
         "circle",
         "6.0",
         "",
         ""
        ],
        [
         "44",
         "11",
         "560.0",
         "0.0",
         "circle",
         "6.0",
         "",
         ""
        ],
        [
         "45",
         "11",
         "550.0",
         "10.0",
         "circle",
         "6.0",
         "",
         ""
        ],
        [
         "46",
         "11",
         "540.0",
         "1.2246467991473533e-15",
         "circle",
         "6.0",
         "",
         ""
        ],
        [
         "47",
         "11",
         "550.0",
         "-10.0",
         "circle",
         "6.0",
         "",
         ""
        ],
        [
         "48",
         "12",
         "610.0",
         "0.0",
         "circle",
         "6.0",
         "",
         ""
        ],
        [
         "49",
         "12",
         "600.0",
         "10.0",
         "circle",
         "6.0",
         "",
         ""
        ]
       ],
       "shape": {
        "columns": 7,
        "rows": 64
       }
      },
      "text/html": [
       "<div>\n",
       "<style scoped>\n",
       "    .dataframe tbody tr th:only-of-type {\n",
       "        vertical-align: middle;\n",
       "    }\n",
       "\n",
       "    .dataframe tbody tr th {\n",
       "        vertical-align: top;\n",
       "    }\n",
       "\n",
       "    .dataframe thead th {\n",
       "        text-align: right;\n",
       "    }\n",
       "</style>\n",
       "<table border=\"1\" class=\"dataframe\">\n",
       "  <thead>\n",
       "    <tr style=\"text-align: right;\">\n",
       "      <th></th>\n",
       "      <th>probe_index</th>\n",
       "      <th>x</th>\n",
       "      <th>y</th>\n",
       "      <th>contact_shapes</th>\n",
       "      <th>radius</th>\n",
       "      <th>shank_ids</th>\n",
       "      <th>contact_ids</th>\n",
       "    </tr>\n",
       "  </thead>\n",
       "  <tbody>\n",
       "    <tr>\n",
       "      <th>0</th>\n",
       "      <td>0</td>\n",
       "      <td>1.000000e+01</td>\n",
       "      <td>0.000000e+00</td>\n",
       "      <td>circle</td>\n",
       "      <td>6.0</td>\n",
       "      <td></td>\n",
       "      <td></td>\n",
       "    </tr>\n",
       "    <tr>\n",
       "      <th>1</th>\n",
       "      <td>0</td>\n",
       "      <td>6.123234e-16</td>\n",
       "      <td>1.000000e+01</td>\n",
       "      <td>circle</td>\n",
       "      <td>6.0</td>\n",
       "      <td></td>\n",
       "      <td></td>\n",
       "    </tr>\n",
       "    <tr>\n",
       "      <th>2</th>\n",
       "      <td>0</td>\n",
       "      <td>-1.000000e+01</td>\n",
       "      <td>1.224647e-15</td>\n",
       "      <td>circle</td>\n",
       "      <td>6.0</td>\n",
       "      <td></td>\n",
       "      <td></td>\n",
       "    </tr>\n",
       "    <tr>\n",
       "      <th>3</th>\n",
       "      <td>0</td>\n",
       "      <td>-1.836970e-15</td>\n",
       "      <td>-1.000000e+01</td>\n",
       "      <td>circle</td>\n",
       "      <td>6.0</td>\n",
       "      <td></td>\n",
       "      <td></td>\n",
       "    </tr>\n",
       "    <tr>\n",
       "      <th>4</th>\n",
       "      <td>1</td>\n",
       "      <td>6.000000e+01</td>\n",
       "      <td>0.000000e+00</td>\n",
       "      <td>circle</td>\n",
       "      <td>6.0</td>\n",
       "      <td></td>\n",
       "      <td></td>\n",
       "    </tr>\n",
       "    <tr>\n",
       "      <th>...</th>\n",
       "      <td>...</td>\n",
       "      <td>...</td>\n",
       "      <td>...</td>\n",
       "      <td>...</td>\n",
       "      <td>...</td>\n",
       "      <td>...</td>\n",
       "      <td>...</td>\n",
       "    </tr>\n",
       "    <tr>\n",
       "      <th>59</th>\n",
       "      <td>14</td>\n",
       "      <td>7.000000e+02</td>\n",
       "      <td>-1.000000e+01</td>\n",
       "      <td>circle</td>\n",
       "      <td>6.0</td>\n",
       "      <td></td>\n",
       "      <td></td>\n",
       "    </tr>\n",
       "    <tr>\n",
       "      <th>60</th>\n",
       "      <td>15</td>\n",
       "      <td>7.600000e+02</td>\n",
       "      <td>0.000000e+00</td>\n",
       "      <td>circle</td>\n",
       "      <td>6.0</td>\n",
       "      <td></td>\n",
       "      <td></td>\n",
       "    </tr>\n",
       "    <tr>\n",
       "      <th>61</th>\n",
       "      <td>15</td>\n",
       "      <td>7.500000e+02</td>\n",
       "      <td>1.000000e+01</td>\n",
       "      <td>circle</td>\n",
       "      <td>6.0</td>\n",
       "      <td></td>\n",
       "      <td></td>\n",
       "    </tr>\n",
       "    <tr>\n",
       "      <th>62</th>\n",
       "      <td>15</td>\n",
       "      <td>7.400000e+02</td>\n",
       "      <td>1.224647e-15</td>\n",
       "      <td>circle</td>\n",
       "      <td>6.0</td>\n",
       "      <td></td>\n",
       "      <td></td>\n",
       "    </tr>\n",
       "    <tr>\n",
       "      <th>63</th>\n",
       "      <td>15</td>\n",
       "      <td>7.500000e+02</td>\n",
       "      <td>-1.000000e+01</td>\n",
       "      <td>circle</td>\n",
       "      <td>6.0</td>\n",
       "      <td></td>\n",
       "      <td></td>\n",
       "    </tr>\n",
       "  </tbody>\n",
       "</table>\n",
       "<p>64 rows × 7 columns</p>\n",
       "</div>"
      ],
      "text/plain": [
       "    probe_index             x             y contact_shapes  radius shank_ids  \\\n",
       "0             0  1.000000e+01  0.000000e+00         circle     6.0             \n",
       "1             0  6.123234e-16  1.000000e+01         circle     6.0             \n",
       "2             0 -1.000000e+01  1.224647e-15         circle     6.0             \n",
       "3             0 -1.836970e-15 -1.000000e+01         circle     6.0             \n",
       "4             1  6.000000e+01  0.000000e+00         circle     6.0             \n",
       "..          ...           ...           ...            ...     ...       ...   \n",
       "59           14  7.000000e+02 -1.000000e+01         circle     6.0             \n",
       "60           15  7.600000e+02  0.000000e+00         circle     6.0             \n",
       "61           15  7.500000e+02  1.000000e+01         circle     6.0             \n",
       "62           15  7.400000e+02  1.224647e-15         circle     6.0             \n",
       "63           15  7.500000e+02 -1.000000e+01         circle     6.0             \n",
       "\n",
       "   contact_ids  \n",
       "0               \n",
       "1               \n",
       "2               \n",
       "3               \n",
       "4               \n",
       "..         ...  \n",
       "59              \n",
       "60              \n",
       "61              \n",
       "62              \n",
       "63              \n",
       "\n",
       "[64 rows x 7 columns]"
      ]
     },
     "execution_count": 4,
     "metadata": {},
     "output_type": "execute_result"
    }
   ],
   "source": [
    "# prepare tetrodes\n",
    "from probeinterface import Probe, ProbeGroup\n",
    "from probeinterface import generate_tetrode\n",
    "from probeinterface.plotting import plot_probe, plot_probe_group\n",
    "probegroup = ProbeGroup()\n",
    "num_tetrode = 16;  num_channel = num_tetrode*4;\n",
    "for i in range(num_tetrode):\n",
    "    tetrode = generate_tetrode()\n",
    "    # tetrode.set_device_channel_indices(np.arange(4) + i * 4)\n",
    "    tetrode.move([i * 50, 0])\n",
    "    probegroup.add_probe(tetrode)\n",
    "probegroup.set_global_device_channel_indices(np.arange(num_channel))\n",
    "# check probe info\n",
    "df = probegroup.to_dataframe()\n",
    "df\n",
    "# alternative: silicon probe\n",
    "# import probeinterface as pi\n",
    "# from probeinterface.plotting import plot_probe\n",
    "# manufacturer = 'cambridgeneurotech'\n",
    "# probe_name = 'ASSY-236-H5'\n",
    "# probe = pi.get_probe(manufacturer, probe_name)\n",
    "# print(probe)\n",
    "\n"
   ]
  },
  {
   "cell_type": "code",
   "execution_count": 5,
   "metadata": {},
   "outputs": [
    {
     "data": {
      "image/png": "[encoded data removed]",
      "text/plain": [
       "<Figure size 640x480 with 1 Axes>"
      ]
     },
     "metadata": {},
     "output_type": "display_data"
    }
   ],
   "source": [
    "# plot probe\n",
    "plot_probe_group(probegroup, with_contact_id=True, same_axes=True)"
   ]
  },
  {
   "cell_type": "code",
   "execution_count": 6,
   "metadata": {},
   "outputs": [
    {
     "name": "stdout",
     "output_type": "stream",
     "text": [
      "channel group:\n",
      "[ 0  0  0  0  1  1  1  1  2  2  2  2  3  3  3  3  4  4  4  4  5  5  5  5\n",
      "  6  6  6  6  7  7  7  7  8  8  8  8  9  9  9  9 10 10 10 10 11 11 11 11\n",
      " 12 12 12 12 13 13 13 13 14 14 14 14 15 15 15 15]\n"
     ]
    }
   ],
   "source": [
    "# set group to recording\n",
    "recording = raw_data.set_probegroup(probegroup, group_mode='by_probe')\n",
    "# get group\n",
    "print('channel group:')\n",
    "print(recording.get_channel_groups())\n",
    "# another method\n",
    "# print(recording.get_property('group'))"
   ]
  },
  {
   "cell_type": "code",
   "execution_count": 7,
   "metadata": {},
   "outputs": [],
   "source": [
    "# set parameters\n",
    "global_job_kwargs = dict(n_jobs=-1, progress_bar=True)\n",
    "si.set_global_job_kwargs(**global_job_kwargs)"
   ]
  },
  {
   "cell_type": "code",
   "execution_count": 14,
   "metadata": {},
   "outputs": [
    {
     "name": "stdout",
     "output_type": "stream",
     "text": [
      "Channel ids: [ 0  1  2  3  4  5  6  7  8  9 10 11 12 13 14 15 16 17 18 19 20 21 22 23\n",
      " 24 25 26 27 28 29 30 31 32 33 34 35 36 37 38 39 40 41 42 43 44 45 46 47\n",
      " 48 49 50 51 52 53 54 55 56 57 58 59 60 61 62 63]\n",
      "Sampling frequency: 20000.0\n",
      "Number of channels: 64\n",
      "Number of segments: 1\n"
     ]
    }
   ],
   "source": [
    "# information of recording\n",
    "# channel_ids = raw_data.get_channel_ids()\n",
    "# fs = raw_data.get_sampling_frequency()\n",
    "# num_chan = raw_data.get_num_channels()\n",
    "# num_seg = raw_data.get_num_segments()\n",
    "\n",
    "# print(\"Channel ids:\", channel_ids)\n",
    "# print(\"Sampling frequency:\", fs)\n",
    "# print(\"Number of channels:\", num_chan)\n",
    "# print(\"Number of segments:\", num_seg)"
   ]
  },
  {
   "cell_type": "code",
   "execution_count": 8,
   "metadata": {},
   "outputs": [
    {
     "name": "stdout",
     "output_type": "stream",
     "text": [
      "Use cache_folder=C:\\Users\\Jeff\\AppData\\Local\\Temp\\spikeinterface_cache\\tmpnp2so5bk\\RYFXHJ1W\n",
      "write_binary_recording \n",
      "n_jobs=24 - samples_per_chunk=20,000 - chunk_memory=2.44 MiB - total_memory=58.59 MiB - chunk_duration=1.00s\n"
     ]
    },
    {
     "data": {
      "application/vnd.jupyter.widget-view+json": {
       "model_id": "37f90ff41ff5447db96a943bf175fa14",
       "version_major": 2,
       "version_minor": 0
      },
      "text/plain": [
       "write_binary_recording:   0%|          | 0/481 [00:00<?, ?it/s]"
      ]
     },
     "metadata": {},
     "output_type": "display_data"
    },
    {
     "name": "stdout",
     "output_type": "stream",
     "text": [
      "BinaryFolderRecording: 64 channels - 20.0kHz - 1 segments - 9,608,400 samples \n",
      "                       480.42s (8.01 minutes) - int16 dtype - 1.15 GiB\n"
     ]
    }
   ],
   "source": [
    "recording_f = si.bandpass_filter(recording, freq_min=300, freq_max=6000)\n",
    "recording_cmr = si.common_reference(\n",
    "    recording_f, reference=\"global\",\n",
    "    operator=\"median\"\n",
    ")\n",
    "recording_pre = recording_cmr.save(format=\"binary\")\n",
    "print(recording_pre)"
   ]
  },
  {
   "cell_type": "code",
   "execution_count": 9,
   "metadata": {},
   "outputs": [
    {
     "data": {
      "application/vnd.jupyter.widget-view+json": {
       "model_id": "39ffe5ff14f7424c8dbcd1fae2c7966f",
       "version_major": 2,
       "version_minor": 0
      },
      "text/plain": [
       "AppLayout(children=(TimeSlider(children=(Dropdown(description='segment', options=(0,), value=0), Button(icon='…"
      ]
     },
     "metadata": {},
     "output_type": "display_data"
    }
   ],
   "source": [
    "%matplotlib widget\n",
    "w = si.plot_traces({\"filtered\": recording_pre, \"common\": recording_pre},\n",
    "                   mode='map', time_range=[10, 10.1], backend=\"ipywidgets\"\n",
    "                   )"
   ]
  },
  {
   "cell_type": "code",
   "execution_count": 10,
   "metadata": {},
   "outputs": [],
   "source": [
    "# data compression\n",
    "n_cpus = os.cpu_count()\n",
    "n_jobs = n_cpus\n",
    "job_kwargs = dict(n_jobs=n_jobs, progress_bar=True)"
   ]
  },
  {
   "cell_type": "code",
   "execution_count": 36,
   "metadata": {},
   "outputs": [
    {
     "name": "stdout",
     "output_type": "stream",
     "text": [
      "\u001b[1;31mSignature:\u001b[0m\n",
      "\u001b[0msi\u001b[0m\u001b[1;33m.\u001b[0m\u001b[0mrun_sorter_by_property\u001b[0m\u001b[1;33m(\u001b[0m\u001b[1;33m\n",
      "\u001b[0m    \u001b[0msorter_name\u001b[0m\u001b[1;33m,\u001b[0m\u001b[1;33m\n",
      "\u001b[0m    \u001b[0mrecording\u001b[0m\u001b[1;33m,\u001b[0m\u001b[1;33m\n",
      "\u001b[0m    \u001b[0mgrouping_property\u001b[0m\u001b[1;33m,\u001b[0m\u001b[1;33m\n",
      "\u001b[0m    \u001b[0mfolder\u001b[0m\u001b[1;33m,\u001b[0m\u001b[1;33m\n",
      "\u001b[0m    \u001b[0mmode_if_folder_exists\u001b[0m\u001b[1;33m=\u001b[0m\u001b[1;32mNone\u001b[0m\u001b[1;33m,\u001b[0m\u001b[1;33m\n",
      "\u001b[0m    \u001b[0mengine\u001b[0m\u001b[1;33m=\u001b[0m\u001b[1;34m'loop'\u001b[0m\u001b[1;33m,\u001b[0m\u001b[1;33m\n",
      "\u001b[0m    \u001b[0mengine_kwargs\u001b[0m\u001b[1;33m=\u001b[0m\u001b[1;33m{\u001b[0m\u001b[1;33m}\u001b[0m\u001b[1;33m,\u001b[0m\u001b[1;33m\n",
      "\u001b[0m    \u001b[0mverbose\u001b[0m\u001b[1;33m=\u001b[0m\u001b[1;32mFalse\u001b[0m\u001b[1;33m,\u001b[0m\u001b[1;33m\n",
      "\u001b[0m    \u001b[0mdocker_image\u001b[0m\u001b[1;33m=\u001b[0m\u001b[1;32mNone\u001b[0m\u001b[1;33m,\u001b[0m\u001b[1;33m\n",
      "\u001b[0m    \u001b[0msingularity_image\u001b[0m\u001b[1;33m=\u001b[0m\u001b[1;32mNone\u001b[0m\u001b[1;33m,\u001b[0m\u001b[1;33m\n",
      "\u001b[0m    \u001b[0mworking_folder\u001b[0m\u001b[1;33m:\u001b[0m \u001b[1;34m'None'\u001b[0m \u001b[1;33m=\u001b[0m \u001b[1;32mNone\u001b[0m\u001b[1;33m,\u001b[0m\u001b[1;33m\n",
      "\u001b[0m    \u001b[1;33m**\u001b[0m\u001b[0msorter_params\u001b[0m\u001b[1;33m,\u001b[0m\u001b[1;33m\n",
      "\u001b[0m\u001b[1;33m)\u001b[0m\u001b[1;33m\u001b[0m\u001b[1;33m\u001b[0m\u001b[0m\n",
      "\u001b[1;31mDocstring:\u001b[0m\n",
      "Generic function to run a sorter on a recording after splitting by a \"grouping_property\" (e.g. \"group\").\n",
      "\n",
      "Internally, the function works as follows:\n",
      "    * the recording is split based on the provided \"grouping_property\" (using the \"split_by\" function)\n",
      "    * the \"run_sorters\" function is run on the split recordings\n",
      "    * sorting outputs are aggregated using the \"aggregate_units\" function\n",
      "    * the \"grouping_property\" is added as a property to the SortingExtractor\n",
      "\n",
      "Parameters\n",
      "----------\n",
      "sorter_name : str\n",
      "    The sorter name\n",
      "recording : BaseRecording\n",
      "    The recording to be sorted\n",
      "grouping_property : object\n",
      "    Property to split by before sorting\n",
      "folder : str | Path\n",
      "    The working directory.\n",
      "mode_if_folder_exists : bool or None, default: None\n",
      "    Must be None. This is deprecated.\n",
      "    If not None then a warning is raise.\n",
      "    Will be removed in next release.\n",
      "engine : \"loop\" | \"joblib\" | \"dask\", default: \"loop\"\n",
      "    Which engine to use to run sorter.\n",
      "engine_kwargs : dict\n",
      "    This contains kwargs specific to the launcher engine:\n",
      "        * \"loop\" : no kwargs\n",
      "        * \"joblib\" : {\"n_jobs\" : } number of processes\n",
      "        * \"dask\" : {\"client\":} the dask client for submitting task\n",
      "verbose : bool, default: False\n",
      "    Controls sorter verboseness\n",
      "docker_image : None or str, default: None\n",
      "    If str run the sorter inside a container (docker) using the docker package\n",
      "singularity_image : None or str, default: None\n",
      "    If str run the sorter inside a container (singularity) using the docker package\n",
      "**sorter_params : keyword args\n",
      "    Spike sorter specific arguments (they can be retrieved with `get_default_sorter_params(sorter_name_or_class)`)\n",
      "\n",
      "Returns\n",
      "-------\n",
      "sorting : UnitsAggregationSorting\n",
      "    The aggregated SortingExtractor.\n",
      "\n",
      "Examples\n",
      "--------\n",
      "This example shows how to run spike sorting split by group using the \"joblib\" backend with 4 jobs for parallel\n",
      "processing.\n",
      "\n",
      ">>> sorting = si.run_sorter_by_property(\"tridesclous\", recording, grouping_property=\"group\",\n",
      "                                        folder=\"sort_by_group\", engine=\"joblib\",\n",
      "                                        engine_kwargs={\"n_jobs\": 4})\n",
      "\u001b[1;31mFile:\u001b[0m      c:\\users\\jeff\\anaconda3\\envs\\si_env\\lib\\site-packages\\spikeinterface\\sorters\\launcher.py\n",
      "\u001b[1;31mType:\u001b[0m      function"
     ]
    }
   ],
   "source": [
    "si.run_sorter_by_property?"
   ]
  },
  {
   "cell_type": "code",
   "execution_count": null,
   "metadata": {},
   "outputs": [
    {
     "name": "stdout",
     "output_type": "stream",
     "text": [
      "KS found 420 units\n"
     ]
    }
   ],
   "source": [
    "# to perform sorting, we need to split 'recording' data first\n",
    "# we can perform automatic splitting\n",
    "# TODO 1: optimize parameters of sorting\n",
    "# TODO 2: select the best sortor, maybe mountainsort\n",
    "# TODO 3: if the best sorter is kilosort series, configure CUDA acceleration\n",
    "sortings = si.run_sorter_by_property(\n",
    "    sorter_name='kilosort', recording=recording_pre,\n",
    "    grouping_property='group', \n",
    "    # working_folder='working_path',\n",
    "    folder=base_folder, docker_image=True,\n",
    "    **job_kwargs\n",
    ")\n",
    "print(f'KS found {len(sortings.get_unit_ids())} units')"
   ]
  },
  {
   "cell_type": "code",
   "execution_count": 12,
   "metadata": {},
   "outputs": [
    {
     "name": "stdout",
     "output_type": "stream",
     "text": [
      "UnitsAggregationSorting: 420 units - 1 segments - 20.0kHz\n"
     ]
    }
   ],
   "source": [
    "print(sortings)"
   ]
  },
  {
   "cell_type": "code",
   "execution_count": null,
   "metadata": {},
   "outputs": [
    {
     "data": {
      "application/vnd.jupyter.widget-view+json": {
       "model_id": "b4be56ef978c4fcabd90f723340fbe48",
       "version_major": 2,
       "version_minor": 0
      },
      "text/plain": [
       "estimate_sparsity:   0%|          | 0/481 [00:00<?, ?it/s]"
      ]
     },
     "metadata": {},
     "output_type": "display_data"
    },
    {
     "name": "stdout",
     "output_type": "stream",
     "text": [
      "create_sorting_analyzer: recording does not have scaling to uV, forcing return_scaled=False\n"
     ]
    }
   ],
   "source": [
    "# use SortingAnalyzer object to perform postprocessing\n",
    "# here: save it in binary format\n",
    "analyzer = si.create_sorting_analyzer(sorting=sortings, recording=recording_pre,\n",
    "                                      format='binary_folder', folder='analyzer_ks2'\n",
    "                                      )\n",
    "# TODO: absolute path"
   ]
  },
  {
   "cell_type": "code",
   "execution_count": null,
   "metadata": {},
   "outputs": [
    {
     "data": {
      "application/vnd.jupyter.widget-view+json": {
       "model_id": "9ea562c495b7439c9c5061f06bf956ef",
       "version_major": 2,
       "version_minor": 0
      },
      "text/plain": [
       "compute_waveforms:   0%|          | 0/481 [00:00<?, ?it/s]"
      ]
     },
     "metadata": {},
     "output_type": "display_data"
    },
    {
     "data": {
      "text/plain": [
       "<spikeinterface.core.analyzer_extension_core.ComputeWaveforms at 0x2782dc63550>"
      ]
     },
     "execution_count": 17,
     "metadata": {},
     "output_type": "execute_result"
    }
   ],
   "source": [
    "# calculate waveform\n",
    "# sample some spikes (by default max_spiks_per_unit=500)\n",
    "# results stored in ./analyzer_ks2/extensions/waveforms\n",
    "# analyzer.compute(\"random_spikes\") # TODO what is this???\n",
    "analyzer.compute(\"waveforms\") "
   ]
  },
  {
   "cell_type": "code",
   "execution_count": 18,
   "metadata": {},
   "outputs": [
    {
     "name": "stdout",
     "output_type": "stream",
     "text": [
      "(60, 17)\n"
     ]
    }
   ],
   "source": [
    "unit_id0 = analyzer.unit_ids[0]  # direct get ids\n",
    "waveforms = analyzer.get_extension(\"waveforms\").get_data()[unit_id0]  # this is how we get data from extensions\n",
    "print(waveforms.shape)"
   ]
  },
  {
   "cell_type": "code",
   "execution_count": null,
   "metadata": {},
   "outputs": [],
   "source": [
    "# other properties we can get\n",
    "analyzer.compute(\"noise_levels\")\n",
    "analyzer.compute(\"templates\")\n",
    "analyzer.compute(\"spike_amplitudes\")"
   ]
  },
  {
   "cell_type": "code",
   "execution_count": null,
   "metadata": {},
   "outputs": [],
   "source": [
    "# some extensions have parameters we can tune\n",
    "analyzer.compute(\"unit_locations\", method=\"center_of_mass\")\n",
    "analyzer.compute(\"spike_locations\", ms_before=0.5)\n",
    "analyzer.compute(\"correlograms\", bin_ms=0.1)\n",
    "analyzer.compute(\"template_similarity\", method=\"cosine_similarity\")"
   ]
  },
  {
   "cell_type": "code",
   "execution_count": null,
   "metadata": {},
   "outputs": [
    {
     "data": {
      "application/vnd.jupyter.widget-view+json": {
       "model_id": "4944e199829c4721a818498e97dd3ef6",
       "version_major": 2,
       "version_minor": 0
      },
      "text/plain": [
       "Compute : spike_amplitudes + spike_locations:   0%|          | 0/481 [00:00<?, ?it/s]"
      ]
     },
     "metadata": {},
     "output_type": "display_data"
    }
   ],
   "source": [
    "# a simplified version of syntax to compute properties\n",
    "extensions_to_compute = [\n",
    "    # \"random_spikes\",\n",
    "    # \"waveforms\",\n",
    "    \"noise_levels\",\n",
    "    \"templates\",\n",
    "    \"spike_amplitudes\",\n",
    "    \"unit_locations\",\n",
    "    \"spike_locations\",\n",
    "    \"correlograms\",\n",
    "    \"template_similarity\"\n",
    "]\n",
    "\n",
    "extension_params = {\n",
    "    \"unit_locations\": {\"method\": \"center_of_mass\"},\n",
    "    \"spike_locations\": {\"ms_before\": 0.1},\n",
    "    \"correlograms\": {\"bin_ms\": 0.1},\n",
    "    \"template_similarity\": {\"method\": \"cosine_similarity\"}\n",
    "}\n",
    "\n",
    "analyzer.compute(extensions_to_compute, extension_params=extension_params) # 同样会直接保存到子文件夹中"
   ]
  },
  {
   "cell_type": "code",
   "execution_count": null,
   "metadata": {},
   "outputs": [
    {
     "data": {
      "application/vnd.jupyter.widget-view+json": {
       "model_id": "e0732708936542e0919266c8497ed2e1",
       "version_major": 2,
       "version_minor": 0
      },
      "image/png": "[encoded data removed]",
      "text/html": [
       "\n",
       "            <div style=\"display: inline-block;\">\n",
       "                <div class=\"jupyter-widgets widget-label\" style=\"text-align: center;\">\n",
       "                    Figure\n",
       "                </div>\n",
       "                <img src='data:image/png;base64,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' width=640.0/>\n",
       "            </div>\n",
       "        "
      ],
      "text/plain": [
       "Canvas(toolbar=Toolbar(toolitems=[('Home', 'Reset original view', 'home', 'home'), ('Back', 'Back to previous …"
      ]
     },
     "metadata": {},
     "output_type": "display_data"
    }
   ],
   "source": [
    "# plot distirbution of amplitudes of units\n",
    "amplitudes = analyzer.get_extension(\"spike_amplitudes\").get_data()\n",
    "plt.hist(amplitudes, bins=50)\n",
    "plt.show()"
   ]
  },
  {
   "cell_type": "code",
   "execution_count": null,
   "metadata": {},
   "outputs": [],
   "source": [
    "# 其他相关的命令 用到时再执行\n",
    "# print(analyzer.get_saved_extension_names())\n",
    "# print(analyzer.get_loaded_extension_names())\n",
    "# analyzer.delete_extension(\"spike_amplitudes\")  # 会直接删除文件夹中的文件\n",
    "\n",
    "# 从文件夹目录直接读取 SortingAnalyzer 的方式\n",
    "# sorting_analyzer_path = './analyzer_ks2'\n",
    "# analyzer_loaded = si.load_sorting_analyzer(sorting_analyzer_path)\n",
    "# print(analyzer_loaded.get_loaded_extension_names())"
   ]
  },
  {
   "cell_type": "code",
   "execution_count": null,
   "metadata": {},
   "outputs": [
    {
     "name": "stdout",
     "output_type": "stream",
     "text": [
      "{'amplitude_cutoff': {'amplitudes_bins_min_ratio': 5,\n",
      "                      'histogram_smoothing_value': 3,\n",
      "                      'num_histogram_bins': 100,\n",
      "                      'peak_sign': 'neg'},\n",
      " 'amplitude_cv': {'amplitude_extension': 'spike_amplitudes',\n",
      "                  'average_num_spikes_per_bin': 50,\n",
      "                  'min_num_bins': 10,\n",
      "                  'percentiles': (5, 95)},\n",
      " 'amplitude_median': {'peak_sign': 'neg'},\n",
      " 'drift': {'direction': 'y',\n",
      "           'interval_s': 60,\n",
      "           'min_num_bins': 2,\n",
      "           'min_spikes_per_interval': 100},\n",
      " 'firing_range': {'bin_size_s': 5, 'percentiles': (5, 95)},\n",
      " 'firing_rate': {},\n",
      " 'isi_violation': {'isi_threshold_ms': 1.5, 'min_isi_ms': 0},\n",
      " 'nearest_neighbor': {'max_spikes': 10000, 'n_neighbors': 5},\n",
      " 'nn_isolation': {'max_spikes': 10000,\n",
      "                  'min_fr': 0.0,\n",
      "                  'min_spikes': 10,\n",
      "                  'n_components': 10,\n",
      "                  'n_neighbors': 4,\n",
      "                  'peak_sign': 'neg',\n",
      "                  'radius_um': 100},\n",
      " 'nn_noise_overlap': {'max_spikes': 10000,\n",
      "                      'min_fr': 0.0,\n",
      "                      'min_spikes': 10,\n",
      "                      'n_components': 10,\n",
      "                      'n_neighbors': 4,\n",
      "                      'peak_sign': 'neg',\n",
      "                      'radius_um': 100},\n",
      " 'num_spikes': {},\n",
      " 'presence_ratio': {'bin_duration_s': 60, 'mean_fr_ratio_thresh': 0.0},\n",
      " 'rp_violation': {'censored_period_ms': 0.0, 'refractory_period_ms': 1.0},\n",
      " 'sd_ratio': {'censored_period_ms': 4.0,\n",
      "              'correct_for_drift': True,\n",
      "              'correct_for_template_itself': True},\n",
      " 'silhouette': {'method': ('simplified',)},\n",
      " 'sliding_rp_violation': {'bin_size_ms': 0.25,\n",
      "                          'contamination_values': None,\n",
      "                          'exclude_ref_period_below_ms': 0.5,\n",
      "                          'max_ref_period_ms': 10,\n",
      "                          'min_spikes': 0,\n",
      "                          'window_size_s': 1},\n",
      " 'snr': {'peak_mode': 'extremum', 'peak_sign': 'neg'},\n",
      " 'synchrony': {'synchrony_sizes': (2, 4, 8)}}\n"
     ]
    }
   ],
   "source": [
    "# after computing all parameters, we can compute quality metrics\n",
    "qm_params = si.get_default_qm_params()\n",
    "pprint(qm_params)"
   ]
  },
  {
   "cell_type": "code",
   "execution_count": null,
   "metadata": {},
   "outputs": [],
   "source": [
    "# to change some parameters of quality metrics (if the recording is short)\n",
    "# qm_params[\"presence_ratio\"][\"bin_duration_s\"] = 1\n",
    "# qm_params[\"amplitude_cutoff\"][\"num_histogram_bins\"] = 5\n",
    "# qm_params[\"drift\"][\"interval_s\"] = 2\n",
    "# qm_params[\"drift\"][\"min_spikes_per_interval\"] = 2"
   ]
  },
  {
   "cell_type": "code",
   "execution_count": null,
   "metadata": {},
   "outputs": [
    {
     "data": {
      "application/vnd.microsoft.datawrangler.viewer.v0+json": {
       "columns": [
        {
         "name": "index",
         "rawType": "int32",
         "type": "integer"
        },
        {
         "name": "num_spikes",
         "rawType": "Int64",
         "type": "integer"
        },
        {
         "name": "firing_rate",
         "rawType": "Float64",
         "type": "float"
        },
        {
         "name": "presence_ratio",
         "rawType": "Float64",
         "type": "float"
        },
        {
         "name": "snr",
         "rawType": "Float64",
         "type": "float"
        },
        {
         "name": "isi_violations_ratio",
         "rawType": "Float64",
         "type": "float"
        },
        {
         "name": "isi_violations_count",
         "rawType": "Int64",
         "type": "integer"
        },
        {
         "name": "rp_contamination",
         "rawType": "Float64",
         "type": "float"
        },
        {
         "name": "rp_violations",
         "rawType": "Int64",
         "type": "integer"
        },
        {
         "name": "sliding_rp_violation",
         "rawType": "Float64",
         "type": "float"
        },
        {
         "name": "amplitude_cutoff",
         "rawType": "Float64",
         "type": "float"
        },
        {
         "name": "amplitude_median",
         "rawType": "Float64",
         "type": "float"
        },
        {
         "name": "amplitude_cv_median",
         "rawType": "Float64",
         "type": "float"
        },
        {
         "name": "amplitude_cv_range",
         "rawType": "Float64",
         "type": "float"
        },
        {
         "name": "sync_spike_2",
         "rawType": "Float64",
         "type": "float"
        },
        {
         "name": "sync_spike_4",
         "rawType": "Float64",
         "type": "float"
        },
        {
         "name": "sync_spike_8",
         "rawType": "Int64",
         "type": "integer"
        },
        {
         "name": "firing_range",
         "rawType": "Float64",
         "type": "float"
        },
        {
         "name": "drift_ptp",
         "rawType": "Float64",
         "type": "float"
        },
        {
         "name": "drift_std",
         "rawType": "Float64",
         "type": "float"
        },
        {
         "name": "drift_mad",
         "rawType": "Float64",
         "type": "float"
        },
        {
         "name": "sd_ratio",
         "rawType": "Float64",
         "type": "float"
        }
       ],
       "conversionMethod": "pd.DataFrame",
       "ref": "2c3628a4-7f6e-486e-ac19-bdc5dd195607",
       "rows": [
        [
         "0",
         "569",
         "1.1843803338745265",
         "1.0",
         "15.404955400412604",
         "0.0",
         "0",
         "0.0",
         "0",
         null,
         "0.00045717210325926783",
         "-866.0",
         "0.16437799452169866",
         "0.06924738858474341",
         "0.05975395430579965",
         "0.0",
         "0",
         "7.05",
         null,
         null,
         null,
         "1.523426474102716"
        ],
        [
         "1",
         "937",
         "1.9503767536738685",
         "1.0",
         "9.196788806186431",
         "0.18239823957337906",
         "1",
         "0.3270919221172457",
         "1",
         null,
         "0.0029269713185480486",
         "-528.0",
         "0.20421004759832787",
         "0.08157713873815806",
         "0.061899679829242264",
         "0.0",
         "0",
         "5.25",
         "0.1598331935635704",
         "0.03127123286276894",
         "0.0457926874209727",
         "1.323444370354237"
        ],
        [
         "2",
         "742",
         "1.5444819116606303",
         "1.0",
         "7.8585973820997985",
         "0.0",
         "0",
         "0.0",
         "0",
         null,
         "0.0005837391034144934",
         "-522.0",
         "0.23335716969686482",
         "0.09214757535118334",
         "0.05390835579514825",
         "0.0",
         "0",
         "5.8",
         null,
         null,
         null,
         "1.5522940547698971"
        ],
        [
         "3",
         "1455",
         "3.028599975021856",
         "1.0",
         "8.266892270582765",
         "0.0",
         "0",
         "0.0",
         "0",
         "0.175",
         "0.0015748149115111323",
         "-480.0",
         "0.23949173697853587",
         "0.13198671018846356",
         "0.04398625429553265",
         "0.0",
         "0",
         "11.85",
         "0.24159714265487892",
         "0.07765967196400543",
         "0.05112128195670847",
         "1.3309665487006928"
        ],
        [
         "4",
         "1640",
         "3.413679696931851",
         "1.0",
         "5.975553193210844",
         "0.4167831647828674",
         "7",
         "0.0",
         "0",
         "0.21",
         "0.001301748467863841",
         "-332.0",
         "0.262335405663862",
         "0.09261167236030063",
         "0.05914634146341463",
         "0.0",
         "0",
         "6.1",
         "0.12298278344104416",
         "0.03651691292964421",
         "0.02531143888513987",
         "1.097202735362296"
        ],
        [
         "5",
         "1330",
         "2.7684109737313185",
         "1.0",
         "3.905324979276626",
         "0.09053083837413081",
         "1",
         "0.0",
         "0",
         "0.255",
         "0.0014755574393706975",
         "-254.5",
         "0.3275097853551063",
         "0.14470547600982692",
         "0.04962406015037594",
         "0.0",
         "0",
         "5.75",
         "0.2057883320013698",
         "0.060996266544988645",
         "0.03475485242261028",
         "1.062622857902221"
        ],
        [
         "6",
         "624",
         "1.298863494442363",
         "1.0",
         "7.143201449181872",
         "0.0",
         "0",
         "0.0",
         "0",
         null,
         "0.0008547813288183831",
         "-396.0",
         "0.26108640716949355",
         "0.09621964754794263",
         "0.04326923076923077",
         "0.0",
         "0",
         "3.25",
         null,
         null,
         null,
         "1.2516092045782916"
        ],
        [
         "7",
         "171",
         "0.3559385537654552",
         "1.0",
         "13.016671139561568",
         "0.0",
         "0",
         "0.0",
         "0",
         null,
         null,
         "-748.0",
         null,
         null,
         "0.07017543859649122",
         "0.0",
         "0",
         "1.3",
         null,
         null,
         null,
         "1.2954586972205533"
        ],
        [
         "8",
         "143",
         "0.29765621747637483",
         "1.0",
         "12.032573020756386",
         "0.0",
         "0",
         "0.0",
         "0",
         null,
         null,
         "-681.0",
         null,
         null,
         "0.03496503496503497",
         "0.0",
         "0",
         "1.25",
         null,
         null,
         null,
         "1.4898172270060406"
        ],
        [
         "9",
         "14",
         "0.029141168144540194",
         "0.75",
         "9.575869232985676",
         "0.0",
         "0",
         "0.0",
         "0",
         null,
         null,
         "-629.0",
         null,
         null,
         "0.14285714285714285",
         "0.0",
         "0",
         "0.2",
         null,
         null,
         null,
         "1.3993200791334182"
        ],
        [
         "10",
         "1053",
         "2.191832146871487",
         "1.0",
         "6.765203193387773",
         "0.0",
         "0",
         "0.0",
         "0",
         "0.29",
         "0.003922689987043949",
         "-370.0",
         "0.2849829544651902",
         "0.11416958813900571",
         "0.06362773029439696",
         "0.0",
         "0",
         "4.0",
         "0.246293250038172",
         "0.08283156592997876",
         "0.05533341273890541",
         "1.285437512646333"
        ],
        [
         "11",
         "228",
         "0.47458473835394027",
         "1.0",
         "9.58576458746955",
         "0.0",
         "0",
         "0.0",
         "0",
         null,
         null,
         "-540.0",
         null,
         null,
         "0.08771929824561403",
         "0.0",
         "0",
         "1.4",
         null,
         null,
         null,
         "1.3847431582379424"
        ],
        [
         "12",
         "1000",
         "2.0815120103242997",
         "1.0",
         "5.050520598185634",
         "0.0",
         "0",
         "0.0",
         "0",
         "0.32",
         "0.0029417407174279877",
         "-343.0",
         "0.2672669903986996",
         "0.10283840122591775",
         "0.063",
         "0.0",
         "0",
         "4.800000000000001",
         "0.1878059161523724",
         "0.040477301355915964",
         "0.03335736206326412",
         "1.1386468832178587"
        ],
        [
         "13",
         "380",
         "0.7909745639232338",
         "1.0",
         "6.220916362014293",
         "0.0",
         "0",
         "0.0",
         "0",
         null,
         null,
         "-361.0",
         null,
         null,
         "0.07368421052631578",
         "0.0",
         "0",
         "1.6500000000000001",
         null,
         null,
         null,
         "1.2184491683535477"
        ],
        [
         "14",
         "1138",
         "2.368760667749053",
         "1.0",
         "4.934709010276681",
         "0.12365603021982265",
         "1",
         "0.20688468093187606",
         "1",
         null,
         "0.00224663194960511",
         "-273.0",
         "0.37630570350932807",
         "0.17157567593433787",
         "0.08260105448154657",
         "0.0",
         "0",
         "3.25",
         "0.16943530409299185",
         "0.0266434154321486",
         "0.03100002743610867",
         "1.3552494902589016"
        ],
        [
         "15",
         "4991",
         "10.388826443528579",
         "1.0",
         "3.4680842976661057",
         "0.006428722572198782",
         "1",
         "0.0",
         "0",
         "0.02",
         "5.298898596416085e-05",
         "-188.0",
         "0.38051193556953944",
         "0.19102070242350677",
         "0.04087357243037468",
         "0.0",
         "0",
         "12.95",
         "0.16148808154467836",
         "0.043534268198694555",
         "0.01832560129878924",
         "0.8992501530114763"
        ],
        [
         "16",
         "144",
         "0.29973772948669913",
         "1.0",
         "8.68885959182438",
         "0.0",
         "0",
         "0.0",
         "0",
         null,
         null,
         "-498.5",
         null,
         null,
         "0.04861111111111111",
         "0.0",
         "0",
         "1.0",
         null,
         null,
         null,
         "1.2117404419634963"
        ],
        [
         "17",
         "69",
         "0.14362432871237665",
         "1.0",
         "13.223549049896866",
         "0.0",
         "0",
         "0.0",
         "0",
         null,
         null,
         "-732.0",
         null,
         null,
         "0.028985507246376812",
         "0.0",
         "0",
         "0.8",
         null,
         null,
         null,
         "1.3836880837593573"
        ],
        [
         "18",
         "1478",
         "3.0764747512593145",
         "1.0",
         "4.172041687017207",
         "0.14661585985523357",
         "2",
         "0.11678076888172906",
         "1",
         "0.335",
         "0.0014245421638332304",
         "-280.0",
         "0.31193983445509027",
         "0.13728656088053437",
         "0.061569688768606225",
         "0.0",
         "0",
         "6.1",
         "0.17037514347274527",
         "0.06281459705123382",
         "0.05370587366386333",
         "1.0731640692144864"
        ],
        [
         "19",
         "119",
         "0.24769992922859163",
         "1.0",
         "9.368300751430645",
         "0.0",
         "0",
         "0.0",
         "0",
         null,
         null,
         "-526.0",
         null,
         null,
         "0.058823529411764705",
         "0.0",
         "0",
         "0.8500000000000001",
         null,
         null,
         null,
         "1.2399619260478978"
        ],
        [
         "20",
         "249",
         "0.5182964905707506",
         "1.0",
         "5.52817782162631",
         "0.0",
         "0",
         "0.0",
         "0",
         null,
         null,
         "-365.0",
         null,
         null,
         "0.07228915662650602",
         "0.0",
         "0",
         "1.0",
         null,
         null,
         null,
         "1.0060817696308515"
        ],
        [
         "21",
         "13",
         "0.027059656134215893",
         "1.0",
         "9.583845162903188",
         "0.0",
         "0",
         "0.0",
         "0",
         null,
         null,
         "-618.0",
         null,
         null,
         "0.07692307692307693",
         "0.0",
         "0",
         "0.2",
         null,
         null,
         null,
         "1.2929021372028948"
        ],
        [
         "22",
         "180",
         "0.37467216185837393",
         "1.0",
         "5.2656547033217205",
         "0.0",
         "0",
         "0.0",
         "0",
         null,
         null,
         "-296.0",
         null,
         null,
         "0.08333333333333333",
         "0.0",
         "0",
         "0.8500000000000001",
         null,
         null,
         null,
         "0.9652368781575323"
        ],
        [
         "23",
         "463",
         "0.9637400607801506",
         "1.0",
         "7.400411741656837",
         "0.7470296544742944",
         "1",
         "0.0",
         "0",
         null,
         null,
         "-424.0",
         null,
         null,
         "0.04967602591792657",
         "0.0",
         "0",
         "1.5000000000000002",
         null,
         null,
         null,
         "1.0462667236536312"
        ],
        [
         "24",
         "55",
         "0.11448316056783647",
         "1.0",
         "12.007489790670197",
         "0.0",
         "0",
         "0.0",
         "0",
         null,
         null,
         "-686.0",
         null,
         null,
         "0.05454545454545454",
         "0.0",
         "0",
         "0.4",
         null,
         null,
         null,
         "1.7886810404327103"
        ],
        [
         "25",
         "37",
         "0.07701594438199909",
         "1.0",
         "8.896765506405426",
         "116.97589481373265",
         "1",
         "1.0",
         "1",
         null,
         null,
         "-602.0",
         null,
         null,
         "0.13513513513513514",
         "0.0",
         "0",
         "0.4",
         null,
         null,
         null,
         "1.371527115529195"
        ],
        [
         "26",
         "1475",
         "3.070230215228342",
         "1.0",
         "6.98761004437753",
         "0.07360643493249067",
         "1",
         "0.11728787523761297",
         "1",
         "0.215",
         "0.0004999699610312089",
         "-405.0",
         "0.18691367458436212",
         "0.07949779566807508",
         "0.06305084745762712",
         "0.0",
         "0",
         "4.05",
         "0.2318747627816747",
         "0.06126452801051195",
         "0.023388299890744618",
         "1.0186327462881888"
        ],
        [
         "27",
         "57",
         "0.11864618458848507",
         "1.0",
         "8.65826697639196",
         "0.0",
         "0",
         "0.0",
         "0",
         null,
         null,
         "-581.0",
         null,
         null,
         "0.03508771929824561",
         "0.0",
         "0",
         "0.4",
         null,
         null,
         null,
         "1.5551561047800464"
        ],
        [
         "28",
         "101",
         "0.21023271304275426",
         "1.0",
         "9.627104020188908",
         "0.0",
         "0",
         "0.0",
         "0",
         null,
         null,
         "-547.0",
         null,
         null,
         "0.06930693069306931",
         "0.0",
         "0",
         "1.0",
         null,
         null,
         null,
         "1.1372073932322257"
        ],
        [
         "29",
         "71",
         "0.14778735273302526",
         "1.0",
         "9.046785598512992",
         "0.0",
         "0",
         "0.0",
         "0",
         null,
         null,
         "-517.0",
         null,
         null,
         "0.056338028169014086",
         "0.0",
         "0",
         "0.4",
         null,
         null,
         null,
         "1.2756787825906744"
        ],
        [
         "30",
         "1653",
         "3.4407393530660673",
         "1.0",
         "13.028094279361486",
         "0.17582287278368647",
         "3",
         "0.0",
         "0",
         "0.165",
         "0.0009987349783043807",
         "-537.0",
         "0.19235517710446345",
         "0.1489232248060407",
         "0.05021173623714459",
         "0.0",
         "0",
         "8.85",
         "0.27248321566947853",
         "0.08300143851389928",
         "0.06397310949733401",
         "1.6249411188766707"
        ],
        [
         "31",
         "553",
         "1.1510761417093376",
         "1.0",
         "6.905594684945034",
         "0.0",
         "0",
         "0.0",
         "0",
         null,
         "0.00795426884476382",
         "-325.0",
         "0.23438570766847439",
         "0.08776436887217448",
         "0.0867992766726944",
         "0.0",
         "0",
         "2.25",
         null,
         null,
         null,
         "1.3370262690363928"
        ],
        [
         "32",
         "746",
         "1.5528079597019275",
         "1.0",
         "8.01378758979266",
         "0.0",
         "0",
         "0.0",
         "0",
         null,
         "0.005445882910553737",
         "-316.5",
         "0.22084385534033046",
         "0.08116160732368682",
         "0.10455764075067024",
         "0.0",
         "0",
         "2.4",
         "0.10346640501039343",
         "0.026086307188865725",
         "0.02631280172768541",
         "1.1684071497358948"
        ],
        [
         "33",
         "310",
         "0.6452687232005329",
         "1.0",
         "3.311119138613789",
         "0.0",
         "0",
         "0.0",
         "0",
         null,
         null,
         "-142.5",
         null,
         null,
         "0.0967741935483871",
         "0.0032258064516129032",
         "0",
         "2.2",
         null,
         null,
         null,
         "1.2301161345717773"
        ],
        [
         "34",
         "376",
         "0.7826485158819366",
         "1.0",
         "9.55201594517739",
         "1.132724083295609",
         "1",
         "0.0",
         "0",
         null,
         null,
         "-370.0",
         null,
         null,
         "0.09840425531914894",
         "0.0",
         "0",
         "1.4500000000000002",
         null,
         null,
         null,
         "1.2935482615440372"
        ],
        [
         "35",
         "524",
         "1.090712293409933",
         "1.0",
         "7.057481345567313",
         "0.5832265019521008",
         "1",
         "1.0",
         "1",
         null,
         "0.001181320873142625",
         "-333.0",
         "0.22594196893957913",
         "0.07528006487386679",
         "0.11641221374045801",
         "0.0",
         "0",
         "2.4",
         null,
         null,
         null,
         "1.4052179369041016"
        ],
        [
         "36",
         "1526",
         "3.176387327754881",
         "1.0",
         "7.429167353534742",
         "0.0",
         "0",
         "0.0",
         "0",
         "0.14",
         "0.0033055291028316076",
         "-350.5",
         "0.15829851210004897",
         "0.06256380306874576",
         "0.08191349934469201",
         "0.0",
         "0",
         "6.25",
         "0.11452450654848828",
         "0.01830152794785348",
         "0.02496014706662731",
         "1.0027852230450716"
        ],
        [
         "37",
         "184",
         "0.3829982098996711",
         "1.0",
         "6.810880194914781",
         "0.0",
         "0",
         "0.0",
         "0",
         null,
         null,
         "-319.0",
         null,
         null,
         "0.059782608695652176",
         "0.0",
         "0",
         "1.05",
         null,
         null,
         null,
         "0.9562191814363443"
        ],
        [
         "38",
         "877",
         "1.8254860330544107",
         "1.0",
         "6.675150265570171",
         "0.0",
         "0",
         "0.0",
         "0",
         null,
         "0.0007569735571707483",
         "-266.0",
         "0.30868011652918925",
         "0.11832389026270923",
         "0.07981755986316989",
         "0.0",
         "0",
         "4.0",
         "0.2790307839260782",
         "0.06173972053378317",
         "0.040598289127500874",
         "1.2933414310245164"
        ],
        [
         "39",
         "163",
         "0.3392864576828608",
         "1.0",
         "10.380184226489574",
         "0.0",
         "0",
         "0.0",
         "0",
         null,
         null,
         "-403.0",
         null,
         null,
         "0.06748466257668712",
         "0.0",
         "0",
         "1.0",
         null,
         null,
         null,
         "1.7858032456401107"
        ],
        [
         "40",
         "1138",
         "2.368760667749053",
         "1.0",
         "7.286344148930721",
         "0.0",
         "0",
         "0.0",
         "0",
         "0.175",
         "0.0002274011616969162",
         "-343.0",
         "0.17477568091031548",
         "0.11228229724762567",
         "0.09226713532513181",
         "0.0008787346221441124",
         "0",
         "3.25",
         "0.13033909933465418",
         "0.029632332515968765",
         "0.026982599879642067",
         "1.1077733936219327"
        ],
        [
         "41",
         "8",
         "0.016652096082594395",
         "0.625",
         "13.21841826849118",
         "0.0",
         "0",
         "0.0",
         "0",
         null,
         null,
         "-578.0",
         null,
         null,
         "0.5",
         "0.0",
         "0",
         "0.2",
         null,
         null,
         null,
         "2.084522180578483"
        ],
        [
         "42",
         "18",
         "0.03746721618583739",
         "0.875",
         "5.080921920313886",
         "0.0",
         "0",
         "0.0",
         "0",
         null,
         null,
         "-244.0",
         null,
         null,
         "0.2222222222222222",
         "0.0",
         "0",
         "0.2",
         null,
         null,
         null,
         "0.7825951398678246"
        ],
        [
         "43",
         "707",
         "1.4716289912992797",
         "1.0",
         "6.791437294724346",
         "0.0",
         "0",
         "0.0",
         "0",
         null,
         "0.013102713380865903",
         "-323.0",
         "0.21176966690460589",
         "0.10080052734308312",
         "0.10891089108910891",
         "0.0",
         "0",
         "2.5999999999999996",
         null,
         null,
         null,
         "1.1845491896096936"
        ],
        [
         "44",
         "878",
         "1.827567545064735",
         "1.0",
         "5.441698993363213",
         "0.20773553478863227",
         "1",
         "0.0",
         "0",
         null,
         "0.0008226496067157071",
         "-259.0",
         "0.28662626444838224",
         "0.13309606179947053",
         "0.06719817767653759",
         "0.0",
         "0",
         "4.8",
         null,
         null,
         null,
         "1.2250208342971873"
        ],
        [
         "45",
         "984",
         "2.048207818159111",
         "1.0",
         "7.295980608972874",
         "0.0",
         "0",
         "0.0",
         "0",
         "0.33",
         "0.0006741318502890742",
         "-278.0",
         "0.33220874283950336",
         "0.08435052832422213",
         "0.07317073170731707",
         "0.0",
         "0",
         "3.65",
         "0.23333479188568923",
         "0.07134192245321824",
         "0.03394910823684792",
         "1.5005016712210795"
        ],
        [
         "46",
         "1369",
         "2.849589942133966",
         "1.0",
         "8.485830490522481",
         "0.34178493736664034",
         "4",
         "0.30191505248283745",
         "2",
         null,
         "0.00019180159437461608",
         "-334.0",
         "0.2342044549060303",
         "0.07755620411160316",
         "0.0606281957633309",
         "0.0",
         "0",
         "5.800000000000001",
         "0.1846628186761743",
         "0.05771282711244326",
         "0.042729769559926856",
         "1.2529748675922447"
        ],
        [
         "47",
         "152",
         "0.3163898255692935",
         "1.0",
         "14.051869795751701",
         "0.0",
         "0",
         "0.0",
         "0",
         null,
         null,
         "-570.5",
         null,
         null,
         "0.05263157894736842",
         "0.0",
         "0",
         "0.8",
         null,
         null,
         null,
         "1.6389778509736892"
        ],
        [
         "48",
         "604",
         "1.2572332542358768",
         "1.0",
         "8.545235550743454",
         "0.0",
         "0",
         "0.0",
         "0",
         null,
         "0.006486545096003731",
         "-343.0",
         "0.23887345369618684",
         "0.13762543479599645",
         "0.057947019867549666",
         "0.0",
         "0",
         "4.0",
         null,
         null,
         null,
         "1.3247350890293554"
        ],
        [
         "49",
         "20",
         "0.04163024020648599",
         "0.875",
         "20.6281448601635",
         "0.0",
         "0",
         "0.0",
         "0",
         null,
         null,
         "-811.0",
         null,
         null,
         "0.1",
         "0.0",
         "0",
         "0.2",
         null,
         null,
         null,
         "2.83631409912417"
        ]
       ],
       "shape": {
        "columns": 21,
        "rows": 420
       }
      },
      "text/html": [
       "<div>\n",
       "<style scoped>\n",
       "    .dataframe tbody tr th:only-of-type {\n",
       "        vertical-align: middle;\n",
       "    }\n",
       "\n",
       "    .dataframe tbody tr th {\n",
       "        vertical-align: top;\n",
       "    }\n",
       "\n",
       "    .dataframe thead th {\n",
       "        text-align: right;\n",
       "    }\n",
       "</style>\n",
       "<table border=\"1\" class=\"dataframe\">\n",
       "  <thead>\n",
       "    <tr style=\"text-align: right;\">\n",
       "      <th></th>\n",
       "      <th>num_spikes</th>\n",
       "      <th>firing_rate</th>\n",
       "      <th>presence_ratio</th>\n",
       "      <th>snr</th>\n",
       "      <th>isi_violations_ratio</th>\n",
       "      <th>isi_violations_count</th>\n",
       "      <th>rp_contamination</th>\n",
       "      <th>rp_violations</th>\n",
       "      <th>sliding_rp_violation</th>\n",
       "      <th>amplitude_cutoff</th>\n",
       "      <th>...</th>\n",
       "      <th>amplitude_cv_median</th>\n",
       "      <th>amplitude_cv_range</th>\n",
       "      <th>sync_spike_2</th>\n",
       "      <th>sync_spike_4</th>\n",
       "      <th>sync_spike_8</th>\n",
       "      <th>firing_range</th>\n",
       "      <th>drift_ptp</th>\n",
       "      <th>drift_std</th>\n",
       "      <th>drift_mad</th>\n",
       "      <th>sd_ratio</th>\n",
       "    </tr>\n",
       "  </thead>\n",
       "  <tbody>\n",
       "    <tr>\n",
       "      <th>0</th>\n",
       "      <td>569</td>\n",
       "      <td>1.18438</td>\n",
       "      <td>1.0</td>\n",
       "      <td>15.404955</td>\n",
       "      <td>0.0</td>\n",
       "      <td>0</td>\n",
       "      <td>0.0</td>\n",
       "      <td>0</td>\n",
       "      <td>&lt;NA&gt;</td>\n",
       "      <td>0.000457</td>\n",
       "      <td>...</td>\n",
       "      <td>0.164378</td>\n",
       "      <td>0.069247</td>\n",
       "      <td>0.059754</td>\n",
       "      <td>0.0</td>\n",
       "      <td>0</td>\n",
       "      <td>7.05</td>\n",
       "      <td>&lt;NA&gt;</td>\n",
       "      <td>&lt;NA&gt;</td>\n",
       "      <td>&lt;NA&gt;</td>\n",
       "      <td>1.523426</td>\n",
       "    </tr>\n",
       "    <tr>\n",
       "      <th>1</th>\n",
       "      <td>937</td>\n",
       "      <td>1.950377</td>\n",
       "      <td>1.0</td>\n",
       "      <td>9.196789</td>\n",
       "      <td>0.182398</td>\n",
       "      <td>1</td>\n",
       "      <td>0.327092</td>\n",
       "      <td>1</td>\n",
       "      <td>&lt;NA&gt;</td>\n",
       "      <td>0.002927</td>\n",
       "      <td>...</td>\n",
       "      <td>0.20421</td>\n",
       "      <td>0.081577</td>\n",
       "      <td>0.0619</td>\n",
       "      <td>0.0</td>\n",
       "      <td>0</td>\n",
       "      <td>5.25</td>\n",
       "      <td>0.159833</td>\n",
       "      <td>0.031271</td>\n",
       "      <td>0.045793</td>\n",
       "      <td>1.323444</td>\n",
       "    </tr>\n",
       "    <tr>\n",
       "      <th>2</th>\n",
       "      <td>742</td>\n",
       "      <td>1.544482</td>\n",
       "      <td>1.0</td>\n",
       "      <td>7.858597</td>\n",
       "      <td>0.0</td>\n",
       "      <td>0</td>\n",
       "      <td>0.0</td>\n",
       "      <td>0</td>\n",
       "      <td>&lt;NA&gt;</td>\n",
       "      <td>0.000584</td>\n",
       "      <td>...</td>\n",
       "      <td>0.233357</td>\n",
       "      <td>0.092148</td>\n",
       "      <td>0.053908</td>\n",
       "      <td>0.0</td>\n",
       "      <td>0</td>\n",
       "      <td>5.8</td>\n",
       "      <td>&lt;NA&gt;</td>\n",
       "      <td>&lt;NA&gt;</td>\n",
       "      <td>&lt;NA&gt;</td>\n",
       "      <td>1.552294</td>\n",
       "    </tr>\n",
       "    <tr>\n",
       "      <th>3</th>\n",
       "      <td>1455</td>\n",
       "      <td>3.0286</td>\n",
       "      <td>1.0</td>\n",
       "      <td>8.266892</td>\n",
       "      <td>0.0</td>\n",
       "      <td>0</td>\n",
       "      <td>0.0</td>\n",
       "      <td>0</td>\n",
       "      <td>0.175</td>\n",
       "      <td>0.001575</td>\n",
       "      <td>...</td>\n",
       "      <td>0.239492</td>\n",
       "      <td>0.131987</td>\n",
       "      <td>0.043986</td>\n",
       "      <td>0.0</td>\n",
       "      <td>0</td>\n",
       "      <td>11.85</td>\n",
       "      <td>0.241597</td>\n",
       "      <td>0.07766</td>\n",
       "      <td>0.051121</td>\n",
       "      <td>1.330967</td>\n",
       "    </tr>\n",
       "    <tr>\n",
       "      <th>4</th>\n",
       "      <td>1640</td>\n",
       "      <td>3.41368</td>\n",
       "      <td>1.0</td>\n",
       "      <td>5.975553</td>\n",
       "      <td>0.416783</td>\n",
       "      <td>7</td>\n",
       "      <td>0.0</td>\n",
       "      <td>0</td>\n",
       "      <td>0.21</td>\n",
       "      <td>0.001302</td>\n",
       "      <td>...</td>\n",
       "      <td>0.262335</td>\n",
       "      <td>0.092612</td>\n",
       "      <td>0.059146</td>\n",
       "      <td>0.0</td>\n",
       "      <td>0</td>\n",
       "      <td>6.1</td>\n",
       "      <td>0.122983</td>\n",
       "      <td>0.036517</td>\n",
       "      <td>0.025311</td>\n",
       "      <td>1.097203</td>\n",
       "    </tr>\n",
       "    <tr>\n",
       "      <th>...</th>\n",
       "      <td>...</td>\n",
       "      <td>...</td>\n",
       "      <td>...</td>\n",
       "      <td>...</td>\n",
       "      <td>...</td>\n",
       "      <td>...</td>\n",
       "      <td>...</td>\n",
       "      <td>...</td>\n",
       "      <td>...</td>\n",
       "      <td>...</td>\n",
       "      <td>...</td>\n",
       "      <td>...</td>\n",
       "      <td>...</td>\n",
       "      <td>...</td>\n",
       "      <td>...</td>\n",
       "      <td>...</td>\n",
       "      <td>...</td>\n",
       "      <td>...</td>\n",
       "      <td>...</td>\n",
       "      <td>...</td>\n",
       "      <td>...</td>\n",
       "    </tr>\n",
       "    <tr>\n",
       "      <th>415</th>\n",
       "      <td>156</td>\n",
       "      <td>0.324716</td>\n",
       "      <td>1.0</td>\n",
       "      <td>15.659351</td>\n",
       "      <td>0.0</td>\n",
       "      <td>0</td>\n",
       "      <td>0.0</td>\n",
       "      <td>0</td>\n",
       "      <td>&lt;NA&gt;</td>\n",
       "      <td>&lt;NA&gt;</td>\n",
       "      <td>...</td>\n",
       "      <td>&lt;NA&gt;</td>\n",
       "      <td>&lt;NA&gt;</td>\n",
       "      <td>0.108974</td>\n",
       "      <td>0.0</td>\n",
       "      <td>0</td>\n",
       "      <td>1.3</td>\n",
       "      <td>&lt;NA&gt;</td>\n",
       "      <td>&lt;NA&gt;</td>\n",
       "      <td>&lt;NA&gt;</td>\n",
       "      <td>2.123311</td>\n",
       "    </tr>\n",
       "    <tr>\n",
       "      <th>416</th>\n",
       "      <td>381</td>\n",
       "      <td>0.793056</td>\n",
       "      <td>1.0</td>\n",
       "      <td>9.991098</td>\n",
       "      <td>0.0</td>\n",
       "      <td>0</td>\n",
       "      <td>0.0</td>\n",
       "      <td>0</td>\n",
       "      <td>&lt;NA&gt;</td>\n",
       "      <td>&lt;NA&gt;</td>\n",
       "      <td>...</td>\n",
       "      <td>&lt;NA&gt;</td>\n",
       "      <td>&lt;NA&gt;</td>\n",
       "      <td>0.073491</td>\n",
       "      <td>0.0</td>\n",
       "      <td>0</td>\n",
       "      <td>2.05</td>\n",
       "      <td>&lt;NA&gt;</td>\n",
       "      <td>&lt;NA&gt;</td>\n",
       "      <td>&lt;NA&gt;</td>\n",
       "      <td>1.791351</td>\n",
       "    </tr>\n",
       "    <tr>\n",
       "      <th>417</th>\n",
       "      <td>302</td>\n",
       "      <td>0.628617</td>\n",
       "      <td>1.0</td>\n",
       "      <td>9.649481</td>\n",
       "      <td>0.0</td>\n",
       "      <td>0</td>\n",
       "      <td>0.0</td>\n",
       "      <td>0</td>\n",
       "      <td>&lt;NA&gt;</td>\n",
       "      <td>&lt;NA&gt;</td>\n",
       "      <td>...</td>\n",
       "      <td>&lt;NA&gt;</td>\n",
       "      <td>&lt;NA&gt;</td>\n",
       "      <td>0.05298</td>\n",
       "      <td>0.0</td>\n",
       "      <td>0</td>\n",
       "      <td>1.8</td>\n",
       "      <td>&lt;NA&gt;</td>\n",
       "      <td>&lt;NA&gt;</td>\n",
       "      <td>&lt;NA&gt;</td>\n",
       "      <td>1.575624</td>\n",
       "    </tr>\n",
       "    <tr>\n",
       "      <th>418</th>\n",
       "      <td>230</td>\n",
       "      <td>0.478748</td>\n",
       "      <td>1.0</td>\n",
       "      <td>8.503281</td>\n",
       "      <td>0.0</td>\n",
       "      <td>0</td>\n",
       "      <td>0.0</td>\n",
       "      <td>0</td>\n",
       "      <td>&lt;NA&gt;</td>\n",
       "      <td>&lt;NA&gt;</td>\n",
       "      <td>...</td>\n",
       "      <td>&lt;NA&gt;</td>\n",
       "      <td>&lt;NA&gt;</td>\n",
       "      <td>0.06087</td>\n",
       "      <td>0.0</td>\n",
       "      <td>0</td>\n",
       "      <td>1.2</td>\n",
       "      <td>&lt;NA&gt;</td>\n",
       "      <td>&lt;NA&gt;</td>\n",
       "      <td>&lt;NA&gt;</td>\n",
       "      <td>0.896367</td>\n",
       "    </tr>\n",
       "    <tr>\n",
       "      <th>419</th>\n",
       "      <td>153</td>\n",
       "      <td>0.318471</td>\n",
       "      <td>1.0</td>\n",
       "      <td>9.53297</td>\n",
       "      <td>0.0</td>\n",
       "      <td>0</td>\n",
       "      <td>0.0</td>\n",
       "      <td>0</td>\n",
       "      <td>&lt;NA&gt;</td>\n",
       "      <td>&lt;NA&gt;</td>\n",
       "      <td>...</td>\n",
       "      <td>&lt;NA&gt;</td>\n",
       "      <td>&lt;NA&gt;</td>\n",
       "      <td>0.078431</td>\n",
       "      <td>0.0</td>\n",
       "      <td>0</td>\n",
       "      <td>1.0</td>\n",
       "      <td>&lt;NA&gt;</td>\n",
       "      <td>&lt;NA&gt;</td>\n",
       "      <td>&lt;NA&gt;</td>\n",
       "      <td>2.056803</td>\n",
       "    </tr>\n",
       "  </tbody>\n",
       "</table>\n",
       "<p>420 rows × 21 columns</p>\n",
       "</div>"
      ],
      "text/plain": [
       "     num_spikes  firing_rate  presence_ratio        snr  isi_violations_ratio  \\\n",
       "0           569      1.18438             1.0  15.404955                   0.0   \n",
       "1           937     1.950377             1.0   9.196789              0.182398   \n",
       "2           742     1.544482             1.0   7.858597                   0.0   \n",
       "3          1455       3.0286             1.0   8.266892                   0.0   \n",
       "4          1640      3.41368             1.0   5.975553              0.416783   \n",
       "..          ...          ...             ...        ...                   ...   \n",
       "415         156     0.324716             1.0  15.659351                   0.0   \n",
       "416         381     0.793056             1.0   9.991098                   0.0   \n",
       "417         302     0.628617             1.0   9.649481                   0.0   \n",
       "418         230     0.478748             1.0   8.503281                   0.0   \n",
       "419         153     0.318471             1.0    9.53297                   0.0   \n",
       "\n",
       "     isi_violations_count  rp_contamination  rp_violations  \\\n",
       "0                       0               0.0              0   \n",
       "1                       1          0.327092              1   \n",
       "2                       0               0.0              0   \n",
       "3                       0               0.0              0   \n",
       "4                       7               0.0              0   \n",
       "..                    ...               ...            ...   \n",
       "415                     0               0.0              0   \n",
       "416                     0               0.0              0   \n",
       "417                     0               0.0              0   \n",
       "418                     0               0.0              0   \n",
       "419                     0               0.0              0   \n",
       "\n",
       "     sliding_rp_violation  amplitude_cutoff  ...  amplitude_cv_median  \\\n",
       "0                    <NA>          0.000457  ...             0.164378   \n",
       "1                    <NA>          0.002927  ...              0.20421   \n",
       "2                    <NA>          0.000584  ...             0.233357   \n",
       "3                   0.175          0.001575  ...             0.239492   \n",
       "4                    0.21          0.001302  ...             0.262335   \n",
       "..                    ...               ...  ...                  ...   \n",
       "415                  <NA>              <NA>  ...                 <NA>   \n",
       "416                  <NA>              <NA>  ...                 <NA>   \n",
       "417                  <NA>              <NA>  ...                 <NA>   \n",
       "418                  <NA>              <NA>  ...                 <NA>   \n",
       "419                  <NA>              <NA>  ...                 <NA>   \n",
       "\n",
       "     amplitude_cv_range  sync_spike_2  sync_spike_4  sync_spike_8  \\\n",
       "0              0.069247      0.059754           0.0             0   \n",
       "1              0.081577        0.0619           0.0             0   \n",
       "2              0.092148      0.053908           0.0             0   \n",
       "3              0.131987      0.043986           0.0             0   \n",
       "4              0.092612      0.059146           0.0             0   \n",
       "..                  ...           ...           ...           ...   \n",
       "415                <NA>      0.108974           0.0             0   \n",
       "416                <NA>      0.073491           0.0             0   \n",
       "417                <NA>       0.05298           0.0             0   \n",
       "418                <NA>       0.06087           0.0             0   \n",
       "419                <NA>      0.078431           0.0             0   \n",
       "\n",
       "     firing_range  drift_ptp  drift_std  drift_mad  sd_ratio  \n",
       "0            7.05       <NA>       <NA>       <NA>  1.523426  \n",
       "1            5.25   0.159833   0.031271   0.045793  1.323444  \n",
       "2             5.8       <NA>       <NA>       <NA>  1.552294  \n",
       "3           11.85   0.241597    0.07766   0.051121  1.330967  \n",
       "4             6.1   0.122983   0.036517   0.025311  1.097203  \n",
       "..            ...        ...        ...        ...       ...  \n",
       "415           1.3       <NA>       <NA>       <NA>  2.123311  \n",
       "416          2.05       <NA>       <NA>       <NA>  1.791351  \n",
       "417           1.8       <NA>       <NA>       <NA>  1.575624  \n",
       "418           1.2       <NA>       <NA>       <NA>  0.896367  \n",
       "419           1.0       <NA>       <NA>       <NA>  2.056803  \n",
       "\n",
       "[420 rows x 21 columns]"
      ]
     },
     "execution_count": 23,
     "metadata": {},
     "output_type": "execute_result"
    }
   ],
   "source": [
    "# compute quality metrics is in the same way as computing extensions\n",
    "analyzer.compute(\"quality_metrics\", qm_params)\n",
    "analyzer.get_extension(\"quality_metrics\").get_data()\n",
    "# quality metrics is also saved in subfolder"
   ]
  },
  {
   "cell_type": "code",
   "execution_count": null,
   "metadata": {},
   "outputs": [],
   "source": [
    "# using sortingview, we can visualize the sorting summary and quality metrics plot\n",
    "# this will generate a html file\n",
    "# this need sortingview installed and kachery-cloud constructed\n",
    "# 神奇的花哨功能\n",
    "# w1 = si.plot_quality_metrics(analyzer, display=False, backend=\"sortingview\")\n",
    "# w2 = sw.plot_sorting_summary(analyzer, display=False, curation=True, backend=\"sortingview\")\n",
    "# uri = \"sha1://68cb54a9aaed2303fb82dedbc302c853e818f1b6\"\n",
    "# sorting_curated_sv = si.apply_sortingview_curation(sorting, uri_or_json=uri)\n",
    "# print(sorting_curated_sv)\n",
    "# print(sorting_curated_sv.get_property(\"accept\"))"
   ]
  },
  {
   "cell_type": "code",
   "execution_count": 26,
   "metadata": {},
   "outputs": [
    {
     "data": {
      "application/vnd.jupyter.widget-view+json": {
       "model_id": "9409c10008ae4fa498c12d5fdc87ca88",
       "version_major": 2,
       "version_minor": 0
      },
      "text/plain": [
       "write_binary_recording:   0%|          | 0/481 [00:00<?, ?it/s]"
      ]
     },
     "metadata": {},
     "output_type": "display_data"
    },
    {
     "data": {
      "application/vnd.jupyter.widget-view+json": {
       "model_id": "b459ae2c038f42b39dc009120f3052b2",
       "version_major": 2,
       "version_minor": 0
      },
      "text/plain": [
       "Fitting PCA:   0%|          | 0/420 [00:00<?, ?it/s]"
      ]
     },
     "metadata": {},
     "output_type": "display_data"
    },
    {
     "data": {
      "application/vnd.jupyter.widget-view+json": {
       "model_id": "1639ea487e26495f861476ae20a43bd0",
       "version_major": 2,
       "version_minor": 0
      },
      "text/plain": [
       "Projecting waveforms:   0%|          | 0/420 [00:00<?, ?it/s]"
      ]
     },
     "metadata": {},
     "output_type": "display_data"
    },
    {
     "data": {
      "application/vnd.jupyter.widget-view+json": {
       "model_id": "56cbec8a48564fefb269c803ea3909c1",
       "version_major": 2,
       "version_minor": 0
      },
      "text/plain": [
       "extract PCs:   0%|          | 0/481 [00:00<?, ?it/s]"
      ]
     },
     "metadata": {},
     "output_type": "display_data"
    },
    {
     "name": "stdout",
     "output_type": "stream",
     "text": [
      "Run:\n",
      "phy template-gui  C:\\Users\\Jeff\\OneDrive\\Code\\SpikeInterface\\phy_folder_for_ks2\\params.py\n"
     ]
    }
   ],
   "source": [
    "# 一般流程是这个\n",
    "# export data locally to Phy\n",
    "si.export_to_phy(analyzer, \"phy_folder_for_ks2\", verbose=True)"
   ]
  },
  {
   "cell_type": "code",
   "execution_count": null,
   "metadata": {},
   "outputs": [],
   "source": [
    "# then we can use phy to curate the sorting results\n",
    "# phy template-gui  C:\\Users\\Jeff\\OneDrive\\Code\\SpikeInterface\\phy_folder_for_ks2\\params.py"
   ]
  },
  {
   "cell_type": "code",
   "execution_count": null,
   "metadata": {},
   "outputs": [],
   "source": [
    "# after curating with Phy, the data can be reloaded to SpikeInterface\n",
    "# we can exclude noise units\n",
    "sorting_curated = si.read_phy(\"phy_folder_for_ks2\", exclude_cluster_groups=[\"noise\"])"
   ]
  },
  {
   "cell_type": "code",
   "execution_count": null,
   "metadata": {},
   "outputs": [],
   "source": [
    "# this part is unused for now\n",
    "# automatic curation using quality metrics\n",
    "# example here: according to SNR threshold\n",
    "\n",
    "# qm_data = analyzer.get_extension(\"quality_metrics\").get_data()\n",
    "# keep_mask = (qm_data[\"snr\"] > 10) & (qm_data[\"isi_violations_ratio\"] < 0.01)\n",
    "# print(\"Mask:\", keep_mask.values)\n",
    "# sorting_curated_auto = sorting_curated.select_units(sorting_curated.unit_ids[keep_mask])\n",
    "# print(sorting_curated_auto)"
   ]
  },
  {
   "cell_type": "code",
   "execution_count": null,
   "metadata": {},
   "outputs": [],
   "source": [
    "# some TODO\n",
    "# the final part: compare outputs of different sorters or between ground truth\n",
    "# this part is useful for selecting the best sorter"
   ]
  },
  {
   "cell_type": "code",
   "execution_count": null,
   "metadata": {},
   "outputs": [
    {
     "name": "stdout",
     "output_type": "stream",
     "text": [
      "Traces shape: (60000, 72)\n",
      "ASSY-236-H5 - cambridgeneurotech - 64ch - 1shanks\n"
     ]
    },
    {
     "data": {
      "application/vnd.jupyter.widget-view+json": {
       "model_id": "e8d73bac1683420798af3fcf5d59feb3",
       "version_major": 2,
       "version_minor": 0
      },
      "text/plain": [
       "AppLayout(children=(TimeSlider(children=(Dropdown(description='segment', options=(0,), value=0), Button(icon='…"
      ]
     },
     "metadata": {},
     "output_type": "display_data"
    },
    {
     "name": "stdout",
     "output_type": "stream",
     "text": [
      "Properties:\n",
      " ['gain_to_uV', 'offset_to_uV', 'channel_names', 'contact_vector', 'location', 'group']\n",
      "['CA1', 'CA1', 'CA1', 'CA1', 'CA1', 'CA1', 'CA1', 'CA1', 'CA1', 'CA1', 'CA1', 'CA1', 'CA1', 'CA1', 'CA1', 'CA1', 'CA1', 'CA1', 'CA1', 'CA1', 'CA1', 'CA1', 'CA1', 'CA1', 'CA1', 'CA1', 'CA1', 'CA1', 'CA1', 'CA1', 'CA1', 'CA1', 'CA3', 'CA3', 'CA3', 'CA3', 'CA3', 'CA3', 'CA3', 'CA3', 'CA3', 'CA3', 'CA3', 'CA3', 'CA3', 'CA3', 'CA3', 'CA3', 'CA3', 'CA3', 'CA3', 'CA3', 'CA3', 'CA3', 'CA3', 'CA3', 'CA3', 'CA3', 'CA3', 'CA3', 'CA3', 'CA3', 'CA3', 'CA3']\n",
      "['is_filtered', 'probe_0_planar_contour', 'description']\n",
      "Dataset for SI tutorial\n"
     ]
    }
   ],
   "source": [
    "# 下面的部分代码都是来自于旧版本的 tutorial, 0.99 版本的, 0.101 版本的 SI 已经不再支持\n",
    "pi.get_available_pathways()\n",
    "probe.wiring_to_device('cambridgeneurotech_mini-amp-64')\n",
    "fig, ax = plt.subplots(figsize=(14, 10))\n",
    "plot_probe(probe, ax=ax)\n",
    "ax.set_xlim(-100, 100)\n",
    "ax.set_ylim(-50, 500)\n",
    "fig, ax = plt.subplots(figsize=(14, 10))\n",
    "plot_probe(probe, ax=ax, with_contact_id=True, with_device_index=True,)\n",
    "ax.set_xlim(-100, 100)\n",
    "ax.set_ylim(-50, 300)\n",
    "probe.to_dataframe(complete=True).loc[:, [\"contact_ids\", \"shank_ids\", \"device_channel_indices\"]]\n",
    "raw_rec = full_raw_rec.set_probe(probe)\n",
    "raw_rec\n",
    "probe_rec = raw_rec.get_probe()\n",
    "probe_rec.to_dataframe(complete=True).loc[:, [\"contact_ids\", \"device_channel_indices\"]]\n",
    "fig, ax = plt.subplots()\n",
    "si.plot_probe_map(raw_rec, with_channel_ids=True, ax=ax)\n",
    "ax.set_xlim(-100, 100)\n",
    "ax.set_ylim(-50, 300)\n",
    "%matplotlib widget\n",
    "si.plot_traces(raw_rec, backend=\"ipywidgets\", mode='line', channel_ids=raw_rec.channel_ids[::8])\n",
    "print(\"Properties:\\n\", list(raw_rec.get_property_keys()))\n",
    "brain_area_property_values = ['CA1']*32 + ['CA3']*32\n",
    "print(brain_area_property_values)\n",
    "raw_rec.set_property(key='brain_area', values=brain_area_property_values)\n",
    "raw_rec.get_property_keys()\n",
    "raw_rec.get_property(\"brain_area\")\n",
    "raw_rec.annotate(description=\"Dataset for SI tutorial\")\n",
    "print(raw_rec.get_annotation_keys())\n",
    "print(raw_rec._annotations['description'])"
   ]
  },
  {
   "cell_type": "markdown",
   "metadata": {},
   "source": [
    "# 2. Preprocessing <a class=\"anchor\" id=\"preprocessing\"></a>"
   ]
  },
  {
   "cell_type": "code",
   "execution_count": 3,
   "metadata": {
    "pycharm": {
     "name": "#%%\n"
    }
   },
   "outputs": [
    {
     "data": {
      "application/vnd.jupyter.widget-view+json": {
       "model_id": "a7d4836b830d4bfab6a7a32386075d00",
       "version_major": 2,
       "version_minor": 0
      },
      "text/plain": [
       "AppLayout(children=(TimeSlider(children=(Dropdown(description='segment', options=(0,), value=0), Button(icon='…"
      ]
     },
     "metadata": {},
     "output_type": "display_data"
    },
    {
     "name": "stdout",
     "output_type": "stream",
     "text": [
      "bad_channel_ids ['CH1' 'CH2' 'CH3' 'CH4' 'CH5' 'CH6' 'CH7' 'CH8' 'CH40' 'CH57' 'CH58'\n",
      " 'CH59' 'CH60' 'CH61' 'CH64']\n",
      "channel_labels ['dead' 'dead' 'dead' 'dead' 'dead' 'dead' 'dead' 'dead' 'good' 'good'\n",
      " 'good' 'good' 'good' 'good' 'good' 'good' 'good' 'good' 'good' 'good'\n",
      " 'good' 'good' 'good' 'good' 'good' 'good' 'good' 'good' 'good' 'good'\n",
      " 'good' 'good' 'good' 'good' 'good' 'good' 'good' 'good' 'good' 'noise'\n",
      " 'good' 'good' 'good' 'good' 'good' 'good' 'good' 'good' 'good' 'good'\n",
      " 'good' 'good' 'good' 'good' 'good' 'good' 'dead' 'dead' 'dead' 'dead'\n",
      " 'dead' 'good' 'good' 'dead']\n",
      "CommonReferenceRecording: 49 channels - 30.0kHz - 1 segments - 9,000,000 samples \n",
      "                          300.00s (5.00 minutes) - int16 dtype - 841.14 MiB\n",
      "['CH9' 'CH10' 'CH11' 'CH12' 'CH13' 'CH14' 'CH15' 'CH16' 'CH17' 'CH18'\n",
      " 'CH19' 'CH20' 'CH21' 'CH22' 'CH23' 'CH24' 'CH25' 'CH26' 'CH27' 'CH28'\n",
      " 'CH29' 'CH30' 'CH31' 'CH32' 'CH33' 'CH34' 'CH35' 'CH36' 'CH37' 'CH38'\n",
      " 'CH39' 'CH41' 'CH42' 'CH43' 'CH44' 'CH45' 'CH46' 'CH47' 'CH48' 'CH49'\n",
      " 'CH50' 'CH51' 'CH52' 'CH53' 'CH54' 'CH55' 'CH56' 'CH62' 'CH63']\n"
     ]
    },
    {
     "data": {
      "application/vnd.jupyter.widget-view+json": {
       "model_id": "28176424166b4149ace4cb3e22ae75b5",
       "version_major": 2,
       "version_minor": 0
      },
      "text/plain": [
       "AppLayout(children=(TimeSlider(children=(Dropdown(description='segment', options=(0,), value=0), Button(icon='…"
      ]
     },
     "metadata": {},
     "output_type": "display_data"
    },
    {
     "data": {
      "text/html": [
       "<div style='border:1px solid #ddd; padding:10px;'><strong>FrameSliceRecording: 64 channels - 30.0kHz - 1 segments - 9,000,000 samples - 300.00s (5.00 minutes) - int16 dtype - 1.07 GiB</strong></div><details style='margin-left: 10px;'>  <summary><strong>Channel IDs</strong></summary><ul>['CH1' 'CH2' 'CH3' 'CH4' 'CH5' 'CH6' 'CH7' 'CH8' 'CH9' 'CH10' 'CH11'\n",
       " 'CH12' 'CH13' 'CH14' 'CH15' 'CH16' 'CH17' 'CH18' 'CH19' 'CH20' 'CH21'\n",
       " 'CH22' 'CH23' 'CH24' 'CH25' 'CH26' 'CH27' 'CH28' 'CH29' 'CH30' 'CH31'\n",
       " 'CH32' 'CH33' 'CH34' 'CH35' 'CH36' 'CH37' 'CH38' 'CH39' 'CH40' 'CH41'\n",
       " 'CH42' 'CH43' 'CH44' 'CH45' 'CH46' 'CH47' 'CH48' 'CH49' 'CH50' 'CH51'\n",
       " 'CH52' 'CH53' 'CH54' 'CH55' 'CH56' 'CH57' 'CH58' 'CH59' 'CH60' 'CH61'\n",
       " 'CH62' 'CH63' 'CH64'] </details><details style='margin-left: 10px;'>  <summary><strong>Annotations</strong></summary><ul><li> <strong> is_filtered </strong>: False</li><li> <strong> probe_0_planar_contour </strong>: [[-10. 900.]\n",
       " [-10. -10.]\n",
       " [ 12. -30.]\n",
       " [ 30.  10.]\n",
       " [ 70. 900.]]</li><li> <strong> description </strong>: Dataset for SI tutorial</li></ul> </details><details style='margin-left: 10px;'><summary><strong>Channel Properties</strong></summary><ul><details><summary> <strong> gain_to_uV </strong> </summary>[0.19499999 0.19499999 0.19499999 0.19499999 0.19499999 0.19499999\n",
       " 0.19499999 0.19499999 0.19499999 0.19499999 0.19499999 0.19499999\n",
       " 0.19499999 0.19499999 0.19499999 0.19499999 0.19499999 0.19499999\n",
       " 0.19499999 0.19499999 0.19499999 0.19499999 0.19499999 0.19499999\n",
       " 0.19499999 0.19499999 0.19499999 0.19499999 0.19499999 0.19499999\n",
       " 0.19499999 0.19499999 0.19499999 0.19499999 0.19499999 0.19499999\n",
       " 0.19499999 0.19499999 0.19499999 0.19499999 0.19499999 0.19499999\n",
       " 0.19499999 0.19499999 0.19499999 0.19499999 0.19499999 0.19499999\n",
       " 0.19499999 0.19499999 0.19499999 0.19499999 0.19499999 0.19499999\n",
       " 0.19499999 0.19499999 0.19499999 0.19499999 0.19499999 0.19499999\n",
       " 0.19499999 0.19499999 0.19499999 0.19499999]</details><details><summary> <strong> offset_to_uV </strong> </summary>[0. 0. 0. 0. 0. 0. 0. 0. 0. 0. 0. 0. 0. 0. 0. 0. 0. 0. 0. 0. 0. 0. 0. 0.\n",
       " 0. 0. 0. 0. 0. 0. 0. 0. 0. 0. 0. 0. 0. 0. 0. 0. 0. 0. 0. 0. 0. 0. 0. 0.\n",
       " 0. 0. 0. 0. 0. 0. 0. 0. 0. 0. 0. 0. 0. 0. 0. 0.]</details><details><summary> <strong> channel_names </strong> </summary>['CH1' 'CH2' 'CH3' 'CH4' 'CH5' 'CH6' 'CH7' 'CH8' 'CH9' 'CH10' 'CH11'\n",
       " 'CH12' 'CH13' 'CH14' 'CH15' 'CH16' 'CH17' 'CH18' 'CH19' 'CH20' 'CH21'\n",
       " 'CH22' 'CH23' 'CH24' 'CH25' 'CH26' 'CH27' 'CH28' 'CH29' 'CH30' 'CH31'\n",
       " 'CH32' 'CH33' 'CH34' 'CH35' 'CH36' 'CH37' 'CH38' 'CH39' 'CH40' 'CH41'\n",
       " 'CH42' 'CH43' 'CH44' 'CH45' 'CH46' 'CH47' 'CH48' 'CH49' 'CH50' 'CH51'\n",
       " 'CH52' 'CH53' 'CH54' 'CH55' 'CH56' 'CH57' 'CH58' 'CH59' 'CH60' 'CH61'\n",
       " 'CH62' 'CH63' 'CH64']</details><details><summary> <strong> contact_vector </strong> </summary>[(0,  0. , 775. , 'rect', 11., 15., '', '64',  0, 'um', 1., 0., 0., 1.)\n",
       " (0,  0. , 400. , 'rect', 11., 15., '', '63',  1, 'um', 1., 0., 0., 1.)\n",
       " (0,  0. , 450. , 'rect', 11., 15., '', '62',  2, 'um', 1., 0., 0., 1.)\n",
       " (0,  0. , 700. , 'rect', 11., 15., '', '61',  3, 'um', 1., 0., 0., 1.)\n",
       " (0,  0. , 650. , 'rect', 11., 15., '', '60',  4, 'um', 1., 0., 0., 1.)\n",
       " (0,  0. , 575. , 'rect', 11., 15., '', '59',  5, 'um', 1., 0., 0., 1.)\n",
       " (0, 22.5, 762.5, 'rect', 11., 15., '', '58',  6, 'um', 1., 0., 0., 1.)\n",
       " (0, 22.5, 537.5, 'rect', 11., 15., '', '57',  7, 'um', 1., 0., 0., 1.)\n",
       " (0,  0. , 750. , 'rect', 11., 15., '', '48',  8, 'um', 1., 0., 0., 1.)\n",
       " (0,  0. , 375. , 'rect', 11., 15., '', '46',  9, 'um', 1., 0., 0., 1.)\n",
       " (0,  0. , 525. , 'rect', 11., 15., '', '47', 10, 'um', 1., 0., 0., 1.)\n",
       " (0, 22.5, 437.5, 'rect', 11., 15., '', '45', 11, 'um', 1., 0., 0., 1.)\n",
       " (0, 22.5, 487.5, 'rect', 11., 15., '', '44', 12, 'um', 1., 0., 0., 1.)\n",
       " (0, 22.5, 562.5, 'rect', 11., 15., '', '43', 13, 'um', 1., 0., 0., 1.)\n",
       " (0,  0. , 550. , 'rect', 11., 15., '', '32', 14, 'um', 1., 0., 0., 1.)\n",
       " (0, 22.5, 687.5, 'rect', 11., 15., '', '42', 15, 'um', 1., 0., 0., 1.)\n",
       " (0,  0. , 475. , 'rect', 11., 15., '', '31', 16, 'um', 1., 0., 0., 1.)\n",
       " (0, 22.5, 787.5, 'rect', 11., 15., '', '30', 17, 'um', 1., 0., 0., 1.)\n",
       " (0, 22.5, 512.5, 'rect', 11., 15., '', '28', 18, 'um', 1., 0., 0., 1.)\n",
       " (0,  0. , 625. , 'rect', 11., 15., '', '29', 19, 'um', 1., 0., 0., 1.)\n",
       " (0,  0. , 725. , 'rect', 11., 15., '', '16', 20, 'um', 1., 0., 0., 1.)\n",
       " (0, 22.5, 737.5, 'rect', 11., 15., '', '27', 21, 'um', 1., 0., 0., 1.)\n",
       " (0,  0. , 425. , 'rect', 11., 15., '', '15', 22, 'um', 1., 0., 0., 1.)\n",
       " (0, 22.5, 662.5, 'rect', 11., 15., '', '26', 23, 'um', 1., 0., 0., 1.)\n",
       " (0,  0. , 500. , 'rect', 11., 15., '', '14', 24, 'um', 1., 0., 0., 1.)\n",
       " (0,  0. , 675. , 'rect', 11., 15., '', '13', 25, 'um', 1., 0., 0., 1.)\n",
       " (0,  0. , 600. , 'rect', 11., 15., '', '12', 26, 'um', 1., 0., 0., 1.)\n",
       " (0, 22.5, 612.5, 'rect', 11., 15., '', '25', 27, 'um', 1., 0., 0., 1.)\n",
       " (0, 22.5, 462.5, 'rect', 11., 15., '', '11', 28, 'um', 1., 0., 0., 1.)\n",
       " (0, 22.5, 587.5, 'rect', 11., 15., '', '9', 29, 'um', 1., 0., 0., 1.)\n",
       " (0, 22.5, 712.5, 'rect', 11., 15., '', '10', 30, 'um', 1., 0., 0., 1.)\n",
       " (0, 22.5, 637.5, 'rect', 11., 15., '', '24', 31, 'um', 1., 0., 0., 1.)\n",
       " (0,  0. , 275. , 'rect', 11., 15., '', '8', 32, 'um', 1., 0., 0., 1.)\n",
       " (0, 22.5, 337.5, 'rect', 11., 15., '', '7', 33, 'um', 1., 0., 0., 1.)\n",
       " (0, 22.5, 212.5, 'rect', 11., 15., '', '6', 34, 'um', 1., 0., 0., 1.)\n",
       " (0,  0. , 100. , 'rect', 11., 15., '', '5', 35, 'um', 1., 0., 0., 1.)\n",
       " (0,  0. , 350. , 'rect', 11., 15., '', '23', 36, 'um', 1., 0., 0., 1.)\n",
       " (0, 22.5, 137.5, 'rect', 11., 15., '', '4', 37, 'um', 1., 0., 0., 1.)\n",
       " (0,  0. ,  50. , 'rect', 11., 15., '', '3', 38, 'um', 1., 0., 0., 1.)\n",
       " (0, 22.5,  12.5, 'rect', 11., 15., '', '2', 39, 'um', 1., 0., 0., 1.)\n",
       " (0, 22.5, 312.5, 'rect', 11., 15., '', '22', 40, 'um', 1., 0., 0., 1.)\n",
       " (0, 22.5, 162.5, 'rect', 11., 15., '', '1', 41, 'um', 1., 0., 0., 1.)\n",
       " (0, 22.5, 112.5, 'rect', 11., 15., '', '21', 42, 'um', 1., 0., 0., 1.)\n",
       " (0, 22.5, 237.5, 'rect', 11., 15., '', '20', 43, 'um', 1., 0., 0., 1.)\n",
       " (0,  0. , 175. , 'rect', 11., 15., '', '19', 44, 'um', 1., 0., 0., 1.)\n",
       " (0, 22.5, 387.5, 'rect', 11., 15., '', '18', 45, 'um', 1., 0., 0., 1.)\n",
       " (0,  0. ,  75. , 'rect', 11., 15., '', '17', 46, 'um', 1., 0., 0., 1.)\n",
       " (0, 22.5, 262.5, 'rect', 11., 15., '', '41', 47, 'um', 1., 0., 0., 1.)\n",
       " (0,  0. , 300. , 'rect', 11., 15., '', '40', 48, 'um', 1., 0., 0., 1.)\n",
       " (0,  0. , 200. , 'rect', 11., 15., '', '39', 49, 'um', 1., 0., 0., 1.)\n",
       " (0,  0. , 325. , 'rect', 11., 15., '', '38', 50, 'um', 1., 0., 0., 1.)\n",
       " (0, 22.5,  37.5, 'rect', 11., 15., '', '37', 51, 'um', 1., 0., 0., 1.)\n",
       " (0,  0. , 225. , 'rect', 11., 15., '', '36', 52, 'um', 1., 0., 0., 1.)\n",
       " (0, 22.5, 412.5, 'rect', 11., 15., '', '34', 53, 'um', 1., 0., 0., 1.)\n",
       " (0,  0. , 150. , 'rect', 11., 15., '', '35', 54, 'um', 1., 0., 0., 1.)\n",
       " (0, 22.5,  62.5, 'rect', 11., 15., '', '33', 55, 'um', 1., 0., 0., 1.)\n",
       " (0, 22.5, 287.5, 'rect', 11., 15., '', '56', 56, 'um', 1., 0., 0., 1.)\n",
       " (0,  0. , 250. , 'rect', 11., 15., '', '55', 57, 'um', 1., 0., 0., 1.)\n",
       " (0, 22.5, 362.5, 'rect', 11., 15., '', '54', 58, 'um', 1., 0., 0., 1.)\n",
       " (0, 22.5,  87.5, 'rect', 11., 15., '', '53', 59, 'um', 1., 0., 0., 1.)\n",
       " (0,  0. , 125. , 'rect', 11., 15., '', '52', 60, 'um', 1., 0., 0., 1.)\n",
       " (0,  0. ,  25. , 'rect', 11., 15., '', '51', 61, 'um', 1., 0., 0., 1.)\n",
       " (0,  0. ,   0. , 'rect', 11., 15., '', '50', 62, 'um', 1., 0., 0., 1.)\n",
       " (0, 22.5, 187.5, 'rect', 11., 15., '', '49', 63, 'um', 1., 0., 0., 1.)]</details><details><summary> <strong> location </strong> </summary>[[  0.  775. ]\n",
       " [  0.  400. ]\n",
       " [  0.  450. ]\n",
       " [  0.  700. ]\n",
       " [  0.  650. ]\n",
       " [  0.  575. ]\n",
       " [ 22.5 762.5]\n",
       " [ 22.5 537.5]\n",
       " [  0.  750. ]\n",
       " [  0.  375. ]\n",
       " [  0.  525. ]\n",
       " [ 22.5 437.5]\n",
       " [ 22.5 487.5]\n",
       " [ 22.5 562.5]\n",
       " [  0.  550. ]\n",
       " [ 22.5 687.5]\n",
       " [  0.  475. ]\n",
       " [ 22.5 787.5]\n",
       " [ 22.5 512.5]\n",
       " [  0.  625. ]\n",
       " [  0.  725. ]\n",
       " [ 22.5 737.5]\n",
       " [  0.  425. ]\n",
       " [ 22.5 662.5]\n",
       " [  0.  500. ]\n",
       " [  0.  675. ]\n",
       " [  0.  600. ]\n",
       " [ 22.5 612.5]\n",
       " [ 22.5 462.5]\n",
       " [ 22.5 587.5]\n",
       " [ 22.5 712.5]\n",
       " [ 22.5 637.5]\n",
       " [  0.  275. ]\n",
       " [ 22.5 337.5]\n",
       " [ 22.5 212.5]\n",
       " [  0.  100. ]\n",
       " [  0.  350. ]\n",
       " [ 22.5 137.5]\n",
       " [  0.   50. ]\n",
       " [ 22.5  12.5]\n",
       " [ 22.5 312.5]\n",
       " [ 22.5 162.5]\n",
       " [ 22.5 112.5]\n",
       " [ 22.5 237.5]\n",
       " [  0.  175. ]\n",
       " [ 22.5 387.5]\n",
       " [  0.   75. ]\n",
       " [ 22.5 262.5]\n",
       " [  0.  300. ]\n",
       " [  0.  200. ]\n",
       " [  0.  325. ]\n",
       " [ 22.5  37.5]\n",
       " [  0.  225. ]\n",
       " [ 22.5 412.5]\n",
       " [  0.  150. ]\n",
       " [ 22.5  62.5]\n",
       " [ 22.5 287.5]\n",
       " [  0.  250. ]\n",
       " [ 22.5 362.5]\n",
       " [ 22.5  87.5]\n",
       " [  0.  125. ]\n",
       " [  0.   25. ]\n",
       " [  0.    0. ]\n",
       " [ 22.5 187.5]]</details><details><summary> <strong> group </strong> </summary>[0 0 0 0 0 0 0 0 0 0 0 0 0 0 0 0 0 0 0 0 0 0 0 0 0 0 0 0 0 0 0 0 0 0 0 0 0\n",
       " 0 0 0 0 0 0 0 0 0 0 0 0 0 0 0 0 0 0 0 0 0 0 0 0 0 0 0]</details><details><summary> <strong> brain_area </strong> </summary>['CA1' 'CA1' 'CA1' 'CA1' 'CA1' 'CA1' 'CA1' 'CA1' 'CA1' 'CA1' 'CA1' 'CA1'\n",
       " 'CA1' 'CA1' 'CA1' 'CA1' 'CA1' 'CA1' 'CA1' 'CA1' 'CA1' 'CA1' 'CA1' 'CA1'\n",
       " 'CA1' 'CA1' 'CA1' 'CA1' 'CA1' 'CA1' 'CA1' 'CA1' 'CA3' 'CA3' 'CA3' 'CA3'\n",
       " 'CA3' 'CA3' 'CA3' 'CA3' 'CA3' 'CA3' 'CA3' 'CA3' 'CA3' 'CA3' 'CA3' 'CA3'\n",
       " 'CA3' 'CA3' 'CA3' 'CA3' 'CA3' 'CA3' 'CA3' 'CA3' 'CA3' 'CA3' 'CA3' 'CA3'\n",
       " 'CA3' 'CA3' 'CA3' 'CA3']</details></ul></details>"
      ],
      "text/plain": [
       "FrameSliceRecording: 64 channels - 30.0kHz - 1 segments - 9,000,000 samples \n",
       "                     300.00s (5.00 minutes) - int16 dtype - 1.07 GiB"
      ]
     },
     "execution_count": 3,
     "metadata": {},
     "output_type": "execute_result"
    }
   ],
   "source": [
    "recording_f = si.bandpass_filter(raw_rec, freq_min=300, freq_max=9000)\n",
    "recording_cmr = si.common_reference(recording_f, reference='global', operator='median')\n",
    "w = si.plot_traces({\"filtered\": recording_f, \"common\": recording_cmr}, mode='map',\n",
    "                   time_range=[10, 10.1], backend=\"ipywidgets\")\n",
    "bad_channel_ids, channel_labels = si.detect_bad_channels(recording_f, method='coherence+psd')\n",
    "print('bad_channel_ids', bad_channel_ids)\n",
    "print('channel_labels', channel_labels)\n",
    "recording_good_channels_f = recording_f.remove_channels(bad_channel_ids)\n",
    "recording_good_channels = si.common_reference(recording_good_channels_f, reference='global', operator='median')\n",
    "print(recording_good_channels)\n",
    "print(recording_good_channels.channel_ids)\n",
    "w = si.plot_traces(recording_good_channels, mode='map',\n",
    "                   time_range=[10, 10.1],\n",
    "                   backend=\"ipywidgets\")\n",
    "fs = recording_cmr.get_sampling_frequency()\n",
    "recording_sub = recording_good_channels.frame_slice(start_frame=0*fs, end_frame=300*fs)\n",
    "recording_sub\n",
    "raw_rec_sub = raw_rec.frame_slice(start_frame=0*fs, end_frame=300*fs)\n",
    "raw_rec_sub"
   ]
  },
  {
   "cell_type": "markdown",
   "metadata": {
    "pycharm": {
     "name": "#%% md\n"
    }
   },
   "source": [
    "# 3. Saving and loading SpikeInterface objects <a class=\"anchor\" id=\"save-load\"></a>"
   ]
  },
  {
   "cell_type": "code",
   "execution_count": 4,
   "metadata": {},
   "outputs": [
    {
     "name": "stderr",
     "output_type": "stream",
     "text": [
      "'ls' is not recognized as an internal or external command,\n",
      "operable program or batch file.\n"
     ]
    },
    {
     "name": "stdout",
     "output_type": "stream",
     "text": [
      "Saved channels ids:\n",
      "['CH9' 'CH10' 'CH11' 'CH12' 'CH13' 'CH14' 'CH15' 'CH16' 'CH17' 'CH18'\n",
      " 'CH19' 'CH20' 'CH21' 'CH22' 'CH23' 'CH24' 'CH25' 'CH26' 'CH27' 'CH28'\n",
      " 'CH29' 'CH30' 'CH31' 'CH32' 'CH33' 'CH34' 'CH35' 'CH36' 'CH37' 'CH38'\n",
      " 'CH39' 'CH41' 'CH42' 'CH43' 'CH44' 'CH45' 'CH46' 'CH47' 'CH48' 'CH49'\n",
      " 'CH50' 'CH51' 'CH52' 'CH53' 'CH54' 'CH55' 'CH56' 'CH62' 'CH63']\n",
      "Loaded channels ids:\n",
      "['CH9' 'CH10' 'CH11' 'CH12' 'CH13' 'CH14' 'CH15' 'CH16' 'CH17' 'CH18'\n",
      " 'CH19' 'CH20' 'CH21' 'CH22' 'CH23' 'CH24' 'CH25' 'CH26' 'CH27' 'CH28'\n",
      " 'CH29' 'CH30' 'CH31' 'CH32' 'CH33' 'CH34' 'CH35' 'CH36' 'CH37' 'CH38'\n",
      " 'CH39' 'CH41' 'CH42' 'CH43' 'CH44' 'CH45' 'CH46' 'CH47' 'CH48' 'CH49'\n",
      " 'CH50' 'CH51' 'CH52' 'CH53' 'CH54' 'CH55' 'CH56' 'CH62' 'CH63']\n"
     ]
    },
    {
     "name": "stderr",
     "output_type": "stream",
     "text": [
      "'du' is not recognized as an internal or external command,\n",
      "operable program or batch file.\n",
      "'du' is not recognized as an internal or external command,\n",
      "operable program or batch file.\n"
     ]
    }
   ],
   "source": [
    "n_cpus = os.cpu_count()\n",
    "n_jobs = n_cpus - 4\n",
    "job_kwargs = dict(n_jobs=n_jobs, chunk_duration=\"1s\", progress_bar=True)\n",
    "# kwargs: keyword arguments\n",
    "if (base_folder / \"preprocessed\").is_dir():\n",
    "    recording_saved = si.load_extractor(base_folder / \"preprocessed\")\n",
    "else:\n",
    "    recording_saved = recording_sub.save(folder=base_folder / \"preprocessed\", **job_kwargs)\n",
    "recording_saved\n",
    "!ls -llh {base_folder}/preprocessed  # linux 命令, 列出 'base_folder/preprocessed' 目录下的所有文件\n",
    "print(f'Saved channels ids:\\n{recording_saved.get_channel_ids()}')\n",
    "recording_loaded = si.load_extractor(base_folder / \"preprocessed\")\n",
    "print(f'Loaded channels ids:\\n{recording_loaded.get_channel_ids()}')\n",
    "# import numcodecs\n",
    "if (base_folder / \"preprocessed_compressed.zarr\").is_dir():\n",
    "    recording_saved = si.read_zarr(base_folder / \"preprocessed_compressed.zarr\")\n",
    "else:\n",
    "    import numcodecs\n",
    "    compressor = numcodecs.Blosc(cname=\"zstd\", clevel=9, shuffle=numcodecs.Blosc.BITSHUFFLE)\n",
    "    recording_saved = recording_sub.save(format=\"zarr\", folder=base_folder / \"preprocessed_compressed.zarr\",\n",
    "                                         compressor=compressor,\n",
    "                                         **job_kwargs)\n",
    "!du -sh {base_folder}/preprocessed_compressed.zarr  # du 命令用来获取指定目录或文件的大小\n",
    "!du -sh {base_folder}/preprocessed  # 这里是为了展现压缩率"
   ]
  },
  {
   "cell_type": "markdown",
   "metadata": {},
   "source": [
    "# 4. Spike sorting <a class=\"anchor\" id=\"spike-sorting\"></a>"
   ]
  },
  {
   "cell_type": "code",
   "execution_count": 5,
   "metadata": {},
   "outputs": [
    {
     "data": {
      "text/plain": [
       "['simple', 'spykingcircus2', 'tridesclous', 'tridesclous2']"
      ]
     },
     "execution_count": 5,
     "metadata": {},
     "output_type": "execute_result"
    }
   ],
   "source": [
    "si.available_sorters()\n",
    "si.installed_sorters()"
   ]
  },
  {
   "cell_type": "markdown",
   "metadata": {},
   "source": [
    "### Run sorter in container"
   ]
  },
  {
   "cell_type": "code",
   "execution_count": 7,
   "metadata": {},
   "outputs": [
    {
     "name": "stdout",
     "output_type": "stream",
     "text": [
      "installation_mode='auto' switching to installation_mode: 'github'\n",
      "Starting container\n",
      "Installing spikeinterface with github in container\n",
      "Running kilosort sorter inside spikeinterface/kilosort-compiled-base\n",
      "Stopping container\n",
      "KS found 240 units\n"
     ]
    }
   ],
   "source": [
    "# run spike sorting on entire recording\n",
    "sorting_KS = si.run_sorter('kilosort', recording_saved, \n",
    "                           output_folder=base_folder / 'results_KS', \n",
    "                           verbose=True, \n",
    "                           docker_image=True, \n",
    "                           **job_kwargs)\n",
    "sorting_KS\n",
    "print(f'KS found {len(sorting_KS.get_unit_ids())} units')"
   ]
  },
  {
   "cell_type": "markdown",
   "metadata": {},
   "source": [
    "# 5. Postprocessing <a class=\"anchor\" id=\"waveforms\"></a>"
   ]
  },
  {
   "cell_type": "code",
   "execution_count": 8,
   "metadata": {},
   "outputs": [],
   "source": [
    "# prepare data for this part\n",
    "recording_saved = si.load_extractor(base_folder / \"preprocessed\")\n",
    "sorting = sorting_KS"
   ]
  },
  {
   "cell_type": "code",
   "execution_count": 50,
   "metadata": {},
   "outputs": [
    {
     "name": "stdout",
     "output_type": "stream",
     "text": [
      "\u001b[1;31mSignature:\u001b[0m\n",
      "\u001b[0msi\u001b[0m\u001b[1;33m.\u001b[0m\u001b[0mcreate_sorting_analyzer\u001b[0m\u001b[1;33m(\u001b[0m\u001b[1;33m\n",
      "\u001b[0m    \u001b[0msorting\u001b[0m\u001b[1;33m,\u001b[0m\u001b[1;33m\n",
      "\u001b[0m    \u001b[0mrecording\u001b[0m\u001b[1;33m,\u001b[0m\u001b[1;33m\n",
      "\u001b[0m    \u001b[0mformat\u001b[0m\u001b[1;33m=\u001b[0m\u001b[1;34m'memory'\u001b[0m\u001b[1;33m,\u001b[0m\u001b[1;33m\n",
      "\u001b[0m    \u001b[0mfolder\u001b[0m\u001b[1;33m=\u001b[0m\u001b[1;32mNone\u001b[0m\u001b[1;33m,\u001b[0m\u001b[1;33m\n",
      "\u001b[0m    \u001b[0msparse\u001b[0m\u001b[1;33m=\u001b[0m\u001b[1;32mTrue\u001b[0m\u001b[1;33m,\u001b[0m\u001b[1;33m\n",
      "\u001b[0m    \u001b[0msparsity\u001b[0m\u001b[1;33m=\u001b[0m\u001b[1;32mNone\u001b[0m\u001b[1;33m,\u001b[0m\u001b[1;33m\n",
      "\u001b[0m    \u001b[0mreturn_scaled\u001b[0m\u001b[1;33m=\u001b[0m\u001b[1;32mTrue\u001b[0m\u001b[1;33m,\u001b[0m\u001b[1;33m\n",
      "\u001b[0m    \u001b[0moverwrite\u001b[0m\u001b[1;33m=\u001b[0m\u001b[1;32mFalse\u001b[0m\u001b[1;33m,\u001b[0m\u001b[1;33m\n",
      "\u001b[0m    \u001b[0mbackend_options\u001b[0m\u001b[1;33m=\u001b[0m\u001b[1;32mNone\u001b[0m\u001b[1;33m,\u001b[0m\u001b[1;33m\n",
      "\u001b[0m    \u001b[1;33m**\u001b[0m\u001b[0msparsity_kwargs\u001b[0m\u001b[1;33m,\u001b[0m\u001b[1;33m\n",
      "\u001b[0m\u001b[1;33m)\u001b[0m \u001b[1;33m->\u001b[0m \u001b[1;34m\"'SortingAnalyzer'\"\u001b[0m\u001b[1;33m\u001b[0m\u001b[1;33m\u001b[0m\u001b[0m\n",
      "\u001b[1;31mDocstring:\u001b[0m\n",
      "Create a SortingAnalyzer by pairing a Sorting and the corresponding Recording.\n",
      "\n",
      "This object will handle a list of AnalyzerExtension for all the post processing steps like: waveforms,\n",
      "templates, unit locations, spike locations, quality metrics ...\n",
      "\n",
      "This object will be also use used for plotting purpose.\n",
      "\n",
      "\n",
      "Parameters\n",
      "----------\n",
      "sorting : Sorting\n",
      "    The sorting object\n",
      "recording : Recording\n",
      "    The recording object\n",
      "folder : str or Path or None, default: None\n",
      "    The folder where analyzer is cached\n",
      "format : \"memory | \"binary_folder\" | \"zarr\", default: \"memory\"\n",
      "    The mode to store analyzer. If \"folder\", the analyzer is stored on disk in the specified folder.\n",
      "    The \"folder\" argument must be specified in case of mode \"folder\".\n",
      "    If \"memory\" is used, the analyzer is stored in RAM. Use this option carefully!\n",
      "sparse : bool, default: True\n",
      "    If True, then a sparsity mask is computed using the `estimate_sparsity()` function using\n",
      "    a few spikes to get an estimate of dense templates to create a ChannelSparsity object.\n",
      "    Then, the sparsity will be propagated to all ResultExtention that handle sparsity (like wavforms, pca, ...)\n",
      "    You can control `estimate_sparsity()` : all extra arguments are propagated to it (included job_kwargs)\n",
      "sparsity : ChannelSparsity or None, default: None\n",
      "    The sparsity used to compute exensions. If this is given, `sparse` is ignored.\n",
      "return_scaled : bool, default: True\n",
      "    All extensions that play with traces will use this global return_scaled : \"waveforms\", \"noise_levels\", \"templates\".\n",
      "    This prevent return_scaled being differents from different extensions and having wrong snr for instance.\n",
      "overwrite: bool, default: False\n",
      "    If True, overwrite the folder if it already exists.\n",
      "backend_options : dict | None, default: None\n",
      "    Keyword arguments for the backend specified by format. It can contain the:\n",
      "    - storage_options: dict | None (fsspec storage options)\n",
      "    - saving_options: dict | None (additional saving options for creating and saving datasets,\n",
      "                                   e.g. compression/filters for zarr)\n",
      "sparsity_kwargs : keyword arguments\n",
      "\n",
      "Returns\n",
      "-------\n",
      "sorting_analyzer : SortingAnalyzer\n",
      "    The SortingAnalyzer object\n",
      "\n",
      "Examples\n",
      "--------\n",
      ">>> import spikeinterface as si\n",
      "\n",
      ">>> # Create dense analyzer and save to disk with binary_folder format.\n",
      ">>> sorting_analyzer = si.create_sorting_analyzer(sorting, recording, format=\"binary_folder\", folder=\"/path/to_my/result\")\n",
      "\n",
      ">>> # Can be reload\n",
      ">>> sorting_analyzer = si.load_sorting_analyzer(folder=\"/path/to_my/result\")\n",
      "\n",
      ">>> # Can run extension\n",
      ">>> sorting_analyzer = si.compute(\"unit_locations\", ...)\n",
      "\n",
      ">>> # Can be copy to another format (extensions are propagated)\n",
      ">>> sorting_analyzer2 = sorting_analyzer.save_as(format=\"memory\")\n",
      ">>> sorting_analyzer3 = sorting_analyzer.save_as(format=\"zarr\", folder=\"/path/to_my/result.zarr\")\n",
      "\n",
      ">>> # Can make a copy with a subset of units (extensions are propagated for the unit subset)\n",
      ">>> sorting_analyzer4 = sorting_analyzer.select_units(unit_ids=sorting.units_ids[:5], format=\"memory\")\n",
      ">>> sorting_analyzer5 = sorting_analyzer.select_units(unit_ids=sorting.units_ids[:5], format=\"binary_folder\", folder=\"/result_5units\")\n",
      "\n",
      "Notes\n",
      "-----\n",
      "\n",
      "By default creating a SortingAnalyzer can be slow because the sparsity is estimated by default.\n",
      "In some situation, sparsity is not needed, so to make it fast creation, you need to turn\n",
      "sparsity off (or give external sparsity) like this.\n",
      "\u001b[1;31mFile:\u001b[0m      c:\\users\\jeff\\anaconda3\\envs\\si_env\\lib\\site-packages\\spikeinterface\\core\\sortinganalyzer.py\n",
      "\u001b[1;31mType:\u001b[0m      function"
     ]
    }
   ],
   "source": [
    "si.create_sorting_analyzer?"
   ]
  },
  {
   "cell_type": "code",
   "execution_count": 10,
   "metadata": {},
   "outputs": [
    {
     "data": {
      "application/vnd.jupyter.widget-view+json": {
       "model_id": "20aa7f41ca644db78d8e7c7d238f3ce6",
       "version_major": 2,
       "version_minor": 0
      },
      "text/plain": [
       "estimate_sparsity:   0%|          | 0/300 [00:00<?, ?it/s]"
      ]
     },
     "metadata": {},
     "output_type": "display_data"
    },
    {
     "data": {
      "text/plain": [
       "SortingAnalyzer: 49 channels - 240 units - 1 segments - zarr - sparse - has recording\n",
       "Loaded 0 extensions"
      ]
     },
     "execution_count": 10,
     "metadata": {},
     "output_type": "execute_result"
    }
   ],
   "source": [
    "# [NEW] 1.1. create analyzer object (in memory, and save later)\n",
    "analyzer = si.create_sorting_analyzer(\n",
    "    sorting=sorting, \n",
    "    recording=recording_saved\n",
    "    )\n",
    "analyzer.save_as(\n",
    "    format=\"zarr\",  # or \"binary_folder\"\n",
    "    folder=base_folder / \"sorting_analyzer_zarr\"\n",
    ")"
   ]
  },
  {
   "cell_type": "code",
   "execution_count": 13,
   "metadata": {},
   "outputs": [
    {
     "data": {
      "application/vnd.jupyter.widget-view+json": {
       "model_id": "7862276f471e466c9731f2c8e163e276",
       "version_major": 2,
       "version_minor": 0
      },
      "text/plain": [
       "estimate_sparsity:   0%|          | 0/300 [00:00<?, ?it/s]"
      ]
     },
     "metadata": {},
     "output_type": "display_data"
    }
   ],
   "source": [
    "# [NEW] 1.2. create analyzer object (and save locally)\n",
    "# use this version\n",
    "analyzer = si.create_sorting_analyzer(\n",
    "    sorting=sorting,\n",
    "    recording=recording_saved,\n",
    "    folder=base_folder / \"sorting_analyzer\",\n",
    "    format=\"binary_folder\",  # or \"zarr\"\n",
    "    sparse=True  # 可以选择是否需要 sparse\n",
    ")"
   ]
  },
  {
   "cell_type": "code",
   "execution_count": 14,
   "metadata": {},
   "outputs": [],
   "source": [
    "# [NEW] 1.3. load analyzer from saved folder\n",
    "analyzer = si.load_sorting_analyzer(\n",
    "    folder= base_folder / \"sorting_analyzer\"\n",
    ")"
   ]
  },
  {
   "cell_type": "code",
   "execution_count": 15,
   "metadata": {},
   "outputs": [
    {
     "data": {
      "application/vnd.jupyter.widget-view+json": {
       "model_id": "3ca33acf020244899516489cd41d90fc",
       "version_major": 2,
       "version_minor": 0
      },
      "text/plain": [
       "compute_waveforms:   0%|          | 0/300 [00:00<?, ?it/s]"
      ]
     },
     "metadata": {},
     "output_type": "display_data"
    },
    {
     "data": {
      "application/vnd.jupyter.widget-view+json": {
       "model_id": "10e216ef3ab84ecea122f9bdb7d8547c",
       "version_major": 2,
       "version_minor": 0
      },
      "text/plain": [
       "spike_amplitudes:   0%|          | 0/300 [00:00<?, ?it/s]"
      ]
     },
     "metadata": {},
     "output_type": "display_data"
    },
    {
     "data": {
      "text/plain": [
       "['random_spikes', 'spike_amplitudes', 'templates', 'waveforms']"
      ]
     },
     "execution_count": 15,
     "metadata": {},
     "output_type": "execute_result"
    }
   ],
   "source": [
    "# [NEW] 2.1. 使用 extension 进行后处理\n",
    "# [1] 注意计算的内容之间是有先后顺序的, 一些参数的计算依赖于它的父项\n",
    "# [2] 每次计算都会强制删除可能已存在的参数重新计算\n",
    "# [3] 对父项的重新计算 / 删除会强制自动删除其子项参数以保证参数一致性\n",
    "# [4] 如果 analyzer 已经被保存在本地, 则所有计算内容都会自动保存\n",
    "analyzer.compute(\"random_spikes\")  # 没懂 random spikes 是干啥的\n",
    "analyzer.compute(\"waveforms\")\n",
    "analyzer.compute(\"templates\")  # 还有 all_templates???\n",
    "analyzer.compute(\n",
    "    \"spike_amplitudes\",\n",
    "    peak_sign=\"pos\"\n",
    ")\n",
    "# 其他参数 (待添加)\n",
    "# spike train\n",
    "# sparsity 和 sparsity 条件下的波形\n",
    "# 绘制 waveform\n",
    "# 显示已经保存在本地的参数\n",
    "analyzer.get_saved_extension_names()"
   ]
  },
  {
   "cell_type": "code",
   "execution_count": 61,
   "metadata": {},
   "outputs": [
    {
     "data": {
      "text/plain": [
       "<spikeinterface.postprocessing.spike_amplitudes.ComputeSpikeAmplitudes at 0x265974bf610>"
      ]
     },
     "execution_count": 61,
     "metadata": {},
     "output_type": "execute_result"
    }
   ],
   "source": [
    "# [NEW] 2.2. 如果从文件中读取的 analyzer 存在问题时\n",
    "# 可能会使用以下语句单独导入或删除某些参数\n",
    "analyzer.get_loaded_extension_names()\n",
    "analyzer.load_extension(\n",
    "    extension_name=\"spike_amplitudes\"\n",
    ")\n",
    "analyzer.has_extension(\n",
    "    extension_name=\"spike_amplitudes\"\n",
    ")\n",
    "# This also deletes any children such as spike_amplitudes\n",
    "analyzer.delete_extension(\n",
    "    extension_name=\"templates\"\n",
    ")"
   ]
  },
  {
   "cell_type": "code",
   "execution_count": 22,
   "metadata": {},
   "outputs": [],
   "source": [
    "# [NEW] 3.1. 获取 extension 计算的结果\n",
    "wv = analyzer.get_extension(\n",
    "    extension_name=\"waveforms\"\n",
    ")\n",
    "wv_data = wv.get_data()\n",
    "# ul = analyzer.get_extension(\n",
    "#     extension_name=\"unit_locations\"\n",
    "# )\n",
    "# ul_data = ul.get_data()\n",
    "# # 3.2. 获取 extension 计算的参数\n",
    "# ul_params = ul.params\n",
    "wv_params = wv.get_data()"
   ]
  },
  {
   "cell_type": "code",
   "execution_count": null,
   "metadata": {},
   "outputs": [],
   "source": []
  },
  {
   "cell_type": "code",
   "execution_count": null,
   "metadata": {},
   "outputs": [],
   "source": []
  },
  {
   "cell_type": "markdown",
   "metadata": {
    "pycharm": {
     "name": "#%% md\n"
    }
   },
   "source": [
    "# 6. Postprocessing <a class=\"anchor\" id=\"postprocessing\"></a>\n",
    "\n",
    "Postprocessing spike sorting results ranges from computing additional information, such as spike amplitudes and Principal Component Analisys (PCA) scores, to computing features of the extracellular waveforms, similarity between templates and crosscorrelograms. All of this is possible with the `postprocessing` module.\n",
    "\n",
    "\n",
    "See also : https://spikeinterface.readthedocs.io/en/latest/modules/postprocessing.html"
   ]
  },
  {
   "cell_type": "markdown",
   "metadata": {
    "pycharm": {
     "name": "#%% md\n"
    }
   },
   "source": [
    "### PCA scores\n",
    "\n",
    "PCA scores can be easily computed with the `compute_principal_components()` function. Similarly to the `extract_waveforms`, the function returns an object of type `WaveformPrincipalComponent` that allows to retrieve all pc scores on demand."
   ]
  },
  {
   "cell_type": "code",
   "execution_count": null,
   "metadata": {},
   "outputs": [],
   "source": [
    "pc = si.compute_principal_components(we, n_components=3, load_if_exists=False, **job_kwargs)"
   ]
  },
  {
   "cell_type": "code",
   "execution_count": null,
   "metadata": {},
   "outputs": [
    {
     "ename": "AttributeError",
     "evalue": "module 'spikeinterface.full' has no attribute 'sorting_analyzer'",
     "output_type": "error",
     "traceback": [
      "\u001b[1;31m---------------------------------------------------------------------------\u001b[0m",
      "\u001b[1;31mAttributeError\u001b[0m                            Traceback (most recent call last)",
      "Cell \u001b[1;32mIn[51], line 1\u001b[0m\n\u001b[1;32m----> 1\u001b[0m available_extension_names \u001b[38;5;241m=\u001b[39m \u001b[43msi\u001b[49m\u001b[38;5;241;43m.\u001b[39;49m\u001b[43msorting_analyzer\u001b[49m\u001b[38;5;241m.\u001b[39mget_loaded_extension_names()\n",
      "\u001b[1;31mAttributeError\u001b[0m: module 'spikeinterface.full' has no attribute 'sorting_analyzer'"
     ]
    }
   ],
   "source": [
    "available_extension_names = sorting_analyzer.get_loaded_extension_names()"
   ]
  },
  {
   "cell_type": "code",
   "execution_count": 34,
   "metadata": {
    "pycharm": {
     "name": "#%%\n"
    }
   },
   "outputs": [
    {
     "ename": "AttributeError",
     "evalue": "'numpy.ndarray' object has no attribute 'get_projections'",
     "output_type": "error",
     "traceback": [
      "\u001b[1;31m---------------------------------------------------------------------------\u001b[0m",
      "\u001b[1;31mAttributeError\u001b[0m                            Traceback (most recent call last)",
      "Cell \u001b[1;32mIn[34], line 1\u001b[0m\n\u001b[1;32m----> 1\u001b[0m pc0 \u001b[38;5;241m=\u001b[39m \u001b[43mpc\u001b[49m\u001b[38;5;241;43m.\u001b[39;49m\u001b[43mget_projections\u001b[49m(unit_id\u001b[38;5;241m=\u001b[39m\u001b[38;5;241m0\u001b[39m)\n\u001b[0;32m      2\u001b[0m \u001b[38;5;28mprint\u001b[39m(\u001b[38;5;124mf\u001b[39m\u001b[38;5;124m\"\u001b[39m\u001b[38;5;124mPC scores shape: \u001b[39m\u001b[38;5;132;01m{\u001b[39;00mpc0\u001b[38;5;241m.\u001b[39mshape\u001b[38;5;132;01m}\u001b[39;00m\u001b[38;5;124m\"\u001b[39m)\n\u001b[0;32m      3\u001b[0m all_labels, all_pcs \u001b[38;5;241m=\u001b[39m pc\u001b[38;5;241m.\u001b[39mget_all_projections()\n",
      "\u001b[1;31mAttributeError\u001b[0m: 'numpy.ndarray' object has no attribute 'get_projections'"
     ]
    }
   ],
   "source": [
    "pc0 = pc.get_projections(unit_id=0)\n",
    "print(f\"PC scores shape: {pc0.shape}\")\n",
    "all_labels, all_pcs = pc.get_all_projections()\n",
    "print(f\"All PC scores shape: {all_pcs.shape}\")"
   ]
  },
  {
   "cell_type": "code",
   "execution_count": null,
   "metadata": {},
   "outputs": [],
   "source": []
  },
  {
   "cell_type": "code",
   "execution_count": 25,
   "metadata": {},
   "outputs": [
    {
     "data": {
      "text/plain": [
       "array([[[-0.12049486,  0.22618708,  0.5280675 , ...,  0.40697625,\n",
       "          0.24794905,  0.        ],\n",
       "        [ 0.18074714,  0.04203514, -0.09824314, ..., -0.10468819,\n",
       "         -0.01779368,  0.        ],\n",
       "        [-0.31905347, -0.12935774, -0.02731553, ...,  0.12108496,\n",
       "         -0.11225367,  0.        ]],\n",
       "\n",
       "       [[ 0.6976387 ,  0.31165355,  0.13896017, ...,  0.44065353,\n",
       "          0.42389414,  0.        ],\n",
       "        [ 0.659916  ,  0.74019694, -0.5639803 , ...,  0.5846022 ,\n",
       "         -0.7356014 ,  0.        ],\n",
       "        [ 4.0931687 ,  0.37067536, -0.07616394, ..., -0.42979032,\n",
       "          0.15593718,  0.        ]],\n",
       "\n",
       "       [[-3.5197668 ,  0.11882715,  0.39084807, ..., -0.06279539,\n",
       "         -0.20348547,  0.        ],\n",
       "        [ 0.33097908,  0.34563428, -0.25067922, ...,  0.02832284,\n",
       "         -0.22235928,  0.        ],\n",
       "        [-0.33068323, -0.18919796, -0.3355254 , ...,  0.17669834,\n",
       "          0.1458164 ,  0.        ]],\n",
       "\n",
       "       ...,\n",
       "\n",
       "       [[ 0.61715   ,  0.48778278,  0.8193411 , ...,  0.5039513 ,\n",
       "         -1.7134963 ,  0.        ],\n",
       "        [ 0.06385022,  0.16980144, -0.03792524, ...,  0.054962  ,\n",
       "          0.12109119,  0.        ],\n",
       "        [ 0.2232663 ,  0.17594464, -0.05320888, ..., -0.16501023,\n",
       "          0.44414175,  0.        ]],\n",
       "\n",
       "       [[-0.07365777,  0.26241934,  0.28555727, ...,  0.85988235,\n",
       "          0.00755117,  0.        ],\n",
       "        [ 0.22919324,  0.11813343, -0.07418157, ...,  0.53920645,\n",
       "         -0.27449664,  0.        ],\n",
       "        [-0.15042545,  0.01664734,  0.11848713, ...,  0.7128948 ,\n",
       "          0.04217281,  0.        ]],\n",
       "\n",
       "       [[ 0.1484387 ,  0.25354597, -0.70860356, ...,  0.36881056,\n",
       "          0.321312  ,  0.4652426 ],\n",
       "        [ 0.5561185 , -0.0133393 ,  0.7752216 , ...,  0.24284245,\n",
       "          0.22083335,  0.04586937],\n",
       "        [ 0.5607754 , -0.10050912, -1.0083843 , ...,  0.0646577 ,\n",
       "         -0.30226195, -0.00876676]]], dtype=float32)"
      ]
     },
     "execution_count": 25,
     "metadata": {},
     "output_type": "execute_result"
    }
   ],
   "source": [
    "pc"
   ]
  },
  {
   "cell_type": "markdown",
   "metadata": {},
   "source": [
    "For pc scores of a single unit, the dimension is (num_spikes, num_components, num_channels). "
   ]
  },
  {
   "cell_type": "markdown",
   "metadata": {},
   "source": [
    "## WaveformExtensions\n",
    "\n",
    "When we compute PCA (or use other postprocessing functions), the computed information is added to the waveform folder. The functions act as `WaveformExtensions`:\n",
    "\n",
    "For more details see this https://spikeinterface.readthedocs.io/en/latest/modules/postprocessing.html#waveformextractor-extensions\n"
   ]
  },
  {
   "cell_type": "code",
   "execution_count": 26,
   "metadata": {},
   "outputs": [
    {
     "data": {
      "text/plain": [
       "['random_spikes',\n",
       " 'waveforms',\n",
       " 'templates',\n",
       " 'noise_levels',\n",
       " 'principal_components']"
      ]
     },
     "execution_count": 26,
     "metadata": {},
     "output_type": "execute_result"
    }
   ],
   "source": [
    "we.get_available_extension_names()"
   ]
  },
  {
   "cell_type": "markdown",
   "metadata": {},
   "source": [
    "Each `WaveformExtension` is an object that allows us to retrieve the data:"
   ]
  },
  {
   "cell_type": "code",
   "execution_count": 27,
   "metadata": {},
   "outputs": [
    {
     "ename": "AttributeError",
     "evalue": "'MockWaveformExtractor' object has no attribute 'load_extension'",
     "output_type": "error",
     "traceback": [
      "\u001b[1;31m---------------------------------------------------------------------------\u001b[0m",
      "\u001b[1;31mAttributeError\u001b[0m                            Traceback (most recent call last)",
      "Cell \u001b[1;32mIn[27], line 1\u001b[0m\n\u001b[1;32m----> 1\u001b[0m pc \u001b[38;5;241m=\u001b[39m \u001b[43mwe\u001b[49m\u001b[38;5;241;43m.\u001b[39;49m\u001b[43mload_extension\u001b[49m(\u001b[38;5;124m\"\u001b[39m\u001b[38;5;124mprincipal_components\u001b[39m\u001b[38;5;124m\"\u001b[39m)\n\u001b[0;32m      2\u001b[0m \u001b[38;5;28mprint\u001b[39m(pc)\n",
      "\u001b[1;31mAttributeError\u001b[0m: 'MockWaveformExtractor' object has no attribute 'load_extension'"
     ]
    }
   ],
   "source": [
    "pc = we.load_extension(\"principal_components\")\n",
    "print(pc)"
   ]
  },
  {
   "cell_type": "code",
   "execution_count": 28,
   "metadata": {},
   "outputs": [
    {
     "ename": "AttributeError",
     "evalue": "'numpy.ndarray' object has no attribute 'get_data'",
     "output_type": "error",
     "traceback": [
      "\u001b[1;31m---------------------------------------------------------------------------\u001b[0m",
      "\u001b[1;31mAttributeError\u001b[0m                            Traceback (most recent call last)",
      "Cell \u001b[1;32mIn[28], line 1\u001b[0m\n\u001b[1;32m----> 1\u001b[0m all_labels, all_pcs \u001b[38;5;241m=\u001b[39m \u001b[43mpc\u001b[49m\u001b[38;5;241;43m.\u001b[39;49m\u001b[43mget_data\u001b[49m()\n\u001b[0;32m      2\u001b[0m \u001b[38;5;28mprint\u001b[39m(all_pcs\u001b[38;5;241m.\u001b[39mshape)\n",
      "\u001b[1;31mAttributeError\u001b[0m: 'numpy.ndarray' object has no attribute 'get_data'"
     ]
    }
   ],
   "source": [
    "all_labels, all_pcs = pc.get_data()\n",
    "print(all_pcs.shape)"
   ]
  },
  {
   "cell_type": "markdown",
   "metadata": {},
   "source": [
    "### Spike amplitudes"
   ]
  },
  {
   "cell_type": "markdown",
   "metadata": {},
   "source": [
    "Spike amplitudes can be computed with the `get_spike_amplitudes` function."
   ]
  },
  {
   "cell_type": "code",
   "execution_count": 30,
   "metadata": {},
   "outputs": [],
   "source": [
    "amplitudes = si.compute_spike_amplitudes(we, outputs=\"by_unit\", load_if_exists=True, **job_kwargs)"
   ]
  },
  {
   "cell_type": "markdown",
   "metadata": {
    "pycharm": {
     "name": "#%% md\n"
    }
   },
   "source": [
    "By default, all amplitudes are concatenated in one array with all amplitudes form all spikes. With the `output=\"by_unit\"` argument, instead, a dictionary is returned:"
   ]
  },
  {
   "cell_type": "code",
   "execution_count": 31,
   "metadata": {},
   "outputs": [
    {
     "ename": "TypeError",
     "evalue": "'NoneType' object is not subscriptable",
     "output_type": "error",
     "traceback": [
      "\u001b[1;31m---------------------------------------------------------------------------\u001b[0m",
      "\u001b[1;31mTypeError\u001b[0m                                 Traceback (most recent call last)",
      "Cell \u001b[1;32mIn[31], line 1\u001b[0m\n\u001b[1;32m----> 1\u001b[0m \u001b[43mamplitudes\u001b[49m\u001b[43m[\u001b[49m\u001b[38;5;241;43m0\u001b[39;49m\u001b[43m]\u001b[49m[\u001b[38;5;241m15\u001b[39m]\n",
      "\u001b[1;31mTypeError\u001b[0m: 'NoneType' object is not subscriptable"
     ]
    }
   ],
   "source": [
    "amplitudes[0][15]"
   ]
  },
  {
   "cell_type": "code",
   "execution_count": 99,
   "metadata": {},
   "outputs": [
    {
     "data": {
      "application/vnd.jupyter.widget-view+json": {
       "model_id": "3e37c1a5ada2468a8986e0db1f1d0d8a",
       "version_major": 2,
       "version_minor": 0
      },
      "text/plain": [
       "AppLayout(children=(VBox(children=(UnitSelector(children=(Label(value='Units', layout=Layout(justify_content='…"
      ]
     },
     "metadata": {},
     "output_type": "display_data"
    },
    {
     "data": {
      "text/plain": [
       "<spikeinterface.widgets.amplitudes.AmplitudesWidget at 0x7ff0327bee60>"
      ]
     },
     "execution_count": 99,
     "metadata": {},
     "output_type": "execute_result"
    }
   ],
   "source": [
    "%matplotlib widget\n",
    "si.plot_amplitudes(we, backend=\"ipywidgets\")"
   ]
  },
  {
   "cell_type": "markdown",
   "metadata": {},
   "source": [
    "### Compute unit and spike locations\n",
    "\n",
    "When using silicon probes, we can estimate the unit (or spike) location with triangulation. This can be done either with a simple center of mass or by assuming a monopolar model:\n",
    "\n",
    "$$V_{ext}(\\boldsymbol{r_{ext}}) = \\frac{I_n}{4 \\pi \\sigma |\\boldsymbol{r_{ext}} - \\boldsymbol{r_{n}}|}$$\n",
    "\n",
    "where $\\boldsymbol{r_{n}}$ is the position of the neuron, and $\\boldsymbol{r_{n}}$ of the electrode(s)."
   ]
  },
  {
   "cell_type": "code",
   "execution_count": 32,
   "metadata": {},
   "outputs": [],
   "source": [
    "unit_locations = si.compute_unit_locations(we, method=\"monopolar_triangulation\", load_if_exists=True)\n",
    "spike_locations = si.compute_spike_locations(we, method=\"center_of_mass\", load_if_exists=True, **job_kwargs)"
   ]
  },
  {
   "cell_type": "code",
   "execution_count": 33,
   "metadata": {},
   "outputs": [
    {
     "ename": "Exception",
     "evalue": "The unit_locations sorting analyzer extension is required for this widget. Run the `sorting_analyzer.compute('unit_locations', ...)` to compute it.\n",
     "output_type": "error",
     "traceback": [
      "\u001b[1;31m---------------------------------------------------------------------------\u001b[0m",
      "\u001b[1;31mException\u001b[0m                                 Traceback (most recent call last)",
      "Cell \u001b[1;32mIn[33], line 2\u001b[0m\n\u001b[0;32m      1\u001b[0m get_ipython()\u001b[38;5;241m.\u001b[39mrun_line_magic(\u001b[38;5;124m'\u001b[39m\u001b[38;5;124mmatplotlib\u001b[39m\u001b[38;5;124m'\u001b[39m, \u001b[38;5;124m'\u001b[39m\u001b[38;5;124mwidget\u001b[39m\u001b[38;5;124m'\u001b[39m)\n\u001b[1;32m----> 2\u001b[0m \u001b[43msi\u001b[49m\u001b[38;5;241;43m.\u001b[39;49m\u001b[43mplot_unit_locations\u001b[49m\u001b[43m(\u001b[49m\u001b[43mwe\u001b[49m\u001b[43m,\u001b[49m\u001b[43m \u001b[49m\u001b[43mbackend\u001b[49m\u001b[38;5;241;43m=\u001b[39;49m\u001b[38;5;124;43m\"\u001b[39;49m\u001b[38;5;124;43mipywidgets\u001b[39;49m\u001b[38;5;124;43m\"\u001b[39;49m\u001b[43m)\u001b[49m\n",
      "File \u001b[1;32mc:\\Users\\Jeff\\anaconda3\\envs\\si_env\\Lib\\site-packages\\spikeinterface\\widgets\\unit_locations.py:53\u001b[0m, in \u001b[0;36mUnitLocationsWidget.__init__\u001b[1;34m(self, sorting_analyzer, unit_ids, with_channel_ids, unit_colors, hide_unit_selector, plot_all_units, plot_legend, hide_axis, backend, **backend_kwargs)\u001b[0m\n\u001b[0;32m     38\u001b[0m \u001b[38;5;28;01mdef\u001b[39;00m\u001b[38;5;250m \u001b[39m\u001b[38;5;21m__init__\u001b[39m(\n\u001b[0;32m     39\u001b[0m     \u001b[38;5;28mself\u001b[39m,\n\u001b[0;32m     40\u001b[0m     sorting_analyzer: SortingAnalyzer,\n\u001b[1;32m   (...)\u001b[0m\n\u001b[0;32m     49\u001b[0m     \u001b[38;5;241m*\u001b[39m\u001b[38;5;241m*\u001b[39mbackend_kwargs,\n\u001b[0;32m     50\u001b[0m ):\n\u001b[0;32m     51\u001b[0m     sorting_analyzer \u001b[38;5;241m=\u001b[39m \u001b[38;5;28mself\u001b[39m\u001b[38;5;241m.\u001b[39mensure_sorting_analyzer(sorting_analyzer)\n\u001b[1;32m---> 53\u001b[0m     \u001b[38;5;28;43mself\u001b[39;49m\u001b[38;5;241;43m.\u001b[39;49m\u001b[43mcheck_extensions\u001b[49m\u001b[43m(\u001b[49m\u001b[43msorting_analyzer\u001b[49m\u001b[43m,\u001b[49m\u001b[43m \u001b[49m\u001b[38;5;124;43m\"\u001b[39;49m\u001b[38;5;124;43munit_locations\u001b[39;49m\u001b[38;5;124;43m\"\u001b[39;49m\u001b[43m)\u001b[49m\n\u001b[0;32m     54\u001b[0m     ulc \u001b[38;5;241m=\u001b[39m sorting_analyzer\u001b[38;5;241m.\u001b[39mget_extension(\u001b[38;5;124m\"\u001b[39m\u001b[38;5;124munit_locations\u001b[39m\u001b[38;5;124m\"\u001b[39m)\n\u001b[0;32m     55\u001b[0m     unit_locations \u001b[38;5;241m=\u001b[39m ulc\u001b[38;5;241m.\u001b[39mget_data(outputs\u001b[38;5;241m=\u001b[39m\u001b[38;5;124m\"\u001b[39m\u001b[38;5;124mby_unit\u001b[39m\u001b[38;5;124m\"\u001b[39m)\n",
      "File \u001b[1;32mc:\\Users\\Jeff\\anaconda3\\envs\\si_env\\Lib\\site-packages\\spikeinterface\\widgets\\base.py:146\u001b[0m, in \u001b[0;36mBaseWidget.check_extensions\u001b[1;34m(sorting_analyzer, extensions)\u001b[0m\n\u001b[0;32m    141\u001b[0m         error_msg \u001b[38;5;241m+\u001b[39m\u001b[38;5;241m=\u001b[39m (\n\u001b[0;32m    142\u001b[0m             \u001b[38;5;124mf\u001b[39m\u001b[38;5;124m\"\u001b[39m\u001b[38;5;124mThe \u001b[39m\u001b[38;5;132;01m{\u001b[39;00mextension\u001b[38;5;132;01m}\u001b[39;00m\u001b[38;5;124m sorting analyzer extension is required for this widget. \u001b[39m\u001b[38;5;124m\"\u001b[39m\n\u001b[0;32m    143\u001b[0m             \u001b[38;5;124mf\u001b[39m\u001b[38;5;124m\"\u001b[39m\u001b[38;5;124mRun the `sorting_analyzer.compute(\u001b[39m\u001b[38;5;124m'\u001b[39m\u001b[38;5;132;01m{\u001b[39;00mextension\u001b[38;5;132;01m}\u001b[39;00m\u001b[38;5;124m'\u001b[39m\u001b[38;5;124m, ...)` to compute it.\u001b[39m\u001b[38;5;130;01m\\n\u001b[39;00m\u001b[38;5;124m\"\u001b[39m\n\u001b[0;32m    144\u001b[0m         )\n\u001b[0;32m    145\u001b[0m \u001b[38;5;28;01mif\u001b[39;00m raise_error:\n\u001b[1;32m--> 146\u001b[0m     \u001b[38;5;28;01mraise\u001b[39;00m \u001b[38;5;167;01mException\u001b[39;00m(error_msg)\n",
      "\u001b[1;31mException\u001b[0m: The unit_locations sorting analyzer extension is required for this widget. Run the `sorting_analyzer.compute('unit_locations', ...)` to compute it.\n"
     ]
    }
   ],
   "source": [
    "%matplotlib widget\n",
    "si.plot_unit_locations(we, backend=\"ipywidgets\")"
   ]
  },
  {
   "cell_type": "code",
   "execution_count": 102,
   "metadata": {},
   "outputs": [
    {
     "data": {
      "application/vnd.jupyter.widget-view+json": {
       "model_id": "23bb5c599118469f9fe4ffd19e254d81",
       "version_major": 2,
       "version_minor": 0
      },
      "text/plain": [
       "AppLayout(children=(UnitSelector(children=(Label(value='Units', layout=Layout(justify_content='center')), Sele…"
      ]
     },
     "metadata": {},
     "output_type": "display_data"
    },
    {
     "data": {
      "text/plain": [
       "<spikeinterface.widgets.spike_locations.SpikeLocationsWidget at 0x7ff0172b68c0>"
      ]
     },
     "execution_count": 102,
     "metadata": {},
     "output_type": "execute_result"
    }
   ],
   "source": [
    "%matplotlib widget\n",
    "si.plot_spike_locations(we, max_spikes_per_unit=300, backend=\"ipywidgets\")"
   ]
  },
  {
   "cell_type": "markdown",
   "metadata": {},
   "source": [
    "### Compute correlograms"
   ]
  },
  {
   "cell_type": "code",
   "execution_count": 103,
   "metadata": {},
   "outputs": [],
   "source": [
    "ccgs, bins = si.compute_correlograms(we)"
   ]
  },
  {
   "cell_type": "code",
   "execution_count": 105,
   "metadata": {},
   "outputs": [
    {
     "data": {
      "text/plain": [
       "<spikeinterface.widgets.crosscorrelograms.CrossCorrelogramsWidget at 0x7ff07b1dc790>"
      ]
     },
     "execution_count": 105,
     "metadata": {},
     "output_type": "execute_result"
    },
    {
     "data": {
      "application/vnd.jupyter.widget-view+json": {
       "model_id": "0d9eb94bfe3f4adf86ba7f4e9a58590a",
       "version_major": 2,
       "version_minor": 0
      },
      "image/png": "[encoded data removed]",
      "text/html": [
       "\n",
       "            <div style=\"display: inline-block;\">\n",
       "                <div class=\"jupyter-widgets widget-label\" style=\"text-align: center;\">\n",
       "                    Figure\n",
       "                </div>\n",
       "                <img src='data:image/png;base64,iVBORw0KGgoAAAANSUhEUgAABXgAAAPoCAYAAABkvZZOAAAAOXRFWHRTb2Z0d2FyZQBNYXRwbG90bGliIHZlcnNpb24zLjguMCwgaHR0cHM6Ly9tYXRwbG90bGliLm9yZy81sbWrAAAACXBIWXMAAA9hAAAPYQGoP6dpAABpA0lEQVR4nOzdfZiWZZ0//veNyIDy1GjMMApJT+KzhomT5vowidSSfqXSskRydWvBUmq1aUV2KJ1yTckWtVwD+66sZa22WuEaCdYGqBib9kBqEhTNoBmMYAwE8/vDn/N1EgxhZm6u4fU6jus45jrP87rmcw9zOuN7zvu8Sm1tbW0BAAAAAKBwepW7AAAAAAAAdoyAFwAAAACgoAS8AAAAAAAFJeAFAAAAACgoAS8AAAAAQEEJeAEAAAAACkrACwAAAABQUAJeAAAAAICCEvACAAAAABSUgBcAAAAAoKAEvAAAAAAABSXgBQAAAAAoKAEvAAAAAEBBCXgBAAAAAApKwAsAAAAAUFACXgAAAACAghLwAgAAAAAUlIAXAAAAAKCgBLwAAAAAAAUl4AUAAAAAKCgBLwAAAABAQQl4AQAAAAAKSsALAAAAAFBQAl4AAAAAgIIS8AIAAAAAFJSAFwAAAACgoAS8AAAAAAAFJeAFAAAAACgoAS8AAAAAQEEJeAEAAAAACkrACwAAAABQUAJeAAAAAICCEvACAAAAABSUgBcAAAAAoKAEvAAAAAAABSXgBQAAAAAoKAEvAAAAAEBBCXgBAAAAAApKwAsAAAAAUFACXgAAAACAghLwAgAAAAAUlIAXAAAAAKCgBLwAAAAAAAUl4AUAAAAAKCgBLwAAAABAQQl4AQAAAAAKSsALAAAAAFBQAl4AAAAAgIIS8AIAAAAAFJSAFwAAAACgoAS8AAAAAAAFJeAFAAAAACgoAS8AAAAAQEEJeAEAAAAACkrACwAAAABQUAJeAAAAAICCEvACAAAAABSUgBcAAAAAoKAEvAAAAAAABSXgBQAAAAAoKAEvAAAAAEBBCXgBAAAAAApKwAsAAAAAUFACXgAAAACAghLwAgAAAAAUlIAXAAAAAKCgBLwAAAAAAAUl4AUAAAAAKCgBLwAAAABAQQl4AQAAAAAKSsALAAAAAFBQAl4AAAAAgIIS8AIAAAAAFJSAFwAAAACgoAS8AAAAAAAFJeAFAAAAACgoAS8AAAAAQEEJeAEAAAAACkrACwAAAABQUAJeAAAAAICCEvACAAAAABSUgBcAAAAAoKAEvAAAAAAABSXgBQAAAAAoKAEvAAAAAEBBCXgBAAAAAApKwAsAAAAAUFACXgAAAACAghLwAgAAAAAUlIAXAAAAAKCgBLwAAAAAAAUl4AUAAAAAKCgBLwAAAABAQQl4AQAAAAAKSsALAAAAAFBQAl4AAAAAgIIS8AIAAAAAFJSAFwAAAACgoAS8wCtqbW3NZZddlpqamvTr1y+jR4/OfffdV+6yoMf52c9+lve+9715/etfn7322iv77rtvTjjhhNx9993bvGbTpk05+OCDUyqVcs0113RjtdAzPfLII3n3u9+dysrK7LXXXjn00ENz/fXXt/dv2rQpDQ0Nef3rX5+Kioq8/vWvz2c/+9n8+c9/LmPVUCzr1q3LtGnTctppp6WysjKlUimzZ8/e6thf/OIXOe2009K/f/9UVlbmQx/6UJ5++ukOY1atWpUPfvCDOfDAAzNgwIAMHjw4xxxzTG699da0tbV1wyuC4tje+XfzzTfnb/7mb1JVVZWKioqMGDEiEydOzPLlyzuMmz17dkql0jaP2267rXteGJDe5S4A2LWdd955+eY3v5mLL744b3rTmzJ79uy8853vzP3335/jjz++3OVBj/Gb3/wmzz33XCZMmJCampo8//zz+da3vpV3v/vd+fKXv5wLL7zwZdd86UtfyooVK8pQLfQ8//3f/51x48blqKOOytSpU9O/f/88+eST+e1vf9s+5oMf/GDuuOOOfPjDH87RRx+dRYsWZerUqVmxYkW+8pWvlLF6KI5nnnkm06dPz/Dhw3PEEUdk/vz5Wx3329/+NieccEIGDRqUq666KuvWrcs111yTRx99NA8++GD69OnTfr/f/va3ec973pPhw4dn06ZNue+++3Leeedl2bJlueqqq7rx1cGubXvn309+8pOMGDEi7373u/Oa17wmTz31VG6++ebcc889+d///d/U1NQkSU444YT83//7f192/XXXXZf//d//zSmnnNKVLwd4iVKbP2sC2/Dggw9m9OjR+Zd/+Zd88pOfTJJs2LAhhx56aIYMGZIf//jHZa4QerbNmzdn1KhR2bBhQ375y1926Fu9enXe/OY35xOf+ESuuOKKDvMUeHVaWlry5je/OW9729vyzW9+M716vfxNbg899FCOOeaYTJ06NdOnT29v/+QnP5lrr702S5cuzeGHH96dZUMhtba25o9//GOqq6vz8MMP561vfWtmzZqV8847r8O4f/iHf8js2bPzy1/+MsOHD0+SfP/738873vGObf7h86XGjRuX+++/P2vXrs0ee+zRVS8HCmV759/WLFmyJEcffXQaGxvzqU99apvj/vSnP6WqqirHHnts/vu//7sTqwdeiS0agG365je/mT322KPDL9B9+/bN+eefn4ULF2blypVlrA56vj322CPDhg3LmjVrXtb3qU99KgceeGA++MEPdn9h0MPMmTMnzc3NufLKK9OrV6+sX78+W7Zs6TDmhz/8YZLk7LPP7tB+9tlnp62tLV//+te7rV4osoqKilRXV//Vcd/61rfyt3/7t+3hbpLU1dXlzW9+c77xjW/81esPOOCAPP/889m4ceNO1Qs9yfbOv6054IADkmSrv5e+1N13353nnnsu55xzzg59HmDHCHiBbfrJT36SN7/5zRk4cGCH9mOOOSZJsnTp0jJUBT3b+vXr88wzz+TJJ5/Mddddl+9973sve3vbgw8+mFtvvTUzZsxIqVQqU6XQc3z/+9/PwIED87vf/S4HHnhg+vfvn4EDB+ajH/1oNmzYkOSFVU9J0q9fvw7X7rXXXkleWNkEdI7f/e53Wb16dY4++uiX9R1zzDH5yU9+8rL2P/3pT3nmmWeyfPny3HrrrZk1a1Zqa2tfNmeB7feHP/whq1evzsMPP5yJEycmyV/dduG2225Lv379cuaZZ3ZHicD/zx68wDb9/ve/z9ChQ1/W/mLbqlWrursk6PE+8YlP5Mtf/nKSpFevXjnzzDPzr//6r+39bW1tueiii3LWWWeltrb2ZQ+7AF69xx9/PH/+859z+umn5/zzz09jY2Pmz5+fL33pS1mzZk3+4z/+IwceeGCS5H/+538yYsSI9mtfXNn7u9/9riy1Q0/0+9//Pkm2+Xvos88+m9bW1lRUVLS3f/GLX0x9fX37+SmnnJJZs2Z1fbHQg+23337tf+DcZ599cv311+cd73jHNsc/++yzmTt3bs4444wMGDCgu8oEIuAFXsGf/vSnDr84v6hv377t/UDnuvjii/Oe97wnq1atyje+8Y1s3ry5w9tLZ8+enUcffTTf/OY3y1gl9Czr1q3L888/n4985CO5/vrrkyRnnnlmNm7cmC9/+cuZPn163vnOd+Z1r3tdPvnJT2avvfbKqFGjsnjx4vzTP/1Tevfu7WcidKIX59Nf+z30pf3vf//7c/TRR+fpp5/OPffck+bmZvMSdtL3vve9bNiwIb/4xS/y7//+71m/fv0rjv/mN7+ZjRs32p4BykDAC2xTv3792v9i+1Ivvl3VW96g840cOTIjR45Mkpx77rk59dRTM27cuCxevDjPPfdc6uvr84//+I8ZNmxYmSuFnuPFn2fvf//7O7R/4AMfyJe//OUsXLgwb3rTm/Kd73wn73vf+zJ+/PgkL4RPV199da688sr079+/2+uGnurFOflqfg993etel9e97nVJXpjLF154Yerq6rJs2TK/s8IOOumkk5IkY8eOzemnn55DDz00/fv3z+TJk7c6/rbbbktlZWXGjh3bnWUCsQcv8AqGDh3a/ha5l3qxraamprtLgt3Oe97znjz00EP51a9+lWuuuSYbN27MWWedleXLl2f58uX57W9/myT54x//mOXLl3uYDOyAF3+eVVVVdWgfMmRIkhfmV5Iccsgheeyxx/LYY4/lhz/8YVatWpULLrggzzzzTN785jd3b9HQg724NcO2fg+trKzc6urel3rPe96TlStX5oEHHuiSGmF384Y3vCFHHXVUbrvttq32r1ixIj/84Q/z3ve+N3vuuWc3VwcIeIFtOvLII/OrX/0qLS0tHdoXL17c3g90rRffXrp27dqsWLEif/zjH3PIIYdkxIgRGTFiRN7+9rcnSa666qqMGDEiP//5z8tZLhTSqFGjkrx8H90X95p/7Wtf295WKpVyyCGH5Pjjj09lZWXuv//+bNmyJXV1dd1XMPRw++23X1772tfm4Ycfflnfgw8+uF2/g7705yfQOf70pz9tc079x3/8R9ra2mzPAGUi4AW26T3veU82b96cr3zlK+1tra2tmTVrVkaPHu0t4tCJVq9e/bK2TZs25Wtf+1r69euXgw8+OB/72Mdy5513djhefCDbeeedlzvvvLPDw5+A7fO+970vSXLLLbd0aP+3f/u39O7dOyeeeOJWr/vTn/6UqVOnZujQoS/b3gHYOePHj88999yTlStXtrfNmzcvv/rVr/Le9763ve3pp5/e6vW33HJLSqVS3vKWt3R5rdCT/PnPf25/58pLPfjgg3n00Udz9NFHb/W6OXPmZPjw4Tn++OO7ukRgK+zBC2zT6NGj8973vjf19fVZvXp13vjGN+bWW2/N8uXLX/Y/wcDO+fu///u0tLTkhBNOyH777Zempqbcdttt+eUvf5kvfOEL6d+/f97ylre87H9Uly9fnuSFt46fccYZ3V849ABHHXVUPvzhD+erX/1q/vznP+dv/uZvMn/+/Nxxxx2pr69v38Lhfe97X2pqanLwwQenpaUlX/3qV/PrX/863/nOdzwtHF6Ff/3Xf82aNWvaV8nffffd7VsOXXTRRRk0aFA+/elP54477shJJ52Uj3/841m3bl3+5V/+JYcddlgmTpzYfq8rr7wy//M//5PTTjstw4cPz7PPPptvfetbeeihh3LRRRfljW98Y1leI+yq/tr8a2try7Bhw3LWWWflkEMOyd57751HH300s2bNyqBBgzJ16tSX3fOxxx7LT3/603zqU59KqVTq1tcDvKDU1tbWVu4igF3Xhg0bMnXq1Pz7v/97/vjHP+bwww/PZz7zmYwZM6bcpUGPcvvtt+eWW27Jo48+mj/84Q8ZMGBARo0alYsuuijvfve7t3nd8uXLM2LEiPzLv/xLPvnJT3ZjxdCzbNq0KVdddVVmzZqVVatW5XWve10mTZqUiy++uH3M1VdfnVmzZmX58uXp169f3v72t6ehocGWRfAqHXDAAfnNb36z1b6nnnoqBxxwQJLkZz/7WaZMmZIf/ehH6dOnT971rnflC1/4Qof9su+7775cf/31eeSRR/L000+nb9++Ofzww/N3f/d3mTBhgrAJ/sJfm381NTW59NJLc//992f58uX505/+lJqamtTV1eXyyy9vn58vVV9fn8997nP56U9/msMOO6yLXwGwNQJeAAAAAICCsgcvAAAAAEBBCXgBAAAAAApKwAsAAAAAUFACXgAAAACAghLwAgAAAAAUlIAXAAAAAKCgepe7ANgRW7ZsyapVqzJgwICUSqVylwNdpq2tLc8991xqamrSq9eu8Tc584/diTkI5WP+QXmZg1A+u+L8Y9cm4KWQVq1alWHDhpW7DOg2K1euzP7771/uMpKYf+yezEEoH/MPysschPLZleYfuzYBL4U0YMCAJC/8x27gwIFlrga6TktLS4YNG9b+Pb8rMP/YnZiDUD7mH5SXOQjlsyvOP3ZtAl4K6cW34wwcONAPdnYLu9Jb0Mw/dkfmIJSP+QflZQ5C+exK849dm408AAAAAAAKSsALAAAAAFBQAl4AAAAAgIIS8AIAAAAAFJSAFwAAAACgoAS8AAAAAAAFJeAFAAAAACgoAS8AAAAAQEEJeAEAAAAACkrACwAAAABQUAJeAAAAAICCEvACAAAAABSUgBcAAAAAoKAEvAAAAAAABSXgBQAAAAAoKAEvAAAAAEBBCXgBAAAAAApKwAsAAAAAUFACXgAAAACAghLwAgAAAAAUlIAXAAAAAKCgBLwAAAAAAAUl4AUAAAAAKCgBLwAAAABAQQl4AQAAAAAKSsALAAAAAFBQAl4AAAAAgIIS8AIAAAAAFJSAFwAAAACgoAS8AAA76IEHHsi4ceNSU1OTUqmUu+66669eM3/+/LzlLW9JRUVF3vjGN2b27NldXif0ROYfAMALBLwAADto/fr1OeKIIzJz5sztGv/UU0/lXe96V0466aQsXbo0F198cf7u7/4u9957bxdXCj2P+QcA8ILe5S4AAKCoxo4dm7Fjx273+JtuuikjRozIF77whSTJQQcdlB/96Ee57rrrMmbMmK4qE3ok8w8A4AVW8AIAdJOFCxemrq6uQ9uYMWOycOHCMlUEuw/zDwDoqazgBQDoJk1NTamqqurQVlVVlZaWlvzpT39Kv379XnZNa2trWltb289bWlq6vE7oicw/AKCnEvACnaLUUOpw3jatrUyVQLGZS/ylxsbGNDQ0vKpr/vL76JW89Hvsla7bke/FHb3fS6/r7jmwvZ+7aDX+pa7899zR779d0Y7MvyLaVX72bG8dRasXeLly/hyFnsgWDQAA3aS6ujrNzc0d2pqbmzNw4MCtrh5Mkvr6+qxdu7b9WLlyZXeUCj2O+QcA9FRW8AIAdJPa2tp897vf7dB23333pba2dpvXVFRUpKKioqtLgx7P/AMAeioreAEAdtC6deuydOnSLF26NEny1FNPZenSpVmxYkWSF1b/nXvuue3jP/KRj+TXv/51Lr300vzyl7/MDTfckG984xu55JJLylE+FJr5BwDwAgEvAMAOevjhh3PUUUflqKOOSpJMmTIlRx11VK644ookye9///v2sClJRowYke985zu57777csQRR+QLX/hC/u3f/i1jxowpS/1QZOYfAMALbNEAALCDTjzxxLS1bfvBILNnz97qNT/5yU+6sCrYPZh/AAAvsIIXAAAAAKCgBLwAAAAAAAUl4AUAAAAAKCh78AIpNZQ6nLdN2/Z+dgAAAADsOqzgBQAAAAAoKAEvAAAAAEBBCXgBAAAAAApKwAsAAAAAUFACXgAAAACAghLwAgAAAAAUlIAXAAAAAKCgepe7AADg1Ss1lDqct01rK1MlAAAAlJMVvAAAAAAABSXgBQAAAHbKjTfemMMPPzwDBw7MwIEDU1tbm+9973vt/Rs2bMikSZOyzz77pH///hk/fnyam5vLWDFAzyHgBQAAAHbK/vvvn8997nNZsmRJHn744Zx88sk5/fTT87Of/SxJcskll+Tuu+/OHXfckQULFmTVqlU588wzy1w1QM9gD14AAABgp4wbN67D+ZVXXpkbb7wxixYtyv77759bbrklc+bMycknn5wkmTVrVg466KAsWrQoxx57bDlKBugxrOAFAAAAOs3mzZtz++23Z/369amtrc2SJUuyadOm1NXVtY8ZOXJkhg8fnoULF27zPq2trWlpaelwAPByVvACAAAAO+3RRx9NbW1tNmzYkP79++fOO+/MwQcfnKVLl6ZPnz4ZPHhwh/FVVVVpamra5v0aGxvT0NDQxVX3DKWGUvvHbdPaylgJUA5W8AIAAAA77cADD8zSpUuzePHifPSjH82ECRPy85//fIfvV19fn7Vr17YfK1eu7MRqAXoOK3gBAACAndanT5+88Y1vTJKMGjUqDz30UL74xS/mrLPOysaNG7NmzZoOq3ibm5tTXV29zftVVFSkoqKiq8sGKDwreAEAAIBOt2XLlrS2tmbUqFHZc889M2/evPa+ZcuWZcWKFamtrS1jhQA9gxW8AAAAwE6pr6/P2LFjM3z48Dz33HOZM2dO5s+fn3vvvTeDBg3K+eefnylTpqSysjIDBw7MRRddlNra2hx77LHlLh2g8AS8AAAAwE5ZvXp1zj333Pz+97/PoEGDcvjhh+fee+/NO97xjiTJddddl169emX8+PFpbW3NmDFjcsMNN5S5aoCeQcALAAAA7JRbbrnlFfv79u2bmTNnZubMmd1UEcDuwx68AAAAAAAFJeAFAAAAACgoAS8AAAAAQEEJeAEAAAAACkrACwAAAABQUAJeAAAAAICCEvACAAAAABSUgBcAAAAAoKAEvAAAAAAABdW73AUAXafUUOpw3jatrUyVAAAAANAVrOAFAAAAACgoAS8AAAAAQEEJeAEAAAAACkrACwAAAABQUAJeAAAAAICCEvACAAAAABSUgBegB/vc5z6XUqmUiy++uL1tw4YNmTRpUvbZZ5/0798/48ePT3Nzc/mKBAAAAHaYgBegh3rooYfy5S9/OYcffniH9ksuuSR333137rjjjixYsCCrVq3KmWeeWaYqAQAAgJ0h4AXogdatW5dzzjknN998c17zmte0t69duza33HJLrr322px88skZNWpUZs2alR//+MdZtGhRGSsGAAAAdoSAl1flgQceyLhx41JTU5NSqZS77rprm2M/8pGPpFQqZcaMGR3an3322ZxzzjkZOHBgBg8enPPPPz/r1q3r2sJhNzNp0qS8613vSl1dXYf2JUuWZNOmTR3aR44cmeHDh2fhwoXdXSYAAACwkwS8vCrr16/PEUcckZkzZ77iuDvvvDOLFi1KTU3Ny/rOOeec/OxnP8t9992Xe+65Jw888EAuvPDCrioZdju33357HnnkkTQ2Nr6sr6mpKX369MngwYM7tFdVVaWpqWmr92ttbU1LS0uHAwAAANg19C53ARTL2LFjM3bs2Fcc87vf/S4XXXRR7r333rzrXe/q0PeLX/wic+fOzUMPPZSjjz46SfKlL30p73znO3PNNddsNRAGtt/KlSvz8Y9/PPfdd1/69u3bKfdsbGxMQ0NDp9wLAAAA6FxW8NKptmzZkg996EP5x3/8xxxyyCEv61+4cGEGDx7cHu4mSV1dXXr16pXFixdv875WEML2WbJkSVavXp23vOUt6d27d3r37p0FCxbk+uuvT+/evVNVVZWNGzdmzZo1Ha5rbm5OdXX1Vu9ZX1+ftWvXth8rV67shlcCAAAAbA8reOlUn//859O7d+987GMf22p/U1NThgwZ0qGtd+/eqays3ObbwxMrCGF7nXLKKXn00Uc7tE2cODEjR47MZZddlmHDhmXPPffMvHnzMn78+CTJsmXLsmLFitTW1m71nhUVFamoqOjy2gEAAIBXT8BLp1myZEm++MUv5pFHHkmpVOrUe9fX12fKlCnt5y0tLRk2bFinfg7oCQYMGJBDDz20Q9vee++dffbZp739/PPPz5QpU1JZWZmBAwfmoosuSm1tbY499thylAwAAADsBAEvneaHP/xhVq9eneHDh7e3bd68OZ/4xCcyY8aMLF++PNXV1Vm9enWH6/785z/n2Wef3ebbwxMrCKEzXXfddenVq1fGjx+f1tbWjBkzJjfccEO5ywIAAAB2gICXTvOhD30odXV1HdrGjBmTD33oQ5k4cWKSpLa2NmvWrMmSJUsyatSoJMkPfvCDbNmyJaNHj+72mmF3MH/+/A7nffv2zcyZMzNz5szyFAQAAAB0GgEvr8q6devyxBNPtJ8/9dRTWbp0aSorKzN8+PDss88+Hcbvueeeqa6uzoEHHpgkOeigg3LaaaflggsuyE033ZRNmzZl8uTJOfvss1NTU9OtrwUAAAAAik7Ay6vy8MMP56STTmo/f3Ff3AkTJmT27NnbdY/bbrstkydPzimnnNL+NvHrr7++K8rtsUoN/2+P47ZpbWWsZMcUvX4AAACAXYWAl1flxBNPTFvb9gdyy5cvf1lbZWVl5syZ04lVAQAAAMDuqVe5CwAAAAAAYMcIeAEAAAAACkrACwAAAABQUAJeAAAAAICCEvACAAAAABSUgBcAAAAAoKAEvAAAAAAABSXgBQAAAAAoqN7lLgBgW0oNpfaP26a1lbESAAAAgF2TFbwAAAAAAAUl4AUAAAAAKCgBLwAAAABAQQl4AQAAAAAKykPWoId56YPJisCD1AAAAAB2nBW8AAAAAAAFJeAFAAAAACgoAS8AAAAAQEEJeAEAAAAACkrACwAAAABQUAJeAAAAAICCEvACAAAAABSUgBcAAAAAoKAEvAAAAAAABSXgBQAAAAAoKAEvAAAAAEBB9S53AQCwuys1lMpdAgAAAAVlBS8AAAAAQEEJeAEAAAAACkrACwAAAABQUAJeAAAAAICCEvACAAAAABSUgBcAAAAAoKAEvAAAAAAABSXgBQAAAAAoKAEvAAAAAEBBCXgBAAAAAApKwAsAAAAAUFACXgAAAACAghLwAgAAAAAUlIAXAAAAAKCgBLwAAAAAAAUl4AUAAAAAKKje5S4A4EWlhlK5S4DCeun8aZvWVsZKAAAA6E5W8AIAAAAAFJSAFwAAAACgoAS8AAAAAAAFJeAFAAAAACgoAS8AAAAAQEEJeAEAAAAACkrACwAAAABQUAJeAAAAAICC6l3uAoDtU2oolbsEAAAAAHYxVvACAAAAABSUgBcAAAAAoKAEvAAAAAAABSXgBQAAAAAoKAEvAAAAAEBBCXgBAAAAAApKwAsAAAAAUFACXgAAAACAghLwAgAAAAAUVO9yFwD8P6WGUvvHbdPayljJruelX5vE1wcAAAAgsYIXAAAAAKCwBLwAAAAAAAUl4AUAAAAAKCgBLwAAAABAQXnIGhTcXz58bHfk4XQAAADA7soKXgAAAACAghLwAgAAAAAUlIAXAAAAAKCgBLwAAAAAAAUl4AUAAAAAKCgBLwAAAABAQQl4AQAAAAAKSsALAAAAAFBQAl4AAAAAgILqXe4CgJ6v1FAqdwkAAAAAPZIVvAAAAMBOaWxszFvf+tYMGDAgQ4YMyRlnnJFly5Z1GHPiiSemVCp1OD7ykY+UqWKAnkPACwAAAOyUBQsWZNKkSVm0aFHuu+++bNq0KaeeemrWr1/fYdwFF1yQ3//+9+3H1VdfXaaKAXoOWzQAAAAAO2Xu3LkdzmfPnp0hQ4ZkyZIlOeGEE9rb99prr1RXV3d3eQA9mhW8AAAAQKdau3ZtkqSysrJD+2233ZZ99903hx56aOrr6/P888+XozyAHsUKXtiNvPRhZ23T2spYCQAA0FNt2bIlF198cY477rgceuih7e0f+MAH8rrXvS41NTX56U9/mssuuyzLli3Lf/7nf271Pq2trWltbW0/b2lp6fLaAYrICl4AgJ0wc+bMHHDAAenbt29Gjx6dBx988BXHz5gxIwceeGD69euXYcOG5ZJLLsmGDRu6qVroecxB2PVMmjQpjz32WG6//fYO7RdeeGHGjBmTww47LOecc06+9rWv5c4778yTTz651fs0NjZm0KBB7cewYcO6o3yAwhHwAgDsoK9//euZMmVKpk2blkceeSRHHHFExowZk9WrV291/Jw5c/KpT30q06ZNyy9+8Yvccsst+frXv55Pf/rT3Vw59AzmIOx6Jk+enHvuuSf3339/9t9//1ccO3r06CTJE088sdX++vr6rF27tv1YuXJlp9cL0BMIeAEAdtC1116bCy64IBMnTszBBx+cm266KXvttVe++tWvbnX8j3/84xx33HH5wAc+kAMOOCCnnnpq3v/+9//VFYfA1pmDsOtoa2vL5MmTc+edd+YHP/hBRowY8VevWbp0aZJk6NChW+2vqKjIwIEDOxwAvJw9eOGvsG/tjnnp160n+cvX5XsCdl8bN27MkiVLUl9f397Wq1ev1NXVZeHChVu95m1ve1v+/d//PQ8++GCOOeaY/PrXv853v/vdfOhDH9rm57H/IGxdd8xB8w+236RJkzJnzpx8+9vfzoABA9LU1JQkGTRoUPr165cnn3wyc+bMyTvf+c7ss88++elPf5pLLrkkJ5xwQg4//PAyVw9QbFbw8qo88MADGTduXGpqalIqlXLXXXe1923atCmXXXZZDjvssOy9996pqanJueeem1WrVnW4x7PPPptzzjknAwcOzODBg3P++edn3bp13fxKAGDnPPPMM9m8eXOqqqo6tFdVVbX/T+1f+sAHPpDp06fn+OOPz5577pk3vOENOfHEE1/x7eH2H4St6445aP7B9rvxxhuzdu3anHjiiRk6dGj78fWvfz1J0qdPn3z/+9/PqaeempEjR+YTn/hExo8fn7vvvrvMlQMUn4CXV2X9+vU54ogjMnPmzJf1Pf/883nkkUcyderUPPLII/nP//zPLFu2LO9+97s7jDvnnHPys5/9LPfdd1/uueeePPDAA7nwwgu76yUAQNnMnz8/V111VW644Yb2n5Xf+c538pnPfGab19h/EDrPq52D5h9sv7a2tq0e5513XpJk2LBhWbBgQf7whz9kw4YNefzxx3P11VfbdgGgE9iigVdl7NixGTt27Fb7Bg0alPvuu69D27/+67/mmGOOyYoVKzJ8+PD84he/yNy5c/PQQw/l6KOPTpJ86Utfyjvf+c5cc801qamp6fLXAACdYd99980ee+yR5ubmDu3Nzc2prq7e6jVTp07Nhz70ofzd3/1dkuSwww7L+vXrc+GFF+af/umf0qvXy//2XlFRkYqKis5/AVBw3TEHzT8AoAis4KVLrV27NqVSKYMHD06SLFy4MIMHD24Pd5Okrq4uvXr1yuLFi7d5n9bW1rS0tHQ4AKCc+vTpk1GjRmXevHntbVu2bMm8efNSW1u71Wuef/75lwVIe+yxR5IXVj4B288cBAB4gRW8dJkNGzbksssuy/vf//72t900NTVlyJAhHcb17t07lZWV29wrLXlh/7OGhoYurXd301MfggbQnaZMmZIJEybk6KOPzjHHHJMZM2Zk/fr1mThxYpLk3HPPzX777ZfGxsYkybhx43LttdfmqKOOyujRo/PEE09k6tSpGTduXHvIBGw/cxAAQMBLF9m0aVPe9773pa2tLTfeeONO36++vj5TpkxpP29pafGQCwDK7qyzzsrTTz+dK664Ik1NTTnyyCMzd+7c9oc+rVixosNqwcsvvzylUimXX355fve73+W1r31txo0blyuvvLJcLwEKzRwEABDw0gVeDHd/85vf5Ac/+EGHTfOrq6uzevXqDuP//Oc/59lnn93mXmmJ/c8A2HVNnjw5kydP3mrf/PnzO5z37t0706ZNy7Rp07qhMtg9mIMAwO7OHrx0qhfD3ccffzzf//73s88++3Tor62tzZo1a7JkyZL2th/84AfZsmVLRo8e3d3lAgAAAEChWcHLq7Ju3bo88cQT7edPPfVUli5dmsrKygwdOjTvec978sgjj+See+7J5s2b2/fVraysTJ8+fXLQQQfltNNOywUXXJCbbropmzZtyuTJk3P22WenpqamXC8LAAAAAApJwMur8vDDD+ekk05qP39xX9wJEybkn//5n/Nf//VfSZIjjzyyw3X3339/TjzxxCTJbbfdlsmTJ+eUU05Jr169Mn78+Fx//fXdUv+u4KUPN2ub5mnNAAAAAOw4AS+vyoknnpi2tm2Hkq/U96LKysrMmTOnM8sCAAAAgN2SPXgBAAAAAApKwAsAAAAAUFACXgAAAACAgrIHL5TRSx+4RvfzwDsAAACg6KzgBQAAAAAoKAEvAAAAAEBBCXgBAAAAAApKwAsAAAAAUFAesgb0KK/04DoPUgMAAAB6Git4AQAAAAAKSsALAAAAAFBQAl4AAAAAgIIS8AIAAAAAFJSAFwAAAACgoAS8AAAAAAAFJeAFAAAAACgoAS8AAAAAQEEJeAEAAAAACqp3uQuAnqjUUOpw3jatrUyVAAAAANCTWcELAAAAAFBQAl4AAAAAgIIS8AIAAAAAFJSAFwAAAACgoAS8AAAAAAAFJeAFAAAAACgoAS8AAAAAQEEJeAEAAAAACkrACwAAAABQUAJeAAAAAICCEvACAAAAABSUgBcAAAAAoKAEvAAAAAAABdW73AUA7IhSQ6ncJQAAAACUnRW8AAAAAAAFJeAFAAAAACgoAS8AAAAAQEEJeAEAAAAACspD1oDdhgezAQAAAD2NFbwAAAAAAAUl4AUAAAAAKCgBLwAAAABAQQl4AQAAAAAKykPWYBdVzgeCvfRzt01rK1sdAAAAALwyK3gBAAAAAApKwAsAAAAAUFACXgAAAACAghLwAgAAAAAUlIesAUAX8cBCAAAAupoVvAAAAAAABSXgBQAAAAAoKAEvAAAAAEBB2YMXdtBL99ZMXnl/zb8cCwAAAACdwQpeAAAAAICCEvACAAAAABSUgBcAAAAAoKAEvAAAAAAABeUha8AO8/A4AAAAgPKyghcAAAAAoKAEvAAAAAAABSXgBQAAAAAoKAEvQA9y44035vDDD8/AgQMzcODA1NbW5nvf+157/4YNGzJp0qTss88+6d+/f8aPH5/m5uYyVgwAAADsDAEvwF8oNZQ6HEWy//7753Of+1yWLFmShx9+OCeffHJOP/30/OxnP0uSXHLJJbn77rtzxx13ZMGCBVm1alXOPPPMMlcNAAAA7Kje5S4AgM4zbty4DudXXnllbrzxxixatCj7779/brnllsyZMycnn3xykmTWrFk56KCDsmjRohx77LHlKBkAAADYCVbwAvRQmzdvzu23357169entrY2S5YsyaZNm1JXV9c+ZuTIkRk+fHgWLly4zfu0trampaWlwwEAAADsGqzgBehhHn300dTW1mbDhg3p379/7rzzzhx88MFZunRp+vTpk8GDB3cYX1VVlaampm3er7GxMQ0NDV1cNd3lpduOtE1rK2MlAAAAdAYreAF6mAMPPDBLly7N4sWL89GPfjQTJkzIz3/+8x2+X319fdauXdt+rFy5shOrBQAAAHaGFbwAPUyfPn3yxje+MUkyatSoPPTQQ/niF7+Ys846Kxs3bsyaNWs6rOJtbm5OdXX1Nu9XUVGRioqKri4bAAAA2AFW8AL0cFu2bElra2tGjRqVPffcM/PmzWvvW7ZsWVasWJHa2toyVggAAADsKCt4AXqQ+vr6jB07NsOHD89zzz2XOXPmZP78+bn33nszaNCgnH/++ZkyZUoqKyszcODAXHTRRamtrc2xxx5b7tIBAACAHSDgBehBVq9enXPPPTe///3vM2jQoBx++OG599578453vCNJct1116VXr14ZP358WltbM2bMmNxwww1lrhoAAADYUQJegB7klltuecX+vn37ZubMmZk5c2Y3VQQAAAB0JXvwAgAAAAAUlIAXAAAAAKCgBLwAAAAAAAUl4AUAAAAAKCgBLwAAAABAQQl4AQAAAAAKSsALAAAAAFBQAl4AAAAAgILqXe4CAAAAAOgcpYZS+8dt09rKWAnQXazgBQAAAAAoKAEvAAAAAEBBCXgBAAAAAApKwAsAAAAAUFACXgAAAACAghLwAgAAAAAUlICXV+WBBx7IuHHjUlNTk1KplLvuuqtDf1tbW6644ooMHTo0/fr1S11dXR5//PEOY5599tmcc845GThwYAYPHpzzzz8/69at68ZXAQAAAAA9g4CXV2X9+vU54ogjMnPmzK32X3311bn++utz0003ZfHixdl7770zZsyYbNiwoX3MOeeck5/97Ge57777cs899+SBBx7IhRde2F0vAQAAAAB6jN7lLoBiGTt2bMaOHbvVvra2tsyYMSOXX355Tj/99CTJ1772tVRVVeWuu+7K2WefnV/84heZO3duHnrooRx99NFJki996Ut55zvfmWuuuSY1NTXd9loAAAAAoOis4KXTPPXUU2lqakpdXV1726BBgzJ69OgsXLgwSbJw4cIMHjy4PdxNkrq6uvTq1SuLFy/e5r1bW1vT0tLS4QAAAACA3Z0VvHSapqamJElVVVWH9qqqqva+pqamDBkypEN/7969U1lZ2T5maxobG9PQ0NDJFb96pYZSuUsAAAAAgHZW8FII9fX1Wbt2bfuxcuXKcpcEAAAAAGUn4KXTVFdXJ0mam5s7tDc3N7f3VVdXZ/Xq1R36//znP+fZZ59tH7M1FRUVGThwYIcDAAAAAHZ3Al46zYgRI1JdXZ158+a1t7W0tGTx4sWpra1NktTW1mbNmjVZsmRJ+5gf/OAH2bJlS0aPHt3tNQMAAABAkdmDl1dl3bp1eeKJJ9rPn3rqqSxdujSVlZUZPnx4Lr744nz2s5/Nm970powYMSJTp05NTU1NzjjjjCTJQQcdlNNOOy0XXHBBbrrppmzatCmTJ0/O2WefnZqamjK9KgAAAAAoJgEvr8rDDz+ck046qf18ypQpSZIJEyZk9uzZufTSS7N+/fpceOGFWbNmTY4//vjMnTs3ffv2bb/mtttuy+TJk3PKKaekV69eGT9+fK6//vpufy2wvTxcDwAAANhVCXh5VU488cS0tbVts79UKmX69OmZPn36NsdUVlZmzpw5XVEeAAAAAOxW7MELAAAAAFBQAl4AAABgpzQ2Nuatb31rBgwYkCFDhuSMM87IsmXLOozZsGFDJk2alH322Sf9+/fP+PHj09zcXKaKAXoOAS8AAACwUxYsWJBJkyZl0aJFue+++7Jp06aceuqpWb9+ffuYSy65JHfffXfuuOOOLFiwIKtWrcqZZ55ZxqoBegZ78AIAAAA7Ze7cuR3OZ8+enSFDhmTJkiU54YQTsnbt2txyyy2ZM2dOTj755CTJrFmzctBBB2XRokU59thjy1E2QI9gBS8AAADQqdauXZvkhYdsJ8mSJUuyadOm1NXVtY8ZOXJkhg8fnoULF5alRoCewgpeAAAAoNNs2bIlF198cY477rgceuihSZKmpqb06dMngwcP7jC2qqoqTU1NW71Pa2trWltb289bWlq6rGaAIhPwAgAAAJ1m0qRJeeyxx/KjH/1op+7T2NiYhoaGTqqq+EoNpfaP26a1lbESYFdjiwYAAACgU0yePDn33HNP7r///uy///7t7dXV1dm4cWPWrFnTYXxzc3Oqq6u3eq/6+vqsXbu2/Vi5cmVXlg5QWAJeAAAAYKe0tbVl8uTJufPOO/ODH/wgI0aM6NA/atSo7Lnnnpk3b15727Jly7JixYrU1tZu9Z4VFRUZOHBghwOAl7NFAwAAALBTJk2alDlz5uTb3/52BgwY0L6v7qBBg9KvX78MGjQo559/fqZMmZLKysoMHDgwF110UWpra3PssceWuXqAYhPwAgAAADvlxhtvTJKceOKJHdpnzZqV8847L0ly3XXXpVevXhk/fnxaW1szZsyY3HDDDd1cKUDPI+AFAAAAdkpb219/6Fffvn0zc+bMzJw5sxsqAth92IMXAAAAAKCgBLwAAAAAAAUl4AUAAAAAKCgBLwAAAABAQQl4AQAAAAAKSsALAAAAAFBQAl4AAAAAgILqXe4CAIDOVWoodThvm9ZWpkoAAADoalbwAgAAAAAUlIAXAAAAAKCgBLwAAAAAAAUl4AUAAAAAKCgBLwAAAABAQQl4AQAAAAAKSsALAAAAAFBQAl4AAAAAgIIS8AIAAAAAFJSAFwAAAACgoHqXuwAAAAAAeq5SQ2mnx7ZNa+uscqDHsYIXAAAAAKCgBLwAAAAAAAUl4AUAAAAAKCgBLwAAAABAQQl4AQB2wsyZM3PAAQekb9++GT16dB588MFXHL9mzZpMmjQpQ4cOTUVFRd785jfnu9/9bjdVCz2POQgA7O56l7sAAICi+vrXv54pU6bkpptuyujRozNjxoyMGTMmy5Yty5AhQ142fuPGjXnHO96RIUOG5Jvf/Gb222+//OY3v8ngwYO7v3joAcxBAAABL3SaUkOp3CUA0M2uvfbaXHDBBZk4cWKS5Kabbsp3vvOdfPWrX82nPvWpl43/6le/mmeffTY//vGPs+eeeyZJDjjggO4sGXoUcxAAwBYNAAA7ZOPGjVmyZEnq6ura23r16pW6urosXLhwq9f813/9V2prazNp0qRUVVXl0EMPzVVXXZXNmzdv8/O0trampaWlwwF0zxw0/wCAIhDwAgDsgGeeeSabN29OVVVVh/aqqqo0NTVt9Zpf//rX+eY3v5nNmzfnu9/9bqZOnZovfOEL+exnP7vNz9PY2JhBgwa1H8OGDevU1wFF1R1z0PwDAIpAwAsA0E22bNmSIUOG5Ctf+UpGjRqVs846K//0T/+Um266aZvX1NfXZ+3ate3HypUru7Fi6Fle7Rw0/wCAIrAHLwDADth3332zxx57pLm5uUN7c3Nzqqurt3rN0KFDs+eee2aPPfZobzvooIPS1NSUjRs3pk+fPi+7pqKiIhUVFZ1bPPQA3TEHzT8AoAis4AXICw/Je/HojuuA4uvTp09GjRqVefPmtbdt2bIl8+bNS21t7VavOe644/LEE09ky5Yt7W2/+tWvMnTo0K2Gu8C2mYMAAC8Q8AIA7KApU6bk5ptvzq233ppf/OIX+ehHP5r169dn4sSJSZJzzz039fX17eM/+tGP5tlnn83HP/7x/OpXv8p3vvOdXHXVVZk0aVK5XgIUmjkIAGCLBgCAHXbWWWfl6aefzhVXXJGmpqYceeSRmTt3bvtDn1asWJFevf7f39OHDRuWe++9N5dcckkOP/zw7Lfffvn4xz+eyy67rFwvAQrNHAQAEPACAOyUyZMnZ/LkyVvtmz9//svaamtrs2jRoi6uCnYf5iAAsLuzRQMAAAAAQEFZwQt/wcOyAAAAACgKK3gBAAAAAApKwAsAAAAAUFACXgAAAACAghLwAgAAAAAUlIAXAAAAAKCgepe7AADoLqWGUofztmltr/q67b2GHf96AwAAsP2s4AUAAAAAKCgBLwAAAABAQdmigR5te99W/ZdvIwYAAACAIrCCFwAAAACgoAS8AAAAAAAFJeAFAAAAACgoAS8AAAAAQEF5yBpAJ9neh/oBAAAAdBYreAEAAAAACkrACwAAAABQUAJeAAAAAICCEvACAAAAABSUgBcAAAAAoKAEvAAAAAAABSXgBQAAAAAoKAEvAAAAAEBB9S53AQCwuyk1lHZobNu0tq4oZ7s+V3fWAQAAwPYT8AJ0gb8M8F4aiL1SHwAAAMCrYYsGAAAAAICCEvACAAAAABSUgBcAAAAAoKAEvAAAAAAABSXgBQAAAAAoqN7lLgAAAACAjkoNpXKXABSEFbwAAAAAAAUl4AUAAAAAKCgBLwAAAABAQQl4AQAAAAAKSsALAAAAAFBQAl4AAAAAgIIS8AIAAAAAFJSAFwAAAACgoAS8dLrNmzdn6tSpGTFiRPr165c3vOEN+cxnPpO2trb2MW1tbbniiisydOjQ9OvXL3V1dXn88ce7rcZSQ6nDwbb5WgEAAADsunqXuwB6ns9//vO58cYbc+utt+aQQw7Jww8/nIkTJ2bQoEH52Mc+liS5+uqrc/311+fWW2/NiBEjMnXq1IwZMyY///nP07dv3zK/AoDt99I/fLRNa3uFkZ37uXbF+wEAAND9BLx0uh//+Mc5/fTT8653vStJcsABB+Q//uM/8uCDDyZ5YfXujBkzcvnll+f0009Pknzta19LVVVV7rrrrpx99tllqx0AAAAAisQWDXS6t73tbZk3b15+9atfJUn+93//Nz/60Y8yduzYJMlTTz2Vpqam1NXVtV8zaNCgjB49OgsXLtzqPVtbW9PS0tLhAAAAAIDdnRW8dLpPfepTaWlpyciRI7PHHntk8+bNufLKK3POOeckSZqampIkVVVVHa6rqqpq7/tLjY2NaWho6NrCAQAAAKBgrOCl033jG9/Ibbfdljlz5uSRRx7JrbfemmuuuSa33nrrDt+zvr4+a9eubT9WrlzZiRUDAAAAQDFZwUun+8d//Md86lOfat9L97DDDstvfvObNDY2ZsKECamurk6SNDc3Z+jQoe3XNTc358gjj9zqPSsqKlJRUdHltQMAAABAkVjBS6d7/vnn06tXx2+tPfbYI1u2bEmSjBgxItXV1Zk3b157f0tLSxYvXpza2tpurRUAAAAAiswKXjrduHHjcuWVV2b48OE55JBD8pOf/CTXXnttPvzhDydJSqVSLr744nz2s5/Nm970powYMSJTp05NTU1NzjjjjPIWDwAAAAAFIuCl033pS1/K1KlT8w//8A9ZvXp1ampq8vd///e54oor2sdceumlWb9+fS688MKsWbMmxx9/fObOnZu+fft2WV2lhlKX3Xt34usIAAAAsOsQ8NLpBgwYkBkzZmTGjBnbHFMqlTJ9+vRMnz69+woDAAAAgB7GHrwAAAAAAAUl4AUAAAAAKCgBLwAAAABAQdmDF6AbeDgdAAAA0BUEvAAAAAC7AAtDgB1hiwYAAAAAgIIS8AIAAAAAFJQtGgDo0V7pbW4v7Wub1rbd1+3I5+pJXunr1hXXAQAAsG1W8AIAAAAAFJSAFwAAAACgoAS8AAAAAAAFJeAFAAAAACgoAS8AAAAAQEEJeAEAAAAACkrACwAAAABQUAJeAAAAAICCEvACAAAAABSUgBcAAAAAoKAEvAAAAAAABSXgBQAAAAAoKAEvAAAAAEBBCXgBAAAAAApKwAsAAAAAUFACXgAAAGCnPPDAAxk3blxqampSKpVy1113deg/77zzUiqVOhynnXZaeYoF6GF6l7sAANgdlBpK5S6hW+wurxMA6Gj9+vU54ogj8uEPfzhnnnnmVsecdtppmTVrVvt5RUVFd5UH0KMJeAEAAICdMnbs2IwdO/YVx1RUVKS6urqbKgLYfdiiAQAAAOhy8+fPz5AhQ3LggQfmox/9aP7whz+84vjW1ta0tLR0OAB4OSt4AQAAgC512mmn5cwzz8yIESPy5JNP5tOf/nTGjh2bhQsXZo899tjqNY2NjWloaOjmStlV/eVWYG3T2spUCex6BLwAAABAlzr77LPbPz7ssMNy+OGH5w1veEPmz5+fU045ZavX1NfXZ8qUKe3nLS0tGTZsWJfXClA0tmgAAAAAutXrX//67LvvvnniiSe2OaaioiIDBw7scADwcgJeAAAAoFv99re/zR/+8IcMHTq03KUAFJ4tGgAAAICdsm7dug6rcZ966qksXbo0lZWVqaysTENDQ8aPH5/q6uo8+eSTufTSS/PGN74xY8aMKWPVAD2DgBcAAADYKQ8//HBOOumk9vMX986dMGFCbrzxxvz0pz/NrbfemjVr1qSmpiannnpqPvOZz6SioqJcJQP0GAJeAAAAYKeceOKJaWtr22b/vffe243VAOxe7MELAAAAAFBQAl4AAAAAgIIS8AL0II2NjXnrW9+aAQMGZMiQITnjjDOybNmyDmM2bNiQSZMmZZ999kn//v0zfvz4NDc3l6liAAAAYGcIeAF6kAULFmTSpElZtGhR7rvvvmzatCmnnnpq1q9f3z7mkksuyd1335077rgjCxYsyKpVq3LmmWeWsWoAAABgR3nIGkAPMnfu3A7ns2fPzpAhQ7JkyZKccMIJWbt2bW655ZbMmTMnJ598cpJk1qxZOeigg7Jo0aIce+yx5SgbAAAA2EFW8AL0YGvXrk2SVFZWJkmWLFmSTZs2pa6urn3MyJEjM3z48CxcuLAsNQIAAAA7zgpegB5qy5Ytufjii3Pcccfl0EMPTZI0NTWlT58+GTx4cIexVVVVaWpq2up9Wltb09ra2n7e0tLSZTUDAAAAr46AF6CHmjRpUh577LH86Ec/2qn7NDY2pqGhoZOqohxKDaVylwAAAEAXsUUDQA80efLk3HPPPbn//vuz//77t7dXV1dn48aNWbNmTYfxzc3Nqa6u3uq96uvrs3bt2vZj5cqVXVk6AAAA8CoIeAF6kLa2tkyePDl33nlnfvCDH2TEiBEd+keNGpU999wz8+bNa29btmxZVqxYkdra2q3es6KiIgMHDuxwAAAAALsGWzQA9CCTJk3KnDlz8u1vfzsDBgxo31d30KBB6devXwYNGpTzzz8/U6ZMSWVlZQYOHJiLLrootbW1OfbYY8tcPQAAAPBqCXgBepAbb7wxSXLiiSd2aJ81a1bOO++8JMl1112XXr16Zfz48Wltbc2YMWNyww03dHOlAAAAQGcQ8AL0IG1tbX91TN++fTNz5szMnDmzGyoCAAAAupI9eAEAAAAACkrACwAAAABQUAJeAAAAAICCEvACAAAAABSUgBcAAAAAoKAEvAAAAAAABSXgBQAAAAAoKAEvAAAAAEBBCXgBAAAAAApKwAsAAAAAUFACXgAAAACAgupd7gIAgOIqNZTKXQIAAMBuzQpeAAAAAICCEvACAAAAABSUgBcAAAAAoKAEvAAAAAAABSXgBQAAAAAoKAEvAAAAAEBBCXgBAAAAAApKwAsAAAAAUFACXgAAAACAghLwAgAAAAAUlIAXAAAAAKCgBLwAAAAAAAUl4AUAAAAAKCgBLwAAAABAQQl4AQAAAAAKqne5CwAAAABg+5UaSuUuodP0pNcC5SLgBYD4xbK7vfTr3TatrYyVAAAAFJstGgAAAAAACkrACwAAAABQUAJeAAAAAICCEvACAAAAABSUgBcAAAAAoKAEvAAAAAAABSXgBQAAAAAoKAEvAAAAAEBBCXgBAHbCzJkzc8ABB6Rv374ZPXp0Hnzwwe267vbbb0+pVMoZZ5zRtQVCD2cOAgC7OwEvAMAO+vrXv54pU6Zk2rRpeeSRR3LEEUdkzJgxWb169Stet3z58nzyk5/M29/+9m6qFHomcxAAQMBLF/nd736XD37wg9lnn33Sr1+/HHbYYXn44Yfb+9va2nLFFVdk6NCh6devX+rq6vL444+XsWIAePWuvfbaXHDBBZk4cWIOPvjg3HTTTdlrr73y1a9+dZvXbN68Oeecc04aGhry+te/vhurhZ7HHAQAEPDSBf74xz/muOOOy5577pnvfe97+fnPf54vfOELec1rXtM+5uqrr87111+fm266KYsXL87ee++dMWPGZMOGDWWsHAC238aNG7NkyZLU1dW1t/Xq1St1dXVZuHDhNq+bPn16hgwZkvPPP787yoQeyxwEAHhB73IXQM/z+c9/PsOGDcusWbPa20aMGNH+cVtbW2bMmJHLL788p59+epLka1/7WqqqqnLXXXfl7LPP7vaaAeDVeuaZZ7J58+ZUVVV1aK+qqsovf/nLrV7zox/9KLfcckuWLl263Z+ntbU1ra2t7ectLS07VC/0NN0xB80/AKAIrOCl0/3Xf/1Xjj766Lz3ve/NkCFDctRRR+Xmm29u73/qqafS1NTUYbXFoEGDMnr06FdcbQEARfbcc8/lQx/6UG6++ebsu+++231dY2NjBg0a1H4MGzasC6uEnmtH5qD5BwAUgRW8dLpf//rXufHGGzNlypR8+tOfzkMPPZSPfexj6dOnTyZMmJCmpqYk2epqixf7/pLVEwDsavbdd9/sscceaW5u7tDe3Nyc6urql41/8skns3z58owbN669bcuWLUmS3r17Z9myZXnDG97wsuvq6+szZcqU9vOWlhYhE6R75qD5BwAUgYCXTrdly5YcffTRueqqq5IkRx11VB577LHcdNNNmTBhwg7ds7GxMQ0NDZ1ZJgDslD59+mTUqFGZN29ezjjjjCQv/AycN29eJk+e/LLxI0eOzKOPPtqh7fLLL89zzz2XL37xi9sMjSoqKlJRUdHp9UPRdcccNP8AgCIQ8NLphg4dmoMPPrhD20EHHZRvfetbSdK+oqK5uTlDhw5tH9Pc3Jwjjzxyq/e0egJ4NUoNpXKXwG5iypQpmTBhQo4++ugcc8wxmTFjRtavX5+JEycmSc4999zst99+aWxsTN++fXPooYd2uH7w4MFJ8rJ2YPuYgwAAAl66wHHHHZdly5Z1aPvVr36V173udUleeOBadXV15s2b1x7otrS0ZPHixfnoRz+61XtaPQHAruiss87K008/nSuuuCJNTU058sgjM3fu3PZtiFasWJFevTzyALqKOQgAIOClC1xyySV529velquuuirve9/78uCDD+YrX/lKvvKVryRJSqVSLr744nz2s5/Nm970powYMSJTp05NTU1N+9vrAKAoJk+evNW3gyfJ/PnzX/Ha2bNnd35BsJsxBwGA3Z2Al0731re+NXfeeWfq6+szffr0jBgxIjNmzMg555zTPubSSy/N+vXrc+GFF2bNmjU5/vjjM3fu3PTt27eMlQMAAABAsQh46RJ/+7d/m7/927/dZn+pVMr06dMzffr0bqwKAAAAAHoWG1IBAAAAABSUFbwAAAAA9HilhlKH87ZpbWWqBDqXFbwAAAAAAAUl4AUAAAAAKCgBLwAAAABAQQl4AQAAAAAKSsALAAAAAFBQAl4AAAAAgIIS8AIAAAAAFJSAFwAAAACgoAS8AAAAAAAFJeAFAAAAACgoAS8AAAAAQEEJeAEAAAAACkrACwAAAABQUAJeAAAAAICCEvACAAAAABSUgBcAAAAAoKAEvAAAAAAABSXgBQAAAAAoKAEvAAAAAEBBCXgBAAAAAApKwAsAAAAAUFACXgAAAACAghLwAgAAAAAUVO9yFwAAAABQdKWGUvvHbdPaylgJsLuxghcAAAAAoKAEvAAAAAAABSXgBQAAAAAoKHvwAlBI5drj7KWftyfbXV4nAABA0VnBCwAAAABQUAJeAAAAAICCEvACAAAAABSUgBcAAAAAoKAEvAAAAAAABSXgBQAAAAAoKAEvAAAAAEBBCXgBAAAAAApKwAsAAAAAUFACXgAAAACAghLwAgAAAAAUlIAXAAAAAKCgBLwAAAAAAAUl4AUAAAAAKCgBLwAAALBTHnjggYwbNy41NTUplUq56667OvS3tbXliiuuyNChQ9OvX7/U1dXl8ccfL0+xAD2MgBcAAADYKevXr88RRxyRmTNnbrX/6quvzvXXX5+bbropixcvzt57750xY8Zkw4YN3VwpQM/Tu9wFAAC8VKmh1P5x27S2MlYCAGyvsWPHZuzYsVvta2try4wZM3L55Zfn9NNPT5J87WtfS1VVVe66666cffbZ3VkqQI9jBS8AAADQZZ566qk0NTWlrq6uvW3QoEEZPXp0Fi5cuM3rWltb09LS0uEA4OWs4AUAAAC6TFNTU5KkqqqqQ3tVVVV739Y0NjamoaGhS2vrLi99h9Jf8o6lnefry+7OCl4AAABgl1NfX5+1a9e2HytXrix3SQC7JAEvAAAA0GWqq6uTJM3NzR3am5ub2/u2pqKiIgMHDuxwAPByAl4AAACgy4wYMSLV1dWZN29ee1tLS0sWL16c2traMlYG0DPYgxcAAADYKevWrcsTTzzRfv7UU09l6dKlqayszPDhw3PxxRfns5/9bN70pjdlxIgRmTp1ampqanLGGWeUr2iAHkLACwAAAOyUhx9+OCeddFL7+ZQpU5IkEyZMyOzZs3PppZdm/fr1ufDCC7NmzZocf/zxmTt3bvr27VuukgF6DAEvAAAAsFNOPPHEtLW1bbO/VCpl+vTpmT59ejdWBbB7sAcvAAAAAEBBCXgBAAAAAApKwAsAAAAAUFACXgAAAACAghLwAgAAAAAUlIAXAAAAAKCgBLwAAAAAAAUl4AUAAAAAKKje5S4AAHZWqaFU7hLYCf79AAAAdpwVvAAAAAAABSXgBQAAAAAoKAEvAAAAAEBBCXgBAAAAAApKwAsAAAAAUFACXgAAAACAghLwAgAAAAAUlIAXAAAAAKCgepe7AAAAAAB4NUoNpXKXALsMK3gBAAAAAApKwAsAAAAAUFACXgAAAACAghLwAgAAAAAUlIAXAAAAAKCgBLwAAAAAAAUl4AUAAAAAKKje5S4AALal1FAqdwmU2fZ+D7RNa+viSgAAAHZNVvACAAAAABSUgBcAAAAAoKAEvAAAAAAABSXgBQAAAAAoKAEvAAAAAEBBCXjpUp/73OdSKpVy8cUXt7dt2LAhkyZNyj777JP+/ftn/PjxaW5uLl+RAAAAAFBQAl66zEMPPZQvf/nLOfzwwzu0X3LJJbn77rtzxx13ZMGCBVm1alXOPPPMMlUJAAAAAMUl4KVLrFu3Luecc05uvvnmvOY1r2lvX7t2bW655ZZce+21OfnkkzNq1KjMmjUrP/7xj7No0aIyVgwAAAAAxSPgpUtMmjQp73rXu1JXV9ehfcmSJdm0aVOH9pEjR2b48OFZuHBhd5cJAAAAAIXWu9wF0PPcfvvteeSRR/LQQw+9rK+pqSl9+vTJ4MGDO7RXVVWlqalpm/dsbW1Na2tr+3lLS0un1QsAAAAARWUFL51q5cqV+fjHP57bbrstffv27bT7NjY2ZtCgQe3HsGHDOu3eAAAAAFBUAl461ZIlS7J69eq85S1vSe/evdO7d+8sWLAg119/fXr37p2qqqps3Lgxa9as6XBdc3Nzqqurt3nf+vr6rF27tv1YuXJlF78SAAAAANj12aKBTnXKKafk0Ucf7dA2ceLEjBw5MpdddlmGDRuWPffcM/Pmzcv48eOTJMuWLcuKFStSW1u7zftWVFSkoqKiS2sHAAAAgKIR8NKpBgwYkEMPPbRD295775199tmnvf3888/PlClTUllZmYEDB+aiiy5KbW1tjj322HKUDAAAAACFJeCl21133XXp1atXxo8fn9bW1owZMyY33HBDucsCAAAAgMIR8NLl5s+f3+G8b9++mTlzZmbOnFmeggAAAGAXUWoolbsEdsJL//3aprWVsRJ2ZwJeAHYpfsEFAACA7der3AUAAAAAALBjBLwAAAAAAAUl4AUAAAAAKCgBLwAAAABAQQl4AQAAAAAKSsALAAAAAFBQAl4AAAAAgIIS8AIAAAAAFJSAFwAAAACgoAS8AAAAAAAFJeAFAAAAACgoAS8AAAAAQEEJeAF6mAceeCDjxo1LTU1NSqVS7rrrrg79bW1tueKKKzJ06ND069cvdXV1efzxx8tTLAAAALBTBLwAPcz69etzxBFHZObMmVvtv/rqq3P99dfnpptuyuLFi7P33ntnzJgx2bBhQzdXCgAAAOys3uUuAIDONXbs2IwdO3arfW1tbZkxY0Yuv/zynH766UmSr33ta6mqqspdd92Vs88+uztLBQAAAHaSFbwAu5GnnnoqTU1Nqaura28bNGhQRo8enYULF271mtbW1rS0tHQ4AAAAgF2DFbwAu5GmpqYkSVVVVYf2qqqq9r6/1NjYmIaGhk6to9RQ6tT7wV9+T7VNa9uuPgAAgKKzgheAV1RfX5+1a9e2HytXrix3SQAAAMD/T8ALsBuprq5OkjQ3N3dob25ubu/7SxUVFRk4cGCHAwAAANg1CHgBdiMjRoxIdXV15s2b197W0tKSxYsXp7a2toyVAQAAADvCHrwAPcy6devyxBNPtJ8/9dRTWbp0aSorKzN8+PBcfPHF+exnP5s3velNGTFiRKZOnZqampqcccYZ5SsaAAAA2CECXoAe5uGHH85JJ53Ufj5lypQkyYQJEzJ79uxceumlWb9+fS688MKsWbMmxx9/fObOnZu+ffuWq2QAAOgSL33Y6l8+aPWV+nZk3LauoZh25N+9K+4B20PAC9DDnHjiiWlre4VfUEulTJ8+PdOnT+/GqgAAAICuYA9eAAAAAICCEvACAAAAABSUgBcAAAAAoKAEvAAAAAAABSXgBQAAAAAoKAEvAAAAAEBBCXgBAAAAAApKwAsAAAAAUFACXgAAAACAghLwAgAAAAAUlIAXAAAAAKCgepe7AAB6vlJDqdwlsJvxPQcAAOwurOAFAAAAACgoAS8AwE6YOXNmDjjggPTt2zejR4/Ogw8+uM2xN998c97+9rfnNa95TV7zmtekrq7uFccDf505CADs7gS8AAA76Otf/3qmTJmSadOm5ZFHHskRRxyRMWPGZPXq1VsdP3/+/Lz//e/P/fffn4ULF2bYsGE59dRT87vf/a6bK4eewRwEABDwAgDssGuvvTYXXHBBJk6cmIMPPjg33XRT9tprr3z1q1/d6vjbbrst//AP/5AjjzwyI0eOzL/9279ly5YtmTdvXjdXDj2DOQgAIOAFANghGzduzJIlS1JXV9fe1qtXr9TV1WXhwoXbdY/nn38+mzZtSmVl5TbHtLa2pqWlpcMBdM8cNP8AgCIQ8AIA7IBnnnkmmzdvTlVVVYf2qqqqNDU1bdc9LrvsstTU1HQIqP5SY2NjBg0a1H4MGzZsp+qGnqI75qD5BwAUgYAXAKAMPve5z+X222/PnXfemb59+25zXH19fdauXdt+rFy5shurhJ5re+ag+QcAFEHvchcAAFBE++67b/bYY480Nzd3aG9ubk51dfUrXnvNNdfkc5/7XL7//e/n8MMPf8WxFRUVqaio2Ol6oafpjjlo/gEARWAFLwDADujTp09GjRrV4eFMLz6sqba2dpvXXX311fnMZz6TuXPn5uijj+6OUqFHMgcBAF5gBS8AwA6aMmVKJkyYkKOPPjrHHHNMZsyYkfXr12fixIlJknPPPTf77bdfGhsbkySf//znc8UVV2TOnDk54IAD2vcJ7d+/f/r371+21wFFZQ4CAAh4AQB22FlnnZWnn346V1xxRZqamnLkkUdm7ty57Q99WrFiRXr1+n9vmLrxxhuzcePGvOc97+lwn2nTpuWf//mfu7N06BHMQaDcSg2lcpfAX+HfiN2BgBcAYCdMnjw5kydP3mrf/PnzO5wvX7686wuC3Yw5CADs7uzBCwAAAABQUAJeAAAAAICCEvACAAAAABSUgBcAAAAAoKAEvAAAAAAABSXgBQAAAAAoKAEvAAAAAEBBCXgBAAAAAApKwAsAAAAAUFACXgAAAACAghLwAgAAAAAUlIAXAAAAAKCgBLwAAAAAAAUl4AUAAAAAKCgBLwAAAABAQQl4AQAAAAAKSsALAAAAAFBQAl4AAACgy/3zP/9zSqVSh2PkyJHlLgug8HqXuwAAAABg93DIIYfk+9//fvt5795iCYCd5b+kAAAAQLfo3bt3qqury10GQI9iiwYAAACgWzz++OOpqanJ61//+pxzzjlZsWJFuUsCKDwreAHoEqWGUrlLgK166fdm27S2MlYCALuX0aNHZ/bs2TnwwAPz+9//Pg0NDXn729+exx57LAMGDHjZ+NbW1rS2traft7S0dGe5AIUh4AUAAAC63NixY9s/PvzwwzN69Oi87nWvyze+8Y2cf/75Lxvf2NiYhoaGTvv8FiDwlzr7D/++xygXWzQAAAAA3W7w4MF585vfnCeeeGKr/fX19Vm7dm37sXLlym6uEKAYBLwAAABAt1u3bl2efPLJDB06dKv9FRUVGThwYIcDgJcT8AIAAABd7pOf/GQWLFiQ5cuX58c//nH+z//5P9ljjz3y/ve/v9ylARSaPXgBAACALvfb3/4273//+/OHP/whr33ta3P88cdn0aJFee1rX1vu0gAKTcALAAAAdLnbb7+93CUA9Ei2aAAAAAAAKCgBLwAAAABAQQl4AQAAAAAKSsALAAAAAFBQAl4AAAAAgIIS8AIAAAAAFJSAFwAAAACgoAS8AAAAAAAFJeAFAAAAACgoAS8AAAAAQEEJeOl0jY2Neetb35oBAwZkyJAhOeOMM7Js2bIOYzZs2JBJkyZln332Sf/+/TN+/Pg0NzeXqWIAAAAAKCYBL51uwYIFmTRpUhYtWpT77rsvmzZtyqmnnpr169e3j7nkkkty991354477siCBQuyatWqnHnmmWWsGgAAAACKp3e5C6DnmTt3bofz2bNnZ8iQIVmyZElOOOGErF27NrfcckvmzJmTk08+OUkya9asHHTQQVm0aFGOPfbYcpQNAAAAAIVjBS9dbu3atUmSysrKJMmSJUuyadOm1NXVtY8ZOXJkhg8fnoULF5alRgAAAAAoIit46VJbtmzJxRdfnOOOOy6HHnpokqSpqSl9+vTJ4MGDO4ytqqpKU1PTVu/T2tqa1tbW9vOWlpYuqxkAAAAAisIKXrrUpEmT8thjj+X222/fqfs0NjZm0KBB7cewYcM6qUIAAAAAKC4BL11m8uTJueeee3L//fdn//33b2+vrq7Oxo0bs2bNmg7jm5ubU11dvdV71dfXZ+3ate3HypUru7J0AAAAACgEWzTQ6dra2nLRRRflzjvvzPz58zNixIgO/aNGjcqee+6ZefPmZfz48UmSZcuWZcWKFamtrd3qPSsqKlJRUdHltQMAAMDurtRQ2mZf27S2bqyk+7zSa4ZdnYCXTjdp0qTMmTMn3/72tzNgwID2fXUHDRqUfv36ZdCgQTn//PMzZcqUVFZWZuDAgbnoootSW1ubY489tszVAwAAAEBxCHjpdDfeeGOS5MQTT+zQPmvWrJx33nlJkuuuuy69evXK+PHj09ramjFjxuSGG27o5koBAAAAoNgEvHS6tra//naNvn37ZubMmZk5c2Y3VAQAAAAAPZOHrAEAAAAAFJSAFwAAAACgoAS8AAAAAAAFJeAFAAAAACgoAS8AAAAAQEEJeAEAAAAACkrACwAAAABQUAJeAAAAAICCEvACAAAAABSUgBcAAAAAoKAEvAAAAAAABSXgBQAAAAAoKAEvAAAAAEBBCXgBAAAAAApKwAsAAAAAUFACXgAAAACAghLwAgAAAAAUlIAXAAAAAKCgBLwAAAAAAAUl4AUAAAAAKKje5S4AAAAAoJxKDaX2j9umtW3XuCL4y3pf6bV19ecGuo4VvAAAAAAABSXgBQAAAAAoKAEvAAAAAEBBCXgBAAAAAApKwAsAAAAAUFACXgAAAACAghLwAgAAAAAUlIAXAAAAAKCgBLwAAAAAAAUl4AUAAAAAKCgBLwAAAABAQQl4AQAAAAAKSsALAAAAAFBQAl4AAAAAgIIS8AIAAAAAFJSAFwAAAACgoAS8AAAAAAAFJeAFAAAAACgoAS8AAAAAQEEJeAEAAAAACkrACwAAAABQUAJeAAAAAICCEvACAAAAABRU73IXAAAAAEB5lRpKO31N27S2zipnl7UjXyfoalbwAgAAAAAUlIAXAAAAAKCgBLwAAAAAAAUl4AUAAAAAKCgBLwAAAABAQQl4AQAAAAAKSsALAAAAAFBQAl4AAAAAgIIS8AIAAAAAFJSAFwAAAACgoAS8AAAAAAAFJeAFAAAAACgoAS8AAAAAQEEJeAEAAAAACkrACwAAAABQUAJeAAAAAICCEvACAAAAABSUgBcAAAAAoKAEvAAAAAAABSXgBQAAAAAoKAEvAAAAAEBBCXgBAAAAAAqqd7kLAAAAAOgMpYZSuUsojB39Wvka75iXft3aprWVsRJ6Iit4AQAAAAAKSsALAAAAAFBQAl4AAAAAgIIS8AIAAAAAFJSAFwAAAACgoAS8AAAAAAAFJeAFAAAAACgoAS8AAAAAQEEJeAEAAAAACkrACwAAAABQUAJeAAAAAICCEvACAPx/7d1biFXlHwbgn/pvZpTykOIMmoNWkoVRdNC0E5EwUjdGREVUiliWQqFEGZFEF4ZQFGakF9pVTdiFQXQgjOqiCdFOTKVREGU1Y1IeOjk1fv+LcHI742FOe803+3lgwL1m7dm//c16XWtedQkAAJApBS8AAAAAQKYUvAAAAAAAmVLwAgAAAABkSsELAAAAAJApBS8AAAAAQKYUvAAAAAAAmVLwAgAAAABkSsFLYdauXRuTJ0+OmpqamDlzZmzdurXokaCiyCD0je5madOmTTFt2rSoqamJ888/P15//fUyTQqDkwxCXlyDAvQ9BS+FePnll2PZsmWxcuXK+Oijj+KCCy6IhoaG2L17d9GjQUWQQegb3c3SBx98ELfeemssXLgwPv7445g3b17Mmzcvmpubyzw5DA4yCHlxDQrQPxS8FOKpp56KRYsWxYIFC+K8886L559/PkaMGBEbNmwoejSoCDIIfaO7WXrmmWdi7ty58cADD8S5554bjz/+eFx00UXx7LPPlnlyGBxkEPLiGhSgf/yv6AGoPG1tbbF9+/ZYsWJFx7ahQ4fGnDlzoqmpqcvnHDx4MA4ePNjxeN++fRERsX///uO/2F+9nxf62/GO48OfSyn12et1N4Pyx2B2ouP4eBnsyfmsqakpli1bVrKtoaEhNm/efMwZepTBbuSv5Osc53knzHw35zjZ+Xv0ur1xsq+d2YxH69fvZ0+Pv2N87ljnwHJksMfnwNwc9T0r7P2d7By5zZupvr4OLdvPgX1wDdrp6w+i69qe/n49UL5+Ufr6ffXmGhS6ouCl7Pbs2RPt7e1RW1tbsr22tjZ27NjR5XNWrVoVjz32WKftkyZN6pcZoZxGPTHqhPscOHAgRo068X4no7sZlD8Gs5PJX0TXGezJ+aylpaXL/VtaWo752v2dwZNdg5Pdb6C/bncMphn76nlFzHGsc2A5Mlip58Aij+kj5ZDBIw2UOfpaX12H5vRz4GD9Xkb0/3sbrGtX1HmzL38OZHBT8JKFFStWlPxti0OHDsUvv/wSY8eOjSFDhvTb6+7fvz8mTZoU33//fYwcObLfXicX1qNUOdYjpRQHDhyICRMm9MvXPxnyNzBYj1LlWo9KzaDjrTNrUso50DmwnKxHKedA58Bysh6lKil/5EXBS9mNGzcuhg0bFq2trSXbW1tbo66ursvnVFdXR3V1dcm20aNH99eInYwcOdLJ7AjWo1R/r0df/4ltdzMofwOL9ShVjvU4VgZ7cj6rq6vr1v4RxWbQ8daZNSlV5DmwHBl0DhxYrEepIs+BPZHbz4GOt1LWo1Ru+WPw85+sUXZVVVVx8cUXx5YtWzq2HTp0KLZs2RKzZs0qcDKoDDIIfaMnWZo1a1bJ/hERb7/9tuxBD8gg5MU1KED/8Td4KcSyZcvizjvvjEsuuSRmzJgRTz/9dPz++++xYMGCokeDiiCD0DdOlKU77rgjJk6cGKtWrYqIiPvuuy+uvvrqePLJJ+P666+PxsbG2LZtW6xfv77ItwHZkkHIi2tQgP6h4KUQN998c/z888/x6KOPRktLS1x44YXx5ptvdrrhftGqq6tj5cqVnf5ZUKWyHqVyXo8cMpjz+vYH61FqoKzHibL03XffxdCh//2DqdmzZ8eLL74YjzzySDz88MMxderU2Lx5c0yfPr2ot9ClgbK+A4k1KTVQ1kMGK4P1KJXzergGzY/1KGU9GKiGpJRS0UMAAAAAANB97sELAAAAAJApBS8AAAAAQKYUvAAAAAAAmVLwAgAAAABkSsELR/n2229j4cKFMWXKlBg+fHicddZZsXLlymhrayvZ77PPPosrr7wyampqYtKkSbF69eqCJi6PtWvXxuTJk6OmpiZmzpwZW7duLXqksli1alVceumlcdppp8X48eNj3rx5sXPnzpJ9/vrrr1iyZEmMHTs2Tj311LjxxhujtbW1oInzJ4Ndq8QMyl/5yV/XKjF/ETJYBBnsTP7kr1zkr2syKINkIgEl3njjjTR//vz01ltvpW+++Sa9+uqrafz48Wn58uUd++zbty/V1tam2267LTU3N6eXXnopDR8+PK1bt67AyftPY2NjqqqqShs2bEiff/55WrRoURo9enRqbW0terR+19DQkDZu3Jiam5vTJ598kq677rpUX1+ffvvtt459Fi9enCZNmpS2bNmStm3bli677LI0e/bsAqfOmwx2VqkZlL/yk7/OKjV/KclgEWSwlPzJXznJX2cyKIPkQ8ELJ2H16tVpypQpHY+fe+65NGbMmHTw4MGObQ8++GA655xzihiv382YMSMtWbKk43F7e3uaMGFCWrVqVYFTFWP37t0pItJ7772XUkpp79696ZRTTkmbNm3q2OfLL79MEZGampqKGnPQkUEZTEn+iiJ/8neYDBajkjMof/+Rv2JUcv5SksEjySADnVs0wEnYt29fnH766R2Pm5qa4qqrroqqqqqObQ0NDbFz58749ddfixix37S1tcX27dtjzpw5HduGDh0ac+bMiaampgInK8a+ffsiIjqOh+3bt8fff/9dsj7Tpk2L+vr6ilyf/iKDMhghf0WRP/k7TAaLUakZlL9S8leMSs1fhAweTQYZ6BS8cAJff/11rFmzJu6+++6ObS0tLVFbW1uy3+HHLS0tZZ2vv+3Zsyfa29u7fL+D7b2eyKFDh+L++++Pyy+/PKZPnx4R/36/q6qqYvTo0SX7VuL69BcZlMEI+SuK/MnfYTJYjErOoPz9R/6KUcn5i5DBI8kgOVDwUjEeeuihGDJkyHE/duzYUfKcH374IebOnRs33XRTLFq0qKDJGSiWLFkSzc3N0djYWPQoWZJBekP+ekf+6C0Z7B0ZpDfkr3fkj96SQXLwv6IHgHJZvnx5zJ8//7j7nHnmmR2//vHHH+Oaa66J2bNnx/r160v2q6ur6/S/Yx5+XFdX1zcDDxDjxo2LYcOGdfl+B9t7PZ6lS5fGa6+9Fu+//36cccYZHdvr6uqira0t9u7dW/Knt5W2PidDBntGBuWvL8hfz8jfv2Sw92Sw++TvX/LXe/LXMzL4LxkkG0XfBBgGol27dqWpU6emW265Jf3zzz+dPn/45vptbW0d21asWDGob66/dOnSjsft7e1p4sSJFXFz/UOHDqUlS5akCRMmpK+++qrT5w/fXP+VV17p2LZjxw431+8lGSxVqRmUv2LIX6lKzV9KMlgUGfyP/MlfuclfKRmUQfKh4IWj7Nq1K5199tnp2muvTbt27Uo//fRTx8dhe/fuTbW1ten2229Pzc3NqbGxMY0YMSKtW7euwMn7T2NjY6qurk4vvPBC+uKLL9Jdd92VRo8enVpaWooerd/dc889adSoUendd98tORb++OOPjn0WL16c6uvr0zvvvJO2bduWZs2alWbNmlXg1HmTwc4qNYPyV37y11ml5i8lGSyCDJaSP/krJ/nrTAZlkHwoeOEoGzduTBHR5ceRPv3003TFFVek6urqNHHixPTEE08UNHF5rFmzJtXX16eqqqo0Y8aM9OGHHxY9Ulkc61jYuHFjxz5//vlnuvfee9OYMWPSiBEj0g033FByIUj3yGDXKjGD8ld+8te1SsxfSjJYBBnsTP7kr1zkr2syKIPkYUhKKfX6Pg8AAAAAAJTd0KIHAAAAAACgZxS8AAAAAACZUvACAAAAAGRKwQsAAAAAkCkFLwAAAABAphS8AAAAAACZUvACAAAAAGRKwQsAAAAAkCkFLwAAAABAphS8AAAAAACZUvACAAAAAGRKwQsAAAAAkCkFLwAAAABAphS8AAAAAACZUvACAAAAAGRKwQsAAAAAkCkFLwAAAABAphS8AAAAAACZUvACAAAAAGRKwQsAAAAAkCkFLwAAAABAphS8AAAAAACZUvACAAAAAGRKwQsAAAAAkCkFLwAAAABAphS8AAAAAACZUvACAAAAAGRKwQsAAAAAkCkFLwAAAABAphS8AAAAAACZUvACAAAAAGRKwQsAAAAAkCkFLwAAAABAphS8AAAAAACZUvACAAAAAGRKwQsAAAAAkCkFLwAAAABAphS8AAAAAACZUvACAAAAAGRKwQsAAAAAkCkFLwAAAABAphS8AAAAAACZUvACAAAAAGRKwQsAAAAAkCkFLwAAAABAphS8AAAAAACZUvACAAAAAGRKwQsAAAAAkCkFLwAAAABAphS8AAAAAACZUvACAAAAAGRKwQsAAAAAkCkFLwAAAABAphS8AAAAAACZUvACAAAAAGRKwQsAAAAAkCkFLwAAAABAphS8AAAAAACZUvACAAAAAGRKwQsAAAAAkCkFLwAAAABAphS8AAAAAACZUvACAAAAAGRKwQsAAAAAkCkFLwAAAABAphS8AAAAAACZUvACAAAAAGRKwQsAAAAAkCkFLwAAAABAphS8AAAAAACZUvACAAAAAGRKwQsAAAAAkCkFLwAAAABAphS8AAAAAACZUvACAAAAAGRKwQsAAAAAkCkFLwAAAABAphS8AAAAAACZUvACAAAAAGRKwQsAAAAAkCkFLwAAAABAphS8AAAAAACZUvACAAAAAGRKwQsAAAAAkCkFLwAAAABAphS8AAAAAACZUvACAAAAAGRKwQsAAAAAkKn/A0AvNnNvcL3sAAAAAElFTkSuQmCC' width=1400.0/>\n",
       "            </div>\n",
       "        "
      ],
      "text/plain": [
       "Canvas(toolbar=Toolbar(toolitems=[('Home', 'Reset original view', 'home', 'home'), ('Back', 'Back to previous …"
      ]
     },
     "metadata": {},
     "output_type": "display_data"
    },
    {
     "data": {
      "application/vnd.jupyter.widget-view+json": {
       "model_id": "43c3c330a51c49d4ae387389e66eb0e6",
       "version_major": 2,
       "version_minor": 0
      },
      "image/png": "[encoded data removed]",
      "text/html": [
       "\n",
       "            <div style=\"display: inline-block;\">\n",
       "                <div class=\"jupyter-widgets widget-label\" style=\"text-align: center;\">\n",
       "                    Figure\n",
       "                </div>\n",
       "                <img src='data:image/png;base64,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' width=1200.0/>\n",
       "            </div>\n",
       "        "
      ],
      "text/plain": [
       "Canvas(toolbar=Toolbar(toolitems=[('Home', 'Reset original view', 'home', 'home'), ('Back', 'Back to previous …"
      ]
     },
     "metadata": {},
     "output_type": "display_data"
    }
   ],
   "source": [
    "si.plot_autocorrelograms(we, unit_ids=sorting.unit_ids[::34], figsize=(14, 10))\n",
    "si.plot_crosscorrelograms(we, unit_ids=sorting.unit_ids[::34], figsize=(12, 12))"
   ]
  },
  {
   "cell_type": "markdown",
   "metadata": {},
   "source": [
    "### Compute template similarity"
   ]
  },
  {
   "cell_type": "code",
   "execution_count": 106,
   "metadata": {},
   "outputs": [],
   "source": [
    "similarity = si.compute_template_similarity(we)"
   ]
  },
  {
   "cell_type": "markdown",
   "metadata": {},
   "source": [
    "### Compute template metrics\n",
    "\n",
    "Template metrics, or extracellular features, such as peak to valley duration or full-width half maximum, are important to classify neurons into putative classes (excitatory - inhibitory). The `postprocessing` allows one to compute several of these metrics:"
   ]
  },
  {
   "cell_type": "code",
   "execution_count": 107,
   "metadata": {},
   "outputs": [
    {
     "name": "stdout",
     "output_type": "stream",
     "text": [
      "['peak_to_valley', 'peak_trough_ratio', 'half_width', 'repolarization_slope', 'recovery_slope', 'num_positive_peaks', 'num_negative_peaks', 'velocity_above', 'velocity_below', 'exp_decay', 'spread']\n"
     ]
    }
   ],
   "source": [
    "print(si.get_template_metric_names())"
   ]
  },
  {
   "cell_type": "code",
   "execution_count": 108,
   "metadata": {
    "pycharm": {
     "name": "#%%\n"
    }
   },
   "outputs": [
    {
     "data": {
      "text/html": [
       "<div>\n",
       "<style scoped>\n",
       "    .dataframe tbody tr th:only-of-type {\n",
       "        vertical-align: middle;\n",
       "    }\n",
       "\n",
       "    .dataframe tbody tr th {\n",
       "        vertical-align: top;\n",
       "    }\n",
       "\n",
       "    .dataframe thead th {\n",
       "        text-align: right;\n",
       "    }\n",
       "</style>\n",
       "<table border=\"1\" class=\"dataframe\">\n",
       "  <thead>\n",
       "    <tr style=\"text-align: right;\">\n",
       "      <th></th>\n",
       "      <th>peak_to_valley</th>\n",
       "      <th>peak_trough_ratio</th>\n",
       "      <th>half_width</th>\n",
       "      <th>repolarization_slope</th>\n",
       "      <th>recovery_slope</th>\n",
       "      <th>num_positive_peaks</th>\n",
       "      <th>num_negative_peaks</th>\n",
       "    </tr>\n",
       "  </thead>\n",
       "  <tbody>\n",
       "    <tr>\n",
       "      <th>0</th>\n",
       "      <td>0.000857</td>\n",
       "      <td>-0.266235</td>\n",
       "      <td>0.00031</td>\n",
       "      <td>88887.017813</td>\n",
       "      <td>-12960.426608</td>\n",
       "      <td>2</td>\n",
       "      <td>1</td>\n",
       "    </tr>\n",
       "    <tr>\n",
       "      <th>1</th>\n",
       "      <td>0.000947</td>\n",
       "      <td>-0.266814</td>\n",
       "      <td>0.000297</td>\n",
       "      <td>226656.397584</td>\n",
       "      <td>-41678.958489</td>\n",
       "      <td>2</td>\n",
       "      <td>1</td>\n",
       "    </tr>\n",
       "    <tr>\n",
       "      <th>2</th>\n",
       "      <td>0.000797</td>\n",
       "      <td>-0.328291</td>\n",
       "      <td>0.00031</td>\n",
       "      <td>134373.509091</td>\n",
       "      <td>-20587.093939</td>\n",
       "      <td>1</td>\n",
       "      <td>1</td>\n",
       "    </tr>\n",
       "    <tr>\n",
       "      <th>3</th>\n",
       "      <td>0.000747</td>\n",
       "      <td>-0.285943</td>\n",
       "      <td>0.000267</td>\n",
       "      <td>295207.358725</td>\n",
       "      <td>-37865.772697</td>\n",
       "      <td>1</td>\n",
       "      <td>1</td>\n",
       "    </tr>\n",
       "    <tr>\n",
       "      <th>4</th>\n",
       "      <td>0.000853</td>\n",
       "      <td>-0.285516</td>\n",
       "      <td>0.000233</td>\n",
       "      <td>303555.317133</td>\n",
       "      <td>-59437.486157</td>\n",
       "      <td>1</td>\n",
       "      <td>1</td>\n",
       "    </tr>\n",
       "    <tr>\n",
       "      <th>...</th>\n",
       "      <td>...</td>\n",
       "      <td>...</td>\n",
       "      <td>...</td>\n",
       "      <td>...</td>\n",
       "      <td>...</td>\n",
       "      <td>...</td>\n",
       "      <td>...</td>\n",
       "    </tr>\n",
       "    <tr>\n",
       "      <th>166</th>\n",
       "      <td>0.000877</td>\n",
       "      <td>-0.249747</td>\n",
       "      <td>0.000277</td>\n",
       "      <td>223526.094652</td>\n",
       "      <td>-30710.650084</td>\n",
       "      <td>2</td>\n",
       "      <td>1</td>\n",
       "    </tr>\n",
       "    <tr>\n",
       "      <th>167</th>\n",
       "      <td>0.001093</td>\n",
       "      <td>-0.184666</td>\n",
       "      <td>0.000263</td>\n",
       "      <td>96652.676067</td>\n",
       "      <td>-12574.938262</td>\n",
       "      <td>1</td>\n",
       "      <td>1</td>\n",
       "    </tr>\n",
       "    <tr>\n",
       "      <th>168</th>\n",
       "      <td>0.001063</td>\n",
       "      <td>-0.302432</td>\n",
       "      <td>0.000373</td>\n",
       "      <td>68649.42576</td>\n",
       "      <td>-13542.827585</td>\n",
       "      <td>2</td>\n",
       "      <td>1</td>\n",
       "    </tr>\n",
       "    <tr>\n",
       "      <th>169</th>\n",
       "      <td>0.00084</td>\n",
       "      <td>-0.335455</td>\n",
       "      <td>0.000323</td>\n",
       "      <td>125585.635503</td>\n",
       "      <td>-22126.73055</td>\n",
       "      <td>2</td>\n",
       "      <td>1</td>\n",
       "    </tr>\n",
       "    <tr>\n",
       "      <th>170</th>\n",
       "      <td>0.000763</td>\n",
       "      <td>-0.337054</td>\n",
       "      <td>0.000327</td>\n",
       "      <td>121377.052136</td>\n",
       "      <td>-19859.33057</td>\n",
       "      <td>1</td>\n",
       "      <td>1</td>\n",
       "    </tr>\n",
       "  </tbody>\n",
       "</table>\n",
       "<p>170 rows × 7 columns</p>\n",
       "</div>"
      ],
      "text/plain": [
       "    peak_to_valley peak_trough_ratio half_width repolarization_slope  \\\n",
       "0         0.000857         -0.266235    0.00031         88887.017813   \n",
       "1         0.000947         -0.266814   0.000297        226656.397584   \n",
       "2         0.000797         -0.328291    0.00031        134373.509091   \n",
       "3         0.000747         -0.285943   0.000267        295207.358725   \n",
       "4         0.000853         -0.285516   0.000233        303555.317133   \n",
       "..             ...               ...        ...                  ...   \n",
       "166       0.000877         -0.249747   0.000277        223526.094652   \n",
       "167       0.001093         -0.184666   0.000263         96652.676067   \n",
       "168       0.001063         -0.302432   0.000373          68649.42576   \n",
       "169        0.00084         -0.335455   0.000323        125585.635503   \n",
       "170       0.000763         -0.337054   0.000327        121377.052136   \n",
       "\n",
       "    recovery_slope num_positive_peaks num_negative_peaks  \n",
       "0    -12960.426608                  2                  1  \n",
       "1    -41678.958489                  2                  1  \n",
       "2    -20587.093939                  1                  1  \n",
       "3    -37865.772697                  1                  1  \n",
       "4    -59437.486157                  1                  1  \n",
       "..             ...                ...                ...  \n",
       "166  -30710.650084                  2                  1  \n",
       "167  -12574.938262                  1                  1  \n",
       "168  -13542.827585                  2                  1  \n",
       "169   -22126.73055                  2                  1  \n",
       "170   -19859.33057                  1                  1  \n",
       "\n",
       "[170 rows x 7 columns]"
      ]
     },
     "metadata": {},
     "output_type": "display_data"
    }
   ],
   "source": [
    "template_metrics = si.compute_template_metrics(we)\n",
    "display(template_metrics)"
   ]
  },
  {
   "cell_type": "code",
   "execution_count": 110,
   "metadata": {},
   "outputs": [
    {
     "data": {
      "application/vnd.jupyter.widget-view+json": {
       "model_id": "0acbb673acf04cc49f0a0eb7d2a3c52a",
       "version_major": 2,
       "version_minor": 0
      },
      "text/plain": [
       "AppLayout(children=(UnitSelector(children=(Label(value='Units', layout=Layout(justify_content='center')), Sele…"
      ]
     },
     "metadata": {},
     "output_type": "display_data"
    },
    {
     "data": {
      "text/plain": [
       "<spikeinterface.widgets.template_metrics.TemplateMetricsWidget at 0x7fef801c9810>"
      ]
     },
     "execution_count": 110,
     "metadata": {},
     "output_type": "execute_result"
    }
   ],
   "source": [
    "si.plot_template_metrics(we, include_metrics=[\"peak_to_valley\", \"half_width\"], \n",
    "                         backend=\"ipywidgets\")"
   ]
  },
  {
   "cell_type": "markdown",
   "metadata": {
    "pycharm": {
     "name": "#%% md\n"
    }
   },
   "source": [
    "For more information about these template metrics, we refer to this [documentation](https://github.com/AllenInstitute/ecephys_spike_sorting/tree/master/ecephys_spike_sorting/modules/mean_waveforms) from the Allen Institute."
   ]
  },
  {
   "cell_type": "markdown",
   "metadata": {
    "pycharm": {
     "name": "#%% md\n"
    }
   },
   "source": [
    "# 7. Quality metrics and curation <a class=\"anchor\" id=\"curation\"></a>\n",
    "\n",
    "The `qualitymetrics` module also provides several functions to compute qualitity metrics to validate the spike sorting results.\n",
    "\n",
    "See also this : https://spikeinterface.readthedocs.io/en/latest/modules/qualitymetrics.html\n",
    "\n",
    "Let's see what metrics are available:"
   ]
  },
  {
   "cell_type": "code",
   "execution_count": 37,
   "metadata": {},
   "outputs": [
    {
     "name": "stdout",
     "output_type": "stream",
     "text": [
      "['num_spikes', 'firing_rate', 'presence_ratio', 'snr', 'isi_violation', 'rp_violation', 'sliding_rp_violation', 'amplitude_cutoff', 'amplitude_median', 'amplitude_cv', 'synchrony', 'firing_range', 'drift', 'sd_ratio']\n",
      "['isolation_distance', 'l_ratio', 'd_prime', 'nearest_neighbor', 'nn_isolation', 'nn_noise_overlap', 'silhouette']\n"
     ]
    }
   ],
   "source": [
    "print(si.get_quality_metric_list())\n",
    "print(si.get_quality_pca_metric_list())"
   ]
  },
  {
   "cell_type": "code",
   "execution_count": 38,
   "metadata": {},
   "outputs": [
    {
     "data": {
      "text/plain": [
       "{'num_spikes': {},\n",
       " 'firing_rate': {},\n",
       " 'presence_ratio': {'bin_duration_s': 60, 'mean_fr_ratio_thresh': 0.0},\n",
       " 'snr': {'peak_sign': 'neg', 'peak_mode': 'extremum'},\n",
       " 'isi_violation': {'isi_threshold_ms': 1.5, 'min_isi_ms': 0},\n",
       " 'rp_violation': {'refractory_period_ms': 1.0, 'censored_period_ms': 0.0},\n",
       " 'sliding_rp_violation': {'min_spikes': 0,\n",
       "  'bin_size_ms': 0.25,\n",
       "  'window_size_s': 1,\n",
       "  'exclude_ref_period_below_ms': 0.5,\n",
       "  'max_ref_period_ms': 10,\n",
       "  'contamination_values': None},\n",
       " 'synchrony': {'synchrony_sizes': (2, 4, 8)},\n",
       " 'firing_range': {'bin_size_s': 5, 'percentiles': (5, 95)},\n",
       " 'amplitude_cv': {'average_num_spikes_per_bin': 50,\n",
       "  'percentiles': (5, 95),\n",
       "  'min_num_bins': 10,\n",
       "  'amplitude_extension': 'spike_amplitudes'},\n",
       " 'amplitude_cutoff': {'peak_sign': 'neg',\n",
       "  'num_histogram_bins': 100,\n",
       "  'histogram_smoothing_value': 3,\n",
       "  'amplitudes_bins_min_ratio': 5},\n",
       " 'amplitude_median': {'peak_sign': 'neg'},\n",
       " 'drift': {'interval_s': 60,\n",
       "  'min_spikes_per_interval': 100,\n",
       "  'direction': 'y',\n",
       "  'min_num_bins': 2},\n",
       " 'sd_ratio': {'censored_period_ms': 4.0,\n",
       "  'correct_for_drift': True,\n",
       "  'correct_for_template_itself': True},\n",
       " 'nearest_neighbor': {'max_spikes': 10000, 'n_neighbors': 5},\n",
       " 'nn_isolation': {'max_spikes': 10000,\n",
       "  'min_spikes': 10,\n",
       "  'min_fr': 0.0,\n",
       "  'n_neighbors': 4,\n",
       "  'n_components': 10,\n",
       "  'radius_um': 100,\n",
       "  'peak_sign': 'neg'},\n",
       " 'nn_noise_overlap': {'max_spikes': 10000,\n",
       "  'min_spikes': 10,\n",
       "  'min_fr': 0.0,\n",
       "  'n_neighbors': 4,\n",
       "  'n_components': 10,\n",
       "  'radius_um': 100,\n",
       "  'peak_sign': 'neg'},\n",
       " 'silhouette': {'method': ('simplified',)}}"
      ]
     },
     "execution_count": 38,
     "metadata": {},
     "output_type": "execute_result"
    }
   ],
   "source": [
    "qm_params = si.get_default_qm_params()\n",
    "qm_params"
   ]
  },
  {
   "cell_type": "code",
   "execution_count": 39,
   "metadata": {},
   "outputs": [],
   "source": [
    "qm_params['isi_violation']['isi_threshold_ms'] = 1.1"
   ]
  },
  {
   "cell_type": "code",
   "execution_count": 40,
   "metadata": {
    "pycharm": {
     "name": "#%%\n"
    }
   },
   "outputs": [
    {
     "name": "stdout",
     "output_type": "stream",
     "text": [
      "Computing num_spikes\n",
      "Computing firing_rate\n",
      "Computing presence_ratio\n",
      "Computing snr\n",
      "Computing isi_violation\n",
      "Computing rp_violation\n",
      "Computing sliding_rp_violation\n",
      "Computing amplitude_cutoff\n",
      "Computing amplitude_median\n",
      "Computing amplitude_cv\n",
      "Computing synchrony\n",
      "Computing firing_range\n",
      "Computing drift\n",
      "Computing sd_ratio\n"
     ]
    }
   ],
   "source": [
    "metric_names = si.get_quality_metric_list()\n",
    "# metric_names = si.get_quality_metric_list() + si.get_quality_pca_metric_list()\n",
    "qm = si.compute_quality_metrics(we, metric_names=metric_names, verbose=True,  qm_params=qm_params, **job_kwargs)\n"
   ]
  },
  {
   "cell_type": "code",
   "execution_count": 41,
   "metadata": {
    "pycharm": {
     "name": "#%%\n"
    }
   },
   "outputs": [
    {
     "data": {
      "text/html": [
       "<div>\n",
       "<style scoped>\n",
       "    .dataframe tbody tr th:only-of-type {\n",
       "        vertical-align: middle;\n",
       "    }\n",
       "\n",
       "    .dataframe tbody tr th {\n",
       "        vertical-align: top;\n",
       "    }\n",
       "\n",
       "    .dataframe thead th {\n",
       "        text-align: right;\n",
       "    }\n",
       "</style>\n",
       "<table border=\"1\" class=\"dataframe\">\n",
       "  <thead>\n",
       "    <tr style=\"text-align: right;\">\n",
       "      <th></th>\n",
       "      <th>num_spikes</th>\n",
       "      <th>firing_rate</th>\n",
       "      <th>presence_ratio</th>\n",
       "      <th>snr</th>\n",
       "      <th>isi_violations_ratio</th>\n",
       "      <th>isi_violations_count</th>\n",
       "      <th>rp_contamination</th>\n",
       "      <th>rp_violations</th>\n",
       "      <th>sliding_rp_violation</th>\n",
       "      <th>amplitude_cutoff</th>\n",
       "      <th>amplitude_median</th>\n",
       "      <th>amplitude_cv</th>\n",
       "      <th>sync_spike_2</th>\n",
       "      <th>sync_spike_4</th>\n",
       "      <th>sync_spike_8</th>\n",
       "      <th>firing_range</th>\n",
       "      <th>drift_ptp</th>\n",
       "      <th>drift_std</th>\n",
       "      <th>drift_mad</th>\n",
       "      <th>sd_ratio</th>\n",
       "    </tr>\n",
       "  </thead>\n",
       "  <tbody>\n",
       "    <tr>\n",
       "      <th>0</th>\n",
       "      <td>4975</td>\n",
       "      <td>16.583333</td>\n",
       "      <td>1.0</td>\n",
       "      <td>7.088326</td>\n",
       "      <td>0.055095</td>\n",
       "      <td>10</td>\n",
       "      <td>0.056119</td>\n",
       "      <td>9</td>\n",
       "      <td>0.08</td>\n",
       "      <td>0.004084</td>\n",
       "      <td>-43.094997</td>\n",
       "      <td>&lt;NA&gt;</td>\n",
       "      <td>0.023116</td>\n",
       "      <td>0.0</td>\n",
       "      <td>0.0</td>\n",
       "      <td>12.87</td>\n",
       "      <td>&lt;NA&gt;</td>\n",
       "      <td>&lt;NA&gt;</td>\n",
       "      <td>&lt;NA&gt;</td>\n",
       "      <td>&lt;NA&gt;</td>\n",
       "    </tr>\n",
       "    <tr>\n",
       "      <th>1</th>\n",
       "      <td>3043</td>\n",
       "      <td>10.143333</td>\n",
       "      <td>1.0</td>\n",
       "      <td>18.862654</td>\n",
       "      <td>0.485969</td>\n",
       "      <td>33</td>\n",
       "      <td>0.832483</td>\n",
       "      <td>30</td>\n",
       "      <td>&lt;NA&gt;</td>\n",
       "      <td>0.001061</td>\n",
       "      <td>-101.009995</td>\n",
       "      <td>&lt;NA&gt;</td>\n",
       "      <td>0.056523</td>\n",
       "      <td>0.0</td>\n",
       "      <td>0.0</td>\n",
       "      <td>4.41</td>\n",
       "      <td>&lt;NA&gt;</td>\n",
       "      <td>&lt;NA&gt;</td>\n",
       "      <td>&lt;NA&gt;</td>\n",
       "      <td>&lt;NA&gt;</td>\n",
       "    </tr>\n",
       "    <tr>\n",
       "      <th>2</th>\n",
       "      <td>3770</td>\n",
       "      <td>12.566667</td>\n",
       "      <td>1.0</td>\n",
       "      <td>10.596774</td>\n",
       "      <td>0.297425</td>\n",
       "      <td>31</td>\n",
       "      <td>0.360479</td>\n",
       "      <td>28</td>\n",
       "      <td>0.335</td>\n",
       "      <td>0.001195</td>\n",
       "      <td>-54.014999</td>\n",
       "      <td>&lt;NA&gt;</td>\n",
       "      <td>0.035279</td>\n",
       "      <td>0.0</td>\n",
       "      <td>0.0</td>\n",
       "      <td>6.86</td>\n",
       "      <td>&lt;NA&gt;</td>\n",
       "      <td>&lt;NA&gt;</td>\n",
       "      <td>&lt;NA&gt;</td>\n",
       "      <td>&lt;NA&gt;</td>\n",
       "    </tr>\n",
       "    <tr>\n",
       "      <th>3</th>\n",
       "      <td>3106</td>\n",
       "      <td>10.353333</td>\n",
       "      <td>1.0</td>\n",
       "      <td>8.724185</td>\n",
       "      <td>0.08481</td>\n",
       "      <td>6</td>\n",
       "      <td>0.098103</td>\n",
       "      <td>6</td>\n",
       "      <td>0.115</td>\n",
       "      <td>0.001051</td>\n",
       "      <td>-48.75</td>\n",
       "      <td>&lt;NA&gt;</td>\n",
       "      <td>0.029298</td>\n",
       "      <td>0.0</td>\n",
       "      <td>0.0</td>\n",
       "      <td>2.82</td>\n",
       "      <td>&lt;NA&gt;</td>\n",
       "      <td>&lt;NA&gt;</td>\n",
       "      <td>&lt;NA&gt;</td>\n",
       "      <td>&lt;NA&gt;</td>\n",
       "    </tr>\n",
       "    <tr>\n",
       "      <th>4</th>\n",
       "      <td>2090</td>\n",
       "      <td>6.966667</td>\n",
       "      <td>1.0</td>\n",
       "      <td>5.444479</td>\n",
       "      <td>0.312181</td>\n",
       "      <td>10</td>\n",
       "      <td>0.328761</td>\n",
       "      <td>8</td>\n",
       "      <td>0.31</td>\n",
       "      <td>0.00345</td>\n",
       "      <td>-27.884998</td>\n",
       "      <td>&lt;NA&gt;</td>\n",
       "      <td>0.041627</td>\n",
       "      <td>0.0</td>\n",
       "      <td>0.0</td>\n",
       "      <td>3.81</td>\n",
       "      <td>&lt;NA&gt;</td>\n",
       "      <td>&lt;NA&gt;</td>\n",
       "      <td>&lt;NA&gt;</td>\n",
       "      <td>&lt;NA&gt;</td>\n",
       "    </tr>\n",
       "    <tr>\n",
       "      <th>...</th>\n",
       "      <td>...</td>\n",
       "      <td>...</td>\n",
       "      <td>...</td>\n",
       "      <td>...</td>\n",
       "      <td>...</td>\n",
       "      <td>...</td>\n",
       "      <td>...</td>\n",
       "      <td>...</td>\n",
       "      <td>...</td>\n",
       "      <td>...</td>\n",
       "      <td>...</td>\n",
       "      <td>...</td>\n",
       "      <td>...</td>\n",
       "      <td>...</td>\n",
       "      <td>...</td>\n",
       "      <td>...</td>\n",
       "      <td>...</td>\n",
       "      <td>...</td>\n",
       "      <td>...</td>\n",
       "      <td>...</td>\n",
       "    </tr>\n",
       "    <tr>\n",
       "      <th>250</th>\n",
       "      <td>727</td>\n",
       "      <td>2.423333</td>\n",
       "      <td>1.0</td>\n",
       "      <td>4.483603</td>\n",
       "      <td>3.096072</td>\n",
       "      <td>12</td>\n",
       "      <td>1.0</td>\n",
       "      <td>11</td>\n",
       "      <td>&lt;NA&gt;</td>\n",
       "      <td>0.004673</td>\n",
       "      <td>-25.154999</td>\n",
       "      <td>&lt;NA&gt;</td>\n",
       "      <td>0.082531</td>\n",
       "      <td>0.0</td>\n",
       "      <td>0.0</td>\n",
       "      <td>3.21</td>\n",
       "      <td>&lt;NA&gt;</td>\n",
       "      <td>&lt;NA&gt;</td>\n",
       "      <td>&lt;NA&gt;</td>\n",
       "      <td>&lt;NA&gt;</td>\n",
       "    </tr>\n",
       "    <tr>\n",
       "      <th>251</th>\n",
       "      <td>275</td>\n",
       "      <td>0.916667</td>\n",
       "      <td>1.0</td>\n",
       "      <td>7.929429</td>\n",
       "      <td>1.803156</td>\n",
       "      <td>1</td>\n",
       "      <td>1.0</td>\n",
       "      <td>1</td>\n",
       "      <td>&lt;NA&gt;</td>\n",
       "      <td>&lt;NA&gt;</td>\n",
       "      <td>-42.704998</td>\n",
       "      <td>&lt;NA&gt;</td>\n",
       "      <td>0.072727</td>\n",
       "      <td>0.0</td>\n",
       "      <td>0.0</td>\n",
       "      <td>1.41</td>\n",
       "      <td>&lt;NA&gt;</td>\n",
       "      <td>&lt;NA&gt;</td>\n",
       "      <td>&lt;NA&gt;</td>\n",
       "      <td>&lt;NA&gt;</td>\n",
       "    </tr>\n",
       "    <tr>\n",
       "      <th>252</th>\n",
       "      <td>473</td>\n",
       "      <td>1.576667</td>\n",
       "      <td>1.0</td>\n",
       "      <td>6.282946</td>\n",
       "      <td>2.438014</td>\n",
       "      <td>4</td>\n",
       "      <td>1.0</td>\n",
       "      <td>4</td>\n",
       "      <td>&lt;NA&gt;</td>\n",
       "      <td>&lt;NA&gt;</td>\n",
       "      <td>-32.759998</td>\n",
       "      <td>&lt;NA&gt;</td>\n",
       "      <td>0.059197</td>\n",
       "      <td>0.0</td>\n",
       "      <td>0.0</td>\n",
       "      <td>1.81</td>\n",
       "      <td>&lt;NA&gt;</td>\n",
       "      <td>&lt;NA&gt;</td>\n",
       "      <td>&lt;NA&gt;</td>\n",
       "      <td>&lt;NA&gt;</td>\n",
       "    </tr>\n",
       "    <tr>\n",
       "      <th>254</th>\n",
       "      <td>242</td>\n",
       "      <td>0.806667</td>\n",
       "      <td>1.0</td>\n",
       "      <td>15.806796</td>\n",
       "      <td>4.65691</td>\n",
       "      <td>2</td>\n",
       "      <td>1.0</td>\n",
       "      <td>1</td>\n",
       "      <td>&lt;NA&gt;</td>\n",
       "      <td>&lt;NA&gt;</td>\n",
       "      <td>-83.07</td>\n",
       "      <td>&lt;NA&gt;</td>\n",
       "      <td>0.119835</td>\n",
       "      <td>0.0</td>\n",
       "      <td>0.0</td>\n",
       "      <td>1.21</td>\n",
       "      <td>&lt;NA&gt;</td>\n",
       "      <td>&lt;NA&gt;</td>\n",
       "      <td>&lt;NA&gt;</td>\n",
       "      <td>&lt;NA&gt;</td>\n",
       "    </tr>\n",
       "    <tr>\n",
       "      <th>255</th>\n",
       "      <td>1660</td>\n",
       "      <td>5.533333</td>\n",
       "      <td>1.0</td>\n",
       "      <td>5.907449</td>\n",
       "      <td>0.841262</td>\n",
       "      <td>17</td>\n",
       "      <td>1.0</td>\n",
       "      <td>17</td>\n",
       "      <td>&lt;NA&gt;</td>\n",
       "      <td>0.005108</td>\n",
       "      <td>-32.564999</td>\n",
       "      <td>&lt;NA&gt;</td>\n",
       "      <td>0.042169</td>\n",
       "      <td>0.0</td>\n",
       "      <td>0.0</td>\n",
       "      <td>5.21</td>\n",
       "      <td>&lt;NA&gt;</td>\n",
       "      <td>&lt;NA&gt;</td>\n",
       "      <td>&lt;NA&gt;</td>\n",
       "      <td>&lt;NA&gt;</td>\n",
       "    </tr>\n",
       "  </tbody>\n",
       "</table>\n",
       "<p>240 rows × 20 columns</p>\n",
       "</div>"
      ],
      "text/plain": [
       "     num_spikes  firing_rate  presence_ratio        snr  isi_violations_ratio  \\\n",
       "0          4975    16.583333             1.0   7.088326              0.055095   \n",
       "1          3043    10.143333             1.0  18.862654              0.485969   \n",
       "2          3770    12.566667             1.0  10.596774              0.297425   \n",
       "3          3106    10.353333             1.0   8.724185               0.08481   \n",
       "4          2090     6.966667             1.0   5.444479              0.312181   \n",
       "..          ...          ...             ...        ...                   ...   \n",
       "250         727     2.423333             1.0   4.483603              3.096072   \n",
       "251         275     0.916667             1.0   7.929429              1.803156   \n",
       "252         473     1.576667             1.0   6.282946              2.438014   \n",
       "254         242     0.806667             1.0  15.806796               4.65691   \n",
       "255        1660     5.533333             1.0   5.907449              0.841262   \n",
       "\n",
       "     isi_violations_count  rp_contamination  rp_violations  \\\n",
       "0                      10          0.056119              9   \n",
       "1                      33          0.832483             30   \n",
       "2                      31          0.360479             28   \n",
       "3                       6          0.098103              6   \n",
       "4                      10          0.328761              8   \n",
       "..                    ...               ...            ...   \n",
       "250                    12               1.0             11   \n",
       "251                     1               1.0              1   \n",
       "252                     4               1.0              4   \n",
       "254                     2               1.0              1   \n",
       "255                    17               1.0             17   \n",
       "\n",
       "     sliding_rp_violation  amplitude_cutoff  amplitude_median  amplitude_cv  \\\n",
       "0                    0.08          0.004084        -43.094997          <NA>   \n",
       "1                    <NA>          0.001061       -101.009995          <NA>   \n",
       "2                   0.335          0.001195        -54.014999          <NA>   \n",
       "3                   0.115          0.001051            -48.75          <NA>   \n",
       "4                    0.31           0.00345        -27.884998          <NA>   \n",
       "..                    ...               ...               ...           ...   \n",
       "250                  <NA>          0.004673        -25.154999          <NA>   \n",
       "251                  <NA>              <NA>        -42.704998          <NA>   \n",
       "252                  <NA>              <NA>        -32.759998          <NA>   \n",
       "254                  <NA>              <NA>            -83.07          <NA>   \n",
       "255                  <NA>          0.005108        -32.564999          <NA>   \n",
       "\n",
       "     sync_spike_2  sync_spike_4  sync_spike_8  firing_range  drift_ptp  \\\n",
       "0        0.023116           0.0           0.0         12.87       <NA>   \n",
       "1        0.056523           0.0           0.0          4.41       <NA>   \n",
       "2        0.035279           0.0           0.0          6.86       <NA>   \n",
       "3        0.029298           0.0           0.0          2.82       <NA>   \n",
       "4        0.041627           0.0           0.0          3.81       <NA>   \n",
       "..            ...           ...           ...           ...        ...   \n",
       "250      0.082531           0.0           0.0          3.21       <NA>   \n",
       "251      0.072727           0.0           0.0          1.41       <NA>   \n",
       "252      0.059197           0.0           0.0          1.81       <NA>   \n",
       "254      0.119835           0.0           0.0          1.21       <NA>   \n",
       "255      0.042169           0.0           0.0          5.21       <NA>   \n",
       "\n",
       "     drift_std  drift_mad  sd_ratio  \n",
       "0         <NA>       <NA>      <NA>  \n",
       "1         <NA>       <NA>      <NA>  \n",
       "2         <NA>       <NA>      <NA>  \n",
       "3         <NA>       <NA>      <NA>  \n",
       "4         <NA>       <NA>      <NA>  \n",
       "..         ...        ...       ...  \n",
       "250       <NA>       <NA>      <NA>  \n",
       "251       <NA>       <NA>      <NA>  \n",
       "252       <NA>       <NA>      <NA>  \n",
       "254       <NA>       <NA>      <NA>  \n",
       "255       <NA>       <NA>      <NA>  \n",
       "\n",
       "[240 rows x 20 columns]"
      ]
     },
     "metadata": {},
     "output_type": "display_data"
    }
   ],
   "source": [
    "display(qm)"
   ]
  },
  {
   "cell_type": "code",
   "execution_count": 42,
   "metadata": {},
   "outputs": [
    {
     "data": {
      "application/vnd.jupyter.widget-view+json": {
       "model_id": "88dc8312f9924839b0e5df13f73f9e4d",
       "version_major": 2,
       "version_minor": 0
      },
      "text/plain": [
       "AppLayout(children=(UnitSelector(children=(Label(value='Units', layout=Layout(justify_content='center')), Sele…"
      ]
     },
     "metadata": {},
     "output_type": "display_data"
    },
    {
     "data": {
      "text/plain": [
       "<spikeinterface.widgets.quality_metrics.QualityMetricsWidget at 0x265895fa410>"
      ]
     },
     "execution_count": 42,
     "metadata": {},
     "output_type": "execute_result"
    }
   ],
   "source": [
    "si.plot_quality_metrics(we, include_metrics=[\"amplitude_cutoff\", \"presence_ratio\", \"isi_violations_ratio\", \"snr\"], \n",
    "                        backend=\"ipywidgets\")"
   ]
  },
  {
   "cell_type": "markdown",
   "metadata": {
    "pycharm": {
     "name": "#%% md\n"
    }
   },
   "source": [
    "For more information about these waveform features, we refer to the [SpikeInterface documentation](https://spikeinterface.readthedocs.io/en/latest/module_qualitymetrics.html) and to this excellent [documentation](https://allensdk.readthedocs.io/en/latest/_static/examples/nb/ecephys_quality_metrics.html) from the Allen Institute."
   ]
  },
  {
   "cell_type": "markdown",
   "metadata": {
    "pycharm": {
     "name": "#%% md\n"
    }
   },
   "source": [
    "## Automatic curation based on quality metrics"
   ]
  },
  {
   "cell_type": "markdown",
   "metadata": {
    "pycharm": {
     "name": "#%% md\n"
    }
   },
   "source": [
    "A viable option to curate (or at least pre-curate) a spike sorting output is to filter units based on quality metrics. As we have already computed quality metrics a few lines above, we can simply filter the `qm` dataframe based on some thresholds.\n",
    "\n",
    "Here, we'll only keep units with an ISI violation threshold and amplitude cutoff below a user-defined threshold:"
   ]
  },
  {
   "cell_type": "code",
   "execution_count": 43,
   "metadata": {
    "pycharm": {
     "name": "#%%\n"
    }
   },
   "outputs": [],
   "source": [
    "isi_viol_thresh = 0.5\n",
    "amp_cutoff_thresh = 0.1"
   ]
  },
  {
   "cell_type": "markdown",
   "metadata": {},
   "source": [
    "A straightforward way to filter a pandas dataframe is via the `query`.\n",
    "We first define our query (make sure the names match the column names of the dataframe):"
   ]
  },
  {
   "cell_type": "code",
   "execution_count": 44,
   "metadata": {
    "pycharm": {
     "name": "#%%\n"
    }
   },
   "outputs": [
    {
     "name": "stdout",
     "output_type": "stream",
     "text": [
      "amplitude_cutoff < 0.1 & isi_violations_ratio < 0.5\n"
     ]
    }
   ],
   "source": [
    "our_query = f\"amplitude_cutoff < {amp_cutoff_thresh} & isi_violations_ratio < {isi_viol_thresh}\"\n",
    "print(our_query)"
   ]
  },
  {
   "cell_type": "markdown",
   "metadata": {
    "pycharm": {
     "name": "#%% md\n"
    }
   },
   "source": [
    "and then we can use the query to select units:"
   ]
  },
  {
   "cell_type": "code",
   "execution_count": 45,
   "metadata": {
    "pycharm": {
     "name": "#%%\n"
    }
   },
   "outputs": [
    {
     "data": {
      "text/plain": [
       "array([  0,   1,   2,   3,   4,   6,   7,   8,  13,  14,  20,  30,  32,\n",
       "        34,  44,  45,  59,  64,  70,  71,  74,  75,  76,  83,  89,  91,\n",
       "        94,  97, 100, 108, 118, 119, 124, 129, 133, 141, 145, 170, 176,\n",
       "       180, 183, 193, 194, 200, 204, 218, 222, 226, 228, 239, 247])"
      ]
     },
     "execution_count": 45,
     "metadata": {},
     "output_type": "execute_result"
    }
   ],
   "source": [
    "keep_units = qm.query(our_query)\n",
    "keep_unit_ids = keep_units.index.values\n",
    "keep_unit_ids"
   ]
  },
  {
   "cell_type": "code",
   "execution_count": 46,
   "metadata": {},
   "outputs": [
    {
     "name": "stdout",
     "output_type": "stream",
     "text": [
      "Number of units before curation: 240\n",
      "Number of units after curation: 51\n"
     ]
    }
   ],
   "source": [
    "sorting_auto_KS25 = sorting.select_units(keep_unit_ids)\n",
    "print(f\"Number of units before curation: {len(sorting.get_unit_ids())}\")\n",
    "print(f\"Number of units after curation: {len(sorting_auto_KS25.get_unit_ids())}\")"
   ]
  },
  {
   "cell_type": "markdown",
   "metadata": {},
   "source": [
    "We can also save all the waveforms and post-processed data for curated units in a separate folder:"
   ]
  },
  {
   "cell_type": "code",
   "execution_count": 47,
   "metadata": {},
   "outputs": [
    {
     "ename": "TypeError",
     "evalue": "MockWaveformExtractor.select_units() got an unexpected keyword argument 'new_folder'",
     "output_type": "error",
     "traceback": [
      "\u001b[1;31m---------------------------------------------------------------------------\u001b[0m",
      "\u001b[1;31mTypeError\u001b[0m                                 Traceback (most recent call last)",
      "Cell \u001b[1;32mIn[47], line 1\u001b[0m\n\u001b[1;32m----> 1\u001b[0m we_curated \u001b[38;5;241m=\u001b[39m \u001b[43mwe\u001b[49m\u001b[38;5;241;43m.\u001b[39;49m\u001b[43mselect_units\u001b[49m\u001b[43m(\u001b[49m\u001b[43mkeep_unit_ids\u001b[49m\u001b[43m,\u001b[49m\u001b[43m \u001b[49m\u001b[43mnew_folder\u001b[49m\u001b[38;5;241;43m=\u001b[39;49m\u001b[43mbase_folder\u001b[49m\u001b[43m \u001b[49m\u001b[38;5;241;43m/\u001b[39;49m\u001b[43m \u001b[49m\u001b[38;5;124;43m\"\u001b[39;49m\u001b[38;5;124;43mwaveforms_curated\u001b[39;49m\u001b[38;5;124;43m\"\u001b[39;49m\u001b[43m)\u001b[49m\n",
      "\u001b[1;31mTypeError\u001b[0m: MockWaveformExtractor.select_units() got an unexpected keyword argument 'new_folder'"
     ]
    }
   ],
   "source": [
    "we_curated = we.select_units(keep_unit_ids, new_folder=base_folder / \"waveforms_curated\")"
   ]
  },
  {
   "cell_type": "code",
   "execution_count": 122,
   "metadata": {},
   "outputs": [
    {
     "name": "stdout",
     "output_type": "stream",
     "text": [
      "WaveformExtractor: 47 channels - 33 units - 1 segments\n",
      "  before:30 after:60 n_per_units:500 - sparse\n"
     ]
    }
   ],
   "source": [
    "print(we_curated)"
   ]
  },
  {
   "cell_type": "code",
   "execution_count": 123,
   "metadata": {},
   "outputs": [
    {
     "data": {
      "application/vnd.jupyter.widget-view+json": {
       "model_id": "e2a2e02874f5469991c18bd9f0b48178",
       "version_major": 2,
       "version_minor": 0
      },
      "text/plain": [
       "AppLayout(children=(HBox(children=(Checkbox(value=False, description='same axis'), Checkbox(value=True, descri…"
      ]
     },
     "metadata": {},
     "output_type": "display_data"
    },
    {
     "data": {
      "text/plain": [
       "<spikeinterface.widgets.unit_templates.UnitTemplatesWidget at 0x7feee04606a0>"
      ]
     },
     "execution_count": 123,
     "metadata": {},
     "output_type": "execute_result"
    }
   ],
   "source": [
    "%matplotlib widget\n",
    "si.plot_unit_templates(we_curated, backend='ipywidgets')"
   ]
  },
  {
   "cell_type": "code",
   "execution_count": 124,
   "metadata": {},
   "outputs": [
    {
     "data": {
      "text/plain": [
       "['template_metrics',\n",
       " 'similarity',\n",
       " 'principal_components',\n",
       " 'spike_amplitudes',\n",
       " 'correlograms',\n",
       " 'spike_locations',\n",
       " 'unit_locations',\n",
       " 'quality_metrics']"
      ]
     },
     "execution_count": 124,
     "metadata": {},
     "output_type": "execute_result"
    }
   ],
   "source": [
    "we_curated.get_available_extension_names()"
   ]
  },
  {
   "cell_type": "markdown",
   "metadata": {},
   "source": [
    "# 8. Viewers <a class=\"anchor\" id=\"viewers\"></a>\n"
   ]
  },
  {
   "cell_type": "markdown",
   "metadata": {},
   "source": [
    "### SpikeInterface GUI\n",
    "\n",
    "A QT-based GUI built on top of SpikeInterface objects.\n",
    "\n",
    "Developed by Samuel Garcia, CRNL, Lyon."
   ]
  },
  {
   "cell_type": "code",
   "execution_count": 135,
   "metadata": {},
   "outputs": [],
   "source": [
    "# !sigui {base_folder}/waveforms_sparse"
   ]
  },
  {
   "cell_type": "markdown",
   "metadata": {},
   "source": [
    "### Sorting Summary - SortingView"
   ]
  },
  {
   "cell_type": "markdown",
   "metadata": {},
   "source": [
    "The `sortingview` backend requires an additional step to configure the transfer of the data to be plotted to the cloud. \n",
    "\n",
    "See documentation [here](https://spikeinterface.readthedocs.io/en/latest/module_widgets.html).\n",
    "\n",
    "Developed by Jeremy Magland and Jeff Soules, Flatiron Institute, NYC"
   ]
  },
  {
   "cell_type": "code",
   "execution_count": 127,
   "metadata": {},
   "outputs": [],
   "source": [
    "w = si.plot_sorting_summary(we_curated, backend=\"sortingview\")"
   ]
  },
  {
   "cell_type": "markdown",
   "metadata": {},
   "source": [
    "https://figurl.org/f?v=gs://figurl/spikesortingview-10&d=sha1://2a2cc53d21a7677c130fda6436c5839184f3e974"
   ]
  },
  {
   "cell_type": "markdown",
   "metadata": {},
   "source": [
    "`sortingview` can also be used for manual curation and labeling of units!"
   ]
  },
  {
   "cell_type": "code",
   "execution_count": 136,
   "metadata": {},
   "outputs": [],
   "source": [
    "# w = si.plot_sorting_summary(we_curated, backend=\"sortingview\", curation=True)"
   ]
  },
  {
   "cell_type": "markdown",
   "metadata": {},
   "source": [
    "https://figurl.org/f?v=gs://figurl/spikesortingview-10&d=sha1://61648243fcfd694dd6b179bc85626db03675a36f"
   ]
  },
  {
   "cell_type": "markdown",
   "metadata": {},
   "source": [
    "You can apply the `sortingview` curation file with:\n",
    "\n",
    "`sorting_manual_curated = si.apply_sortingview_curation(we_curated.sorting, uri_or_json=\"curation.json\")`"
   ]
  },
  {
   "cell_type": "markdown",
   "metadata": {},
   "source": [
    "# 9. Spike sorting comparison <a class=\"anchor\" id=\"comparison\"></a>\n",
    "\n",
    "Can we combine the output of multiple sorters to curate the spike sorting output?\n",
    "\n",
    "To answer this question we can use the `comparison` module.\n",
    "We first compare and match the output spike trains of the different sorters, and we can then extract a new `Sorting` with only the units in agreement."
   ]
  },
  {
   "cell_type": "code",
   "execution_count": 125,
   "metadata": {},
   "outputs": [],
   "source": [
    "sorting_KS25 = si.read_sorter_folder(base_folder/\"results_KS25\")\n",
    "sorting_KS2 = si.read_sorter_folder(base_folder/\"results_KS2\")"
   ]
  },
  {
   "cell_type": "markdown",
   "metadata": {},
   "source": [
    "### Compare two sorters"
   ]
  },
  {
   "cell_type": "code",
   "execution_count": 126,
   "metadata": {},
   "outputs": [],
   "source": [
    "comp_KS2_KS25 = si.compare_two_sorters(sorting_KS2, sorting_KS25, 'KS2', 'KS25')"
   ]
  },
  {
   "cell_type": "code",
   "execution_count": 127,
   "metadata": {},
   "outputs": [
    {
     "data": {
      "text/plain": [
       "<spikeinterface.widgets.comparison.AgreementMatrixWidget at 0x7feed056bac0>"
      ]
     },
     "execution_count": 127,
     "metadata": {},
     "output_type": "execute_result"
    },
    {
     "data": {
      "application/vnd.jupyter.widget-view+json": {
       "model_id": "9eaa080f732b49d4a809b7536566dee9",
       "version_major": 2,
       "version_minor": 0
      },
      "image/png": "[encoded data removed]",
      "text/html": [
       "\n",
       "            <div style=\"display: inline-block;\">\n",
       "                <div class=\"jupyter-widgets widget-label\" style=\"text-align: center;\">\n",
       "                    Figure\n",
       "                </div>\n",
       "                <img src='data:image/png;base64,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' width=640.0/>\n",
       "            </div>\n",
       "        "
      ],
      "text/plain": [
       "Canvas(toolbar=Toolbar(toolitems=[('Home', 'Reset original view', 'home', 'home'), ('Back', 'Back to previous …"
      ]
     },
     "metadata": {},
     "output_type": "display_data"
    }
   ],
   "source": [
    "si.plot_agreement_matrix(comp_KS2_KS25, unit_ticks=False)"
   ]
  },
  {
   "cell_type": "code",
   "execution_count": 128,
   "metadata": {},
   "outputs": [],
   "source": [
    "comp_KS2_KS25auto = si.compare_two_sorters(sorting_KS2, sorting_auto_KS25, 'KS2', 'KS25_auto')"
   ]
  },
  {
   "cell_type": "code",
   "execution_count": 129,
   "metadata": {},
   "outputs": [
    {
     "data": {
      "text/plain": [
       "<spikeinterface.widgets.comparison.AgreementMatrixWidget at 0x7feed0325180>"
      ]
     },
     "execution_count": 129,
     "metadata": {},
     "output_type": "execute_result"
    },
    {
     "data": {
      "application/vnd.jupyter.widget-view+json": {
       "model_id": "ca6efe910f0444f8a4c37b0ed11c80e0",
       "version_major": 2,
       "version_minor": 0
      },
      "image/png": "[encoded data removed]",
      "text/html": [
       "\n",
       "            <div style=\"display: inline-block;\">\n",
       "                <div class=\"jupyter-widgets widget-label\" style=\"text-align: center;\">\n",
       "                    Figure\n",
       "                </div>\n",
       "                <img src='data:image/png;base64,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' width=640.0/>\n",
       "            </div>\n",
       "        "
      ],
      "text/plain": [
       "Canvas(toolbar=Toolbar(toolitems=[('Home', 'Reset original view', 'home', 'home'), ('Back', 'Back to previous …"
      ]
     },
     "metadata": {},
     "output_type": "display_data"
    }
   ],
   "source": [
    "si.plot_agreement_matrix(comp_KS2_KS25auto, unit_ticks=False)"
   ]
  },
  {
   "cell_type": "markdown",
   "metadata": {},
   "source": [
    "### Compare multiple sorters\n",
    "\n",
    "In 2020, the spike interface team publish an article to demonstrate that sorters do not agree on the results.\n",
    "See this https://elifesciences.org/articles/61834\n",
    "\n",
    "Here is a direct illustration of the phenomenom on this dataset."
   ]
  },
  {
   "cell_type": "code",
   "execution_count": 130,
   "metadata": {},
   "outputs": [
    {
     "name": "stdout",
     "output_type": "stream",
     "text": [
      "Multicomaprison step 1: pairwise comparison\n",
      "  Comparing: KS2 and KS25\n",
      "Multicomparison step 2: make graph\n",
      "Multicomaprison step 3: clean graph\n",
      "Removed 0 duplicate nodes\n",
      "Multicomparison step 4: extract agreement from graph\n"
     ]
    }
   ],
   "source": [
    "mcmp = si.compare_multiple_sorters([sorting_KS2, sorting_KS25], ['KS2', 'KS25'], \n",
    "                                   spiketrain_mode='union', verbose=True)"
   ]
  },
  {
   "cell_type": "code",
   "execution_count": 131,
   "metadata": {},
   "outputs": [
    {
     "data": {
      "application/vnd.jupyter.widget-view+json": {
       "model_id": "56ec8733d2db42f68583cd7c3a1acc11",
       "version_major": 2,
       "version_minor": 0
      },
      "image/png": "[encoded data removed]",
      "text/html": [
       "\n",
       "            <div style=\"display: inline-block;\">\n",
       "                <div class=\"jupyter-widgets widget-label\" style=\"text-align: center;\">\n",
       "                    Figure\n",
       "                </div>\n",
       "                <img src='data:image/png;base64,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' width=640.0/>\n",
       "            </div>\n",
       "        "
      ],
      "text/plain": [
       "Canvas(toolbar=Toolbar(toolitems=[('Home', 'Reset original view', 'home', 'home'), ('Back', 'Back to previous …"
      ]
     },
     "metadata": {},
     "output_type": "display_data"
    },
    {
     "data": {
      "application/vnd.jupyter.widget-view+json": {
       "model_id": "1cb90806953d4da2b0179e897d823488",
       "version_major": 2,
       "version_minor": 0
      },
      "image/png": "[encoded data removed]",
      "text/html": [
       "\n",
       "            <div style=\"display: inline-block;\">\n",
       "                <div class=\"jupyter-widgets widget-label\" style=\"text-align: center;\">\n",
       "                    Figure\n",
       "                </div>\n",
       "                <img src='data:image/png;base64,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' width=640.0/>\n",
       "            </div>\n",
       "        "
      ],
      "text/plain": [
       "Canvas(toolbar=Toolbar(toolitems=[('Home', 'Reset original view', 'home', 'home'), ('Back', 'Back to previous …"
      ]
     },
     "metadata": {},
     "output_type": "display_data"
    }
   ],
   "source": [
    "w = si.plot_multicomparison_agreement(mcmp)\n",
    "w = si.plot_multicomparison_agreement_by_sorter(mcmp)"
   ]
  },
  {
   "cell_type": "code",
   "execution_count": 132,
   "metadata": {},
   "outputs": [
    {
     "name": "stdout",
     "output_type": "stream",
     "text": [
      "AgreementSortingExtractor: 60 units - 1 segments - 30.0kHz\n"
     ]
    }
   ],
   "source": [
    "agreement_sorting = mcmp.get_agreement_sorting(minimum_agreement_count=2)\n",
    "print(agreement_sorting)"
   ]
  },
  {
   "cell_type": "markdown",
   "metadata": {
    "pycharm": {
     "name": "#%% md\n"
    }
   },
   "source": [
    "# 10. Exporters <a class=\"anchor\" id=\"exporters\"></a>"
   ]
  },
  {
   "cell_type": "markdown",
   "metadata": {
    "pycharm": {
     "name": "#%% md\n"
    }
   },
   "source": [
    "## Export to Phy for manual curation\n",
    "\n",
    "To perform manual curation we can export the data to [Phy](https://github.com/cortex-lab/phy). "
   ]
  },
  {
   "cell_type": "code",
   "execution_count": 133,
   "metadata": {
    "pycharm": {
     "name": "#%%\n"
    }
   },
   "outputs": [
    {
     "name": "stdout",
     "output_type": "stream",
     "text": [
      "Run:\n",
      "phy template-gui  /data_local/DataSpikeSorting/SI_tutorial_cambridgeneurotech_2023/phy_KS25/params.py\n"
     ]
    }
   ],
   "source": [
    "si.export_to_phy(we, output_folder=base_folder / 'phy_KS25', \n",
    "                 compute_amplitudes=False, compute_pc_features=False, copy_binary=False,\n",
    "                 **job_kwargs)"
   ]
  },
  {
   "cell_type": "markdown",
   "metadata": {},
   "source": [
    "![phy](./phy.png)"
   ]
  },
  {
   "cell_type": "markdown",
   "metadata": {
    "pycharm": {
     "name": "#%% md\n"
    }
   },
   "source": [
    "After curating the results we can reload it using the `PhySortingExtractor` and exclude the units that we labeled as `noise`:\n",
    "\n",
    "`sorting_phy_curated = si.read_phy(base_folder / 'phy_KS25/', exclude_cluster_groups=['noise'])`"
   ]
  },
  {
   "cell_type": "markdown",
   "metadata": {},
   "source": [
    "## Export a report to a folder\n",
    "\n"
   ]
  },
  {
   "cell_type": "code",
   "execution_count": null,
   "metadata": {},
   "outputs": [],
   "source": [
    "si.export_report(we, output_folder=base_folder / 'report_KS25')"
   ]
  },
  {
   "cell_type": "markdown",
   "metadata": {},
   "source": [
    "### Et voilà!"
   ]
  }
 ],
 "metadata": {
  "kernelspec": {
   "display_name": "si",
   "language": "python",
   "name": "python3"
  },
  "language_info": {
   "codemirror_mode": {
    "name": "ipython",
    "version": 3
   },
   "file_extension": ".py",
   "mimetype": "text/x-python",
   "name": "python",
   "nbconvert_exporter": "python",
   "pygments_lexer": "ipython3",
   "version": "3.9.21"
  },
  "pycharm": {
   "stem_cell": {
    "cell_type": "raw",
    "metadata": {
     "collapsed": false
    },
    "source": []
   }
  }
 },
 "nbformat": 4,
 "nbformat_minor": 4
}
